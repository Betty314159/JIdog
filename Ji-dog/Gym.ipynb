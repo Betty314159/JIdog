{
 "cells": [
  {
   "cell_type": "code",
   "execution_count": null,
   "id": "e669bc0e-2b25-44cf-a653-4bd2fc112f07",
   "metadata": {},
   "outputs": [],
   "source": [
    "import ji_dog_gym\n"
   ]
  },
  {
   "cell_type": "code",
   "execution_count": null,
   "id": "8b4f0435-8819-453d-88a6-987ec7fe5259",
   "metadata": {},
   "outputs": [],
   "source": [
    "env = QuadrupedEnv()\n",
    "model = PPO('MlpPolicy', env, verbose=1)\n",
    "\n",
    "# 开始训练\n",
    "model.learn(total_timesteps=100000)\n",
    "\n",
    "# 保存训练好的模型\n",
    "model.save(\"ppo_quadruped_isaac_sim\")\n",
    "\n",
    "# 使用训练好的模型进行仿真\n",
    "obs = env.reset()\n",
    "for _ in range(1000):\n",
    "    action, _states = model.predict(obs, deterministic=True)\n",
    "    obs, reward, done, info = env.step(action)\n",
    "    if done:\n",
    "        obs = env.reset()\n"
   ]
  },
  {
   "cell_type": "code",
   "execution_count": null,
   "id": "2aa59abf-4f53-4a33-911d-8ab2dc8f3307",
   "metadata": {},
   "outputs": [],
   "source": []
  },
  {
   "cell_type": "code",
   "execution_count": null,
   "id": "5383205e-00e9-416b-848f-73cdd8592c59",
   "metadata": {},
   "outputs": [],
   "source": []
  }
 ],
 "metadata": {
  "kernelspec": {
   "display_name": "Python 3 (ipykernel)",
   "language": "python",
   "name": "python3"
  },
  "language_info": {
   "codemirror_mode": {
    "name": "ipython",
    "version": 3
   },
   "file_extension": ".py",
   "mimetype": "text/x-python",
   "name": "python",
   "nbconvert_exporter": "python",
   "pygments_lexer": "ipython3",
   "version": "3.9.19"
  }
 },
 "nbformat": 4,
 "nbformat_minor": 5
}
