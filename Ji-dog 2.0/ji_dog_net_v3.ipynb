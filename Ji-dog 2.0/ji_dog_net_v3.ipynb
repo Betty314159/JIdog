{
 "cells": [
  {
   "cell_type": "code",
   "execution_count": 1,
   "id": "75acd808-8187-4452-9f57-ec52fd472397",
   "metadata": {},
   "outputs": [],
   "source": [
    "import torch\n",
    "import gym\n",
    "\n",
    "import numpy as np\n",
    "\n",
    "# from ji_dog_net_v1 import PPO_Clip\n",
    "# from ji_dog_net_v1 import ActorCritic_Clip\n",
    "# from ji_dog_net_v1 import process_state\n",
    "\n",
    "from ji_dog_net_v2 import PPO_Penalty\n",
    "from ji_dog_net_v2 import ActorCritic_Penalty\n",
    "\n",
    "from ji_dog_net_v3 import PPO_Clip\n",
    "from ji_dog_net_v3 import ActorCritic_Clip\n",
    "from ji_dog_net_v3 import process_state\n"
   ]
  },
  {
   "cell_type": "markdown",
   "id": "45f3836a-6b29-469c-bf79-7cb77672f023",
   "metadata": {},
   "source": [
    "## Check device"
   ]
  },
  {
   "cell_type": "code",
   "execution_count": 2,
   "id": "05c5a862-f6b9-4cd5-923c-4d2ed509dd5c",
   "metadata": {},
   "outputs": [
    {
     "name": "stdout",
     "output_type": "stream",
     "text": [
      "============================================================================================\n",
      "Device set to : NVIDIA GeForce RTX 4060 Laptop GPU\n",
      "============================================================================================\n"
     ]
    }
   ],
   "source": [
    "print(\"============================================================================================\")\n",
    "# set device to cpu or cuda\n",
    "device = torch.device('cpu')\n",
    "if(torch.cuda.is_available()): \n",
    "    device = torch.device('cuda:0') \n",
    "    torch.cuda.empty_cache()\n",
    "    print(\"Device set to : \" + str(torch.cuda.get_device_name(device)))\n",
    "else:\n",
    "    print(\"Device set to : cpu\")\n",
    "print(\"============================================================================================\")\n"
   ]
  },
  {
   "cell_type": "markdown",
   "id": "2e6f026d-a1a8-4b35-84b6-eb95dadbb871",
   "metadata": {},
   "source": [
    "## Test ACNet"
   ]
  },
  {
   "cell_type": "code",
   "execution_count": 3,
   "id": "000f3284-c8fe-4914-aad9-be59a2cb2e3a",
   "metadata": {
    "scrolled": true
   },
   "outputs": [
    {
     "name": "stdout",
     "output_type": "stream",
     "text": [
      "Action output: tensor([[ 0.9113, -0.1036,  0.4111,  1.4133]], device='cuda:0')\n",
      "Action log probability: tensor([-5.8025], device='cuda:0')\n",
      "State value output: tensor([-0.0248], device='cuda:0', grad_fn=<ViewBackward0>)\n"
     ]
    }
   ],
   "source": [
    "from torchviz import make_dot\n",
    "state_dim = 20  \n",
    "action_dim = 4 \n",
    "ppo = PPO_Clip(state_dim, action_dim, lr_actor=0.0003, lr_critic=0.001, gamma=0.99, K_epochs=4, eps_clip=0.2)\n",
    "state = torch.rand((state_dim,)).to(device)  \n",
    "action, action_logprob, hidden_actor = ppo.policy.act(state)\n",
    "\n",
    "print(\"Action output:\", action)\n",
    "print(\"Action log probability:\", action_logprob)\n",
    "\n",
    "state_value = ppo.policy.evaluate_critic(state)\n",
    "\n",
    "print(\"State value output:\", state_value)\n",
    "\n",
    "ppo.buffer.rewards.append(1.0)\n",
    "ppo.buffer.is_terminals.append(False)\n"
   ]
  },
  {
   "cell_type": "code",
   "execution_count": 4,
   "id": "7f538080-d0d4-4c5c-ad89-c2685298155e",
   "metadata": {},
   "outputs": [
    {
     "name": "stdout",
     "output_type": "stream",
     "text": [
      "Action output: tensor([[-0.6287, -0.7201, -0.1701, -0.4470]], device='cuda:0')\n",
      "Action log probability: tensor([-3.2675], device='cuda:0')\n",
      "State value output: tensor([0.0498], device='cuda:0', grad_fn=<ViewBackward0>)\n"
     ]
    }
   ],
   "source": [
    "from torchviz import make_dot \n",
    "state_dim = 20  \n",
    "action_dim = 4 \n",
    "ppo = PPO_Penalty(state_dim, action_dim, lr_actor=0.0001, lr_critic=0.001, gamma=0.99, K_epochs=4, eps_clip=0.2, kl_target=0.01, kl_penalty_coef=0.5, action_std_init=0.6)\n",
    "state = torch.rand((state_dim,)).to(device)  \n",
    "action, action_logprob, hidden_actor = ppo.policy.act(state)\n",
    "\n",
    "print(\"Action output:\", action)\n",
    "print(\"Action log probability:\", action_logprob)\n",
    "\n",
    "state_value = ppo.policy.evaluate_critic(state)\n",
    "\n",
    "print(\"State value output:\", state_value)\n",
    "\n",
    "ppo.buffer.rewards.append(1.0) \n",
    "ppo.buffer.is_terminals.append(False) "
   ]
  },
  {
   "cell_type": "markdown",
   "id": "457a6739-84b9-4042-a8ba-305c34c2564c",
   "metadata": {},
   "source": [
    "## Train PPO"
   ]
  },
  {
   "cell_type": "code",
   "execution_count": 5,
   "id": "0ef3f42b-7328-4388-a525-bbd342e51227",
   "metadata": {
    "scrolled": true
   },
   "outputs": [
    {
     "name": "stdout",
     "output_type": "stream",
     "text": [
      "Starting kit application with the following args:  ['/home/bai/.local/share/ov/pkg/isaac-sim-4.2.0/exts/omni.isaac.kit/omni/isaac/kit/simulation_app.py', '/home/bai/.local/share/ov/pkg/isaac-sim-4.2.0/apps/omni.isaac.sim.python.kit', '--/app/tokens/exe-path=/home/bai/.local/share/ov/pkg/isaac-sim-4.2.0/kit', '--/persistent/app/viewport/displayOptions=3094', '--/rtx/materialDb/syncLoads=True', '--/rtx/hydra/materialSyncLoads=True', '--/omni.kit.plugin/syncUsdLoads=True', '--/app/renderer/resolution/width=1280', '--/app/renderer/resolution/height=720', '--/app/window/width=1440', '--/app/window/height=900', '--/renderer/multiGpu/enabled=True', '--/app/fastShutdown=False', '--ext-folder', '/home/bai/.local/share/ov/pkg/isaac-sim-4.2.0/exts', '--ext-folder', '/home/bai/.local/share/ov/pkg/isaac-sim-4.2.0/apps', '--/physics/cudaDevice=0', '--portable', '--no-window', '--/app/window/hideUi=1']\n",
      "Passing the following args to the base kit application:  ['-f', '/home/bai/.local/share/jupyter/runtime/kernel-a9f79c83-e385-45d6-b98b-c258b0b7fced.json']\n",
      "[Warning] [omni.isaac.kit.simulation_app] fast shutdown not supported with jupyter notebooks\n",
      "[Info] [carb] Logging to file: /home/bai/.local/share/ov/pkg/isaac-sim-4.2.0/kit/logs/Kit/Isaac-Sim/4.2/kit_20241122_160324.log\n",
      "2024-11-22 08:03:24 [0ms] [Warning] [omni.kit.app.plugin] No crash reporter present, dumps uploading isn't available.\n",
      "[0.080s] [ext: omni.blobkey-1.1.2] startup\n",
      "[0.080s] [ext: omni.kit.async_engine-0.0.1] startup\n",
      "[0.371s] [ext: omni.stats-1.0.1] startup\n",
      "[0.372s] [ext: omni.datastore-0.0.0] startup\n",
      "[0.377s] [ext: omni.client-1.2.0] startup\n",
      "[0.395s] [ext: omni.ujitso.default-1.0.0] startup\n",
      "[0.396s] [ext: omni.gpu_foundation.shadercache.vulkan-1.0.0] startup\n",
      "[0.397s] [ext: omni.hsscclient-1.1.1] startup\n",
      "[0.398s] [ext: omni.assets.plugins-0.0.0] startup\n",
      "[0.399s] [ext: omni.gpu_foundation-0.0.0] startup\n",
      "[0.403s] [ext: carb.windowing.plugins-1.0.0] startup\n",
      "[0.410s] [ext: omni.kit.renderer.init-0.0.0] startup\n",
      "2024-11-22 08:03:25 [479ms] [Warning] [gpu.foundation.plugin] Skipping unsupported non-NVIDIA GPU: Intel(R) Graphics (RPL-P)\n",
      "2024-11-22 08:03:25 [479ms] [Warning] [gpu.foundation.plugin] Skipping unsupported non-NVIDIA GPU: Intel(R) Graphics (RPL-P)\n",
      "\n",
      "|---------------------------------------------------------------------------------------------|\n",
      "| Driver Version: 535.183.01    | Graphics API: Vulkan\n",
      "|=============================================================================================|\n",
      "| GPU | Name                             | Active | LDA | GPU Memory | Vendor-ID | LUID       |\n",
      "|     |                                  |        |     |            | Device-ID | UUID       |\n",
      "|     |                                  |        |     |            | Bus-ID    |            |\n",
      "|---------------------------------------------------------------------------------------------|\n",
      "| 0   | NVIDIA GeForce RTX 4060 Laptop.. | Yes: 0 |     | 8188    MB | 10de      | 0          |\n",
      "|     |                                  |        |     |            | 28e0      | 68c71b6b.. |\n",
      "|     |                                  |        |     |            | 1         |            |\n",
      "|---------------------------------------------------------------------------------------------|\n",
      "| 1   | Intel(R) Graphics (RPL-P)        |        |     | 23863   MB | 8086      | 0          |\n",
      "|     |                                  |        |     |            | a7a0      | 8680a0a7.. |\n",
      "|     |                                  |        |     |            | 0         |            |\n",
      "|=============================================================================================|\n",
      "| OS: 22.04.5 LTS (Jammy Jellyfish) ubuntu, Version: 22.04.5, Kernel: 6.8.0-49-generic\n",
      "| XServer Vendor: The X.Org Foundation, XServer Version: 12101004 (1.21.1.4)\n",
      "| Processor: 13th Gen Intel(R) Core(TM) i9-13900H | Cores: 14 | Logical: 28\n",
      "|---------------------------------------------------------------------------------------------|\n",
      "| Total Memory (MB): 31817 | Free Memory: 11765\n",
      "| Total Page/Swap (MB): 2047 | Free Page/Swap: 2047\n",
      "|---------------------------------------------------------------------------------------------|\n",
      "2024-11-22 08:03:25 [659ms] [Warning] [gpu.foundation.plugin] IOMMU is enabled.\n",
      "[0.824s] [ext: omni.kit.pipapi-0.0.0] startup\n",
      "[0.825s] [ext: omni.kit.pip_archive-0.0.0] startup\n",
      "[0.825s] [ext: omni.pip.compute-1.4.0] startup\n",
      "[0.826s] [ext: omni.pip.cloud-1.1.3] startup\n",
      "[0.827s] [ext: omni.isaac.core_archive-2.3.0] startup\n",
      "[0.827s] [ext: omni.materialx.libs-1.0.4] startup\n",
      "[0.833s] [ext: omni.isaac.ml_archive-2.0.1] startup\n",
      "[0.834s] [ext: omni.kit.telemetry-0.5.0] startup\n",
      "[0.858s] [ext: omni.usd.config-1.0.4] startup\n",
      "[0.861s] [ext: omni.gpucompute.plugins-0.0.0] startup\n",
      "[0.861s] [ext: omni.usd.libs-1.0.1] startup\n",
      "[0.950s] [ext: omni.iray.libs-0.0.0] startup\n",
      "[0.954s] [ext: omni.mdl.neuraylib-0.2.8] startup\n",
      "[0.955s] [ext: omni.mdl-55.0.1] startup\n",
      "[0.972s] [ext: omni.kit.usd.mdl-1.0.1] startup\n",
      "[1.078s] [ext: omni.kit.loop-isaac-1.2.0] startup\n",
      "[1.078s] [ext: omni.kit.test-1.1.0] startup\n",
      "[1.097s] [ext: omni.appwindow-1.1.8] startup\n",
      "[1.098s] [ext: omni.kit.renderer.core-1.0.2] startup\n",
      "[1.106s] [ext: omni.kit.renderer.capture-0.0.0] startup\n",
      "[1.108s] [ext: omni.kit.renderer.imgui-1.0.1] startup\n",
      "[1.160s] [ext: omni.ui-2.25.22] startup\n",
      "[1.170s] [ext: omni.kit.mainwindow-1.0.3] startup\n",
      "[1.170s] [ext: carb.audio-0.1.0] startup\n",
      "[1.173s] [ext: omni.uiaudio-1.0.0] startup\n",
      "[1.174s] [ext: omni.kit.uiapp-0.0.0] startup\n",
      "[1.174s] [ext: omni.usd.schema.isaac-2.1.0] startup\n",
      "[1.181s] [ext: omni.usd.schema.audio-0.0.0] startup\n",
      "[1.184s] [ext: omni.usd.schema.anim-0.0.0] startup\n",
      "[1.204s] [ext: omni.usd.schema.geospatial-0.0.0] startup\n",
      "[1.206s] [ext: omni.usd.schema.semantics-0.0.0] startup\n",
      "[1.208s] [ext: omni.usd.schema.omnigraph-1.0.0] startup\n",
      "[1.214s] [ext: omni.anim.navigation.schema-106.1.0] startup\n",
      "[1.217s] [ext: omni.usd.schema.scene.visualization-2.0.2] startup\n",
      "[1.218s] [ext: omni.usd.schema.omniscripting-1.0.0] startup\n",
      "[1.223s] [ext: omni.anim.graph.schema-106.1.0] startup\n",
      "[1.229s] [ext: omni.usd.schema.physx-106.1.9] startup\n",
      "[1.256s] [ext: omni.usd.schema.forcefield-106.1.9] startup\n",
      "[1.261s] [ext: omni.graph.exec-0.9.4] startup\n",
      "[1.261s] [ext: omni.kit.usd_undo-0.1.8] startup\n",
      "[1.262s] [ext: omni.kit.actions.core-1.0.0] startup\n",
      "[1.263s] [ext: omni.kit.exec.core-0.13.4] startup\n",
      "[1.266s] [ext: omni.usd_resolver-1.0.0] startup\n",
      "[1.269s] [ext: omni.kit.commands-1.4.9] startup\n",
      "[1.272s] [ext: omni.activity.core-1.0.1] startup\n",
      "[1.273s] [ext: omni.usd.core-1.4.1] startup\n",
      "[1.276s] [ext: omni.resourcemonitor-105.0.1] startup\n",
      "[1.278s] [ext: omni.kit.window.popup_dialog-2.0.24] startup\n",
      "[1.281s] [ext: omni.timeline-1.0.10] startup\n",
      "[1.283s] [ext: omni.kit.widget.nucleus_connector-1.1.9] startup\n",
      "[1.284s] [ext: usdrt.scenegraph-7.5.0] startup\n",
      "[1.320s] [ext: omni.kit.audiodeviceenum-1.0.1] startup\n",
      "[1.321s] [ext: omni.hydra.usdrt_delegate-7.5.1] startup\n",
      "[1.336s] [ext: omni.hydra.scene_delegate-0.3.3] startup\n",
      "[1.340s] [ext: omni.usd-1.12.2] startup\n",
      "[1.378s] [ext: omni.kit.menu.core-1.0.4] startup\n",
      "[1.379s] [ext: omni.kit.collaboration.telemetry-1.0.0] startup\n",
      "[1.379s] [ext: omni.kit.property.adapter.core-1.0.1] startup\n",
      "[1.381s] [ext: omni.kit.menu.utils-1.5.27] startup\n",
      "[1.386s] [ext: omni.kit.clipboard-1.0.4] startup\n",
      "[1.387s] [ext: omni.kit.collaboration.channel_manager-1.0.12] startup\n",
      "[1.387s] [ext: omni.kit.property.adapter.usd-1.0.1] startup\n",
      "[1.388s] [ext: omni.kit.widget.options_menu-1.1.6] startup\n",
      "[1.390s] [ext: omni.kit.widget.graph-1.12.15] startup\n",
      "[1.394s] [ext: omni.kit.widget.searchfield-1.1.8] startup\n",
      "[1.394s] [ext: omni.kit.widget.filter-1.1.4] startup\n",
      "[1.395s] [ext: omni.kit.property.adapter.fabric-1.0.1] startup\n",
      "[1.396s] [ext: omni.ui_query-1.1.4] startup\n",
      "[1.397s] [ext: omni.kit.window.extensions-1.4.11] startup\n",
      "[1.401s] [ext: omni.kit.usd.layers-2.1.36] startup\n",
      "[1.407s] [ext: omni.kit.widget.context_menu-1.2.2] startup\n",
      "[1.408s] [ext: omni.hydra.rtx.shadercache.vulkan-1.0.0] startup\n",
      "[1.409s] [ext: omni.kit.notification_manager-1.0.9] startup\n",
      "[1.410s] [ext: omni.kit.hotkeys.core-1.3.5] startup\n",
      "[1.411s] [ext: omni.kit.context_menu-1.8.1] startup\n",
      "[1.412s] [ext: omni.kit.widget.prompt-1.0.7] startup\n",
      "[1.412s] [ext: omni.kit.helper.file_utils-0.1.8] startup\n",
      "[1.413s] [ext: omni.kit.widget.nucleus_info-1.0.2] startup\n",
      "[1.414s] [ext: omni.kit.widget.filebrowser-2.10.51] startup\n",
      "[1.417s] [ext: omni.kit.search_core-1.0.5] startup\n",
      "[1.418s] [ext: omni.kit.widget.path_field-2.0.10] startup\n",
      "[1.418s] [ext: omni.ui.scene-1.10.3] startup\n",
      "[1.422s] [ext: omni.kit.widget.search_delegate-1.0.5] startup\n",
      "[1.423s] [ext: omni.kit.widget.options_button-1.0.3] startup\n",
      "[1.423s] [ext: omni.kit.widget.browser_bar-2.0.10] startup\n",
      "[1.424s] [ext: omni.volume-0.5.0] startup\n",
      "[1.427s] [ext: omni.kit.window.filepicker-2.10.40] startup\n",
      "[1.432s] [ext: omni.ujitso.processor.texture-1.0.0] startup\n",
      "[1.432s] [ext: omni.kit.window.file_exporter-1.0.30] startup\n",
      "[1.434s] [ext: omni.ujitso.client-0.0.0] startup\n",
      "[1.434s] [ext: omni.kit.widget.stage-2.11.2] startup\n",
      "[1.442s] [ext: omni.kit.widget.live_session_management.ui-1.0.1] startup\n",
      "[1.444s] [ext: omni.kit.collaboration.presence_layer-1.0.9] startup\n",
      "[1.445s] [ext: omni.hydra.rtx-1.0.0] startup\n",
      "[1.463s] [ext: omni.inspect-1.0.1] startup\n",
      "[1.465s] [ext: omni.kit.widget.searchable_combobox-1.0.6] startup\n",
      "[1.466s] [ext: omni.kit.window.file_importer-1.1.12] startup\n",
      "[1.467s] [ext: omni.kit.stage_template.core-1.1.22] startup\n",
      "[1.467s] [ext: omni.kit.widget.settings-1.2.2] startup\n",
      "[1.469s] [ext: omni.kit.window.file-1.3.54] startup\n",
      "[1.471s] [ext: omni.kit.window.drop_support-1.0.3] startup\n",
      "[1.471s] [ext: omni.kit.window.content_browser_registry-0.0.6] startup\n",
      "[1.471s] [ext: omni.kit.window.preferences-1.6.0] startup\n",
      "[1.477s] [ext: omni.kit.window.content_browser-2.9.18] startup\n",
      "[1.487s] [ext: omni.kit.widget.live_session_management-1.2.20] startup\n",
      "[1.489s] [ext: omni.kit.widget.text_editor-1.0.2] startup\n",
      "[1.490s] [ext: omni.kit.hydra_texture-1.3.9] startup\n",
      "[1.494s] [ext: omni.kit.viewport.legacy_gizmos-1.1.0] startup\n",
      "[1.496s] [ext: omni.kit.raycast.query-1.0.5] startup\n",
      "[1.501s] [ext: omni.kit.material.library-1.5.6] startup\n",
      "[1.506s] [ext: omni.kit.widget.viewport-106.1.0] startup\n",
      "[1.509s] [ext: omni.kit.viewport.registry-104.0.6] startup\n",
      "[1.510s] [ext: omni.hydra.engine.stats-1.0.2] startup\n",
      "[1.514s] [ext: omni.kit.widget.highlight_label-1.0.2] startup\n",
      "[1.515s] [ext: omni.kit.viewport.window-107.0.6] startup\n",
      "[1.530s] [ext: omni.kit.window.property-1.11.3] startup\n",
      "[1.531s] [ext: omni.graph.core-2.179.2] startup\n",
      "[1.533s] [ext: omni.graph.tools-1.79.0] startup\n",
      "[1.549s] [ext: omni.kit.viewport.utility-1.0.17] startup\n",
      "[1.550s] [ext: omni.kit.property.usd-4.2.8] startup\n",
      "[1.556s] [ext: omni.debugdraw-0.1.3] startup\n",
      "[1.560s] [ext: omni.graph-1.140.0] startup\n",
      "[1.596s] [ext: omni.graph.ui-1.70.2] startup\n",
      "[1.609s] [ext: omni.kvdb-106.1.9] startup\n",
      "[1.612s] [ext: omni.graph.image.core-0.4.5] startup\n",
      "[1.614s] [ext: omni.localcache-106.1.9] startup\n",
      "[1.615s] [ext: omni.graph.image.nodes-1.1.0] startup\n",
      "[1.618s] [ext: omni.usdphysics-106.1.9] startup\n",
      "[1.622s] [ext: omni.physx.foundation-106.1.9] startup\n",
      "[1.623s] [ext: omni.convexdecomposition-106.1.9] startup\n",
      "[1.628s] [ext: omni.graph.nodes-1.146.1] startup\n",
      "[1.636s] [ext: omni.physx.cooking-106.1.9] startup\n",
      "[1.648s] [ext: omni.kit.primitive.mesh-1.0.17] startup\n",
      "[1.651s] [ext: omni.physx-106.1.9] startup\n",
      "[1.663s] [ext: omni.kit.stage_templates-1.2.5] startup\n",
      "[1.665s] [ext: omni.isaac.version-1.1.0] startup\n",
      "[1.666s] [ext: omni.kit.widget.material_preview-1.0.16] startup\n",
      "[1.668s] [ext: omni.isaac.nucleus-0.3.1] startup\n",
      "[1.669s] [ext: omni.physics.tensors-106.1.9] startup\n",
      "[1.676s] [ext: omni.physx.stageupdate-106.1.9] startup\n",
      "[1.678s] [ext: omni.graph.action_core-1.1.6] startup\n",
      "[1.682s] [ext: omni.warp.core-1.2.1] startup\n",
      "[1.755s] [ext: omni.physx.tensors-106.1.9] startup\n",
      "[1.759s] [ext: omni.graph.scriptnode-1.20.1] startup\n",
      "[1.760s] [ext: omni.kit.manipulator.viewport-107.0.0] startup\n",
      "[1.763s] [ext: omni.graph.action_nodes-1.24.0] startup\n",
      "[1.772s] [ext: omni.kit.ui_test-1.3.2] startup\n",
      "[1.778s] [ext: omni.isaac.core-3.19.5] startup\n",
      "[2.041s] [ext: omni.graph.visualization.nodes-2.1.1] startup\n",
      "[2.046s] [ext: omni.graph.action-1.102.1] startup\n",
      "[2.048s] [ext: omni.kit.window.cursor-1.1.2] startup\n",
      "[2.051s] [ext: omni.isaac.ui-0.16.0] startup\n",
      "[2.056s] [ext: omni.kit.viewport.menubar.core-106.1.0] startup\n",
      "[2.069s] [ext: omni.kit.graph.delegate.default-1.2.2] startup\n",
      "[2.070s] [ext: omni.syntheticdata-0.6.9] startup\n",
      "[2.101s] [ext: omni.kit.graph.usd.commands-1.3.1] startup\n",
      "[2.104s] [ext: omni.kit.graph.editor.core-1.5.3] startup\n",
      "[2.108s] [ext: omni.kit.numpy.common-0.1.2] startup\n",
      "[2.110s] [ext: omni.warp-1.2.1] startup\n",
      "[2.116s] [ext: omni.kit.window.material_graph-1.8.18] startup\n",
      "[2.139s] [ext: omni.isaac.dynamic_control-1.3.8] startup\n",
      "[2.168s] [ext: omni.replicator.core-1.11.20] startup\n",
      "2024-11-22 08:03:26 [2,144ms] [Warning] [omni.replicator.core.scripts.annotators] Annotator PostProcessDispatch is already registered, overwriting annotator template\n",
      "Warp 1.2.1 initialized:\n",
      "   CUDA Toolkit 11.8, Driver 12.2\n",
      "   Devices:\n",
      "     \"cpu\"      : \"x86_64\"\n",
      "     \"cuda:0\"   : \"NVIDIA GeForce RTX 4060 Laptop GPU\" (8 GiB, sm_89, mempool enabled)\n",
      "   Kernel cache:\n",
      "     /home/bai/.cache/warp/1.2.1\n",
      "[2.311s] [ext: omni.isaac.lula-3.0.1] startup\n",
      "[2.319s] [ext: omni.isaac.surface_gripper-1.0.1] startup\n",
      "[2.324s] [ext: omni.isaac.core_nodes-1.16.3] startup\n",
      "[2.344s] [ext: omni.isaac.motion_generation-7.1.0] startup\n",
      "[2.356s] [ext: omni.isaac.manipulators-2.1.0] startup\n",
      "[2.360s] [ext: omni.isaac.franka-0.4.1] startup\n",
      "[2.364s] [ext: omni.kit.graph.widget.variables-2.1.0] startup\n",
      "[2.368s] [ext: omni.kit.graph.delegate.modern-1.10.6] startup\n",
      "[2.373s] [ext: omni.isaac.cortex-0.3.9] startup\n",
      "[2.374s] [ext: omni.graph.window.core-1.113.1] startup\n",
      "[2.405s] [ext: omni.isaac.wheeled_robots-2.3.3] startup\n",
      "[2.428s] [ext: omni.isaac.cortex.sample_behaviors-1.0.6] startup\n",
      "[2.432s] [ext: omni.graph.window.generic-1.26.0] startup\n",
      "[2.446s] [ext: omni.isaac.menu-0.7.3] startup\n",
      "[2.452s] [ext: omni.kit.widget.live-2.1.8] startup\n",
      "[2.458s] [ext: omni.kit.actions.window-1.1.1] startup\n",
      "[2.466s] [ext: omni.kit.widget.cache_indicator-2.0.10] startup\n",
      "[2.535s] [ext: omni.kit.hotkeys.window-1.4.5] startup\n",
      "2024-11-22 08:03:27 [2,476ms] [Warning] [omni.kit.widget.cache_indicator.cache_state_menu] Unable to detect Omniverse Cache Server. Consider installing it for better IO performance.\n",
      "[2.546s] [ext: omni.kit.ui.actions-1.0.2] startup\n",
      "[2.554s] [ext: omni.kit.widget.stage_icons-1.0.5] startup\n",
      "[2.556s] [ext: omni.kit.menu.common-1.1.7] startup\n",
      "[2.558s] [ext: omni.kit.selection-0.1.4] startup\n",
      "[2.560s] [ext: omni.isaac.kit-1.13.2] startup\n",
      "[2.560s] [ext: omni.isaac.block_world-1.0.0] startup\n",
      "[2.564s] [ext: omni.kit.window.stage-2.5.10] startup\n",
      "[2.574s] [ext: omni.isaac.debug_draw-1.1.0] startup\n",
      "[2.580s] [ext: omni.kit.menu.edit-1.1.24] startup\n",
      "[2.584s] [ext: omni.kit.menu.file-1.1.14] startup\n",
      "[2.587s] [ext: omni.kit.profiler.window-2.2.3] startup\n",
      "[2.594s] [ext: omni.kit.menu.stage-1.2.5] startup\n",
      "[2.594s] [ext: omni.isaac.occupancy_map-1.0.3] startup\n",
      "[2.600s] [ext: omni.importer.mjcf-1.1.1] startup\n",
      "[2.607s] [ext: omni.graph.window.action-1.28.0] startup\n",
      "[2.613s] [ext: omni.kit.property.camera-1.0.8] startup\n",
      "[2.616s] [ext: omni.kit.property.light-1.0.10] startup\n",
      "[2.617s] [ext: omni.kit.property.geometry-1.3.1] startup\n",
      "[2.620s] [ext: omni.hydra.scene_api-0.1.2] startup\n",
      "[2.624s] [ext: omni.kit.property.audio-1.0.14] startup\n",
      "[2.628s] [ext: omni.kit.property.render-1.1.2] startup\n",
      "[2.629s] [ext: omni.kit.property.transform-1.5.9] startup\n",
      "[2.633s] [ext: omni.kit.property.material-1.10.8] startup\n",
      "[2.637s] [ext: omni.kit.widget.layers-1.8.0] startup\n",
      "[2.645s] [ext: omni.kit.property.isaac-0.2.3] startup\n",
      "[2.647s] [ext: omni.kit.property.bundle-1.3.1] startup\n",
      "[2.649s] [ext: omni.sensors.nv.common-1.2.2-isaac-1] startup\n",
      "[2.659s] [ext: omni.kit.property.layer-1.1.8] startup\n",
      "[2.660s] [ext: omni.kit.stage_column.payload-2.0.0] startup\n",
      "[2.662s] [ext: omni.isaac.scene_blox-0.1.2] startup\n",
      "[2.663s] [ext: omni.sensors.nv.materials-1.2.1-isaac-1] startup\n",
      "[2.665s] [ext: omni.sensors.nv.wpm-1.2.1-isaac-1] startup\n",
      "[2.666s] [ext: omni.kit.viewport.actions-106.0.2] startup\n",
      "[2.670s] [ext: omni.sensors.nv.lidar-1.2.2-isaac-1] startup\n",
      "[2.674s] [ext: omni.sensors.nv.radar-1.2.1-isaac-1] startup\n",
      "[2.681s] [ext: omni.kit.viewport.menubar.display-107.0.2] startup\n",
      "[2.683s] [ext: omni.kit.manipulator.transform-104.7.4] startup\n",
      "[2.686s] [ext: omni.kit.widget.toolbar-1.7.2] startup\n",
      "[2.691s] [ext: omni.sensors.tiled-0.0.6] startup\n",
      "[2.693s] [ext: omni.sensors.nv.ids-1.1.0-isaac-1] startup\n",
      "[2.697s] [ext: omni.isaac.range_sensor-3.1.2] startup\n",
      "[2.710s] [ext: omni.usdphysics.ui-106.1.9] startup\n",
      "[2.730s] [ext: omni.physx.commands-106.1.9] startup\n",
      "[2.733s] [ext: omni.kit.manipulator.tool.snap-1.5.11] startup\n",
      "[2.737s] [ext: omni.isaac.sensor-12.9.1] startup\n",
      "[2.793s] [ext: omni.kit.manipulator.selector-1.1.1] startup\n",
      "[2.797s] [ext: omni.physx.ui-106.1.9] startup\n",
      "[2.831s] [ext: omni.isaac.quadruped-2.0.1] startup\n",
      "[2.838s] [ext: omni.kit.viewport.manipulator.transform-107.0.2] startup\n",
      "[2.841s] [ext: omni.physx.demos-106.1.9] startup\n",
      "[2.861s] [ext: omni.kit.property.physx-106.1.9] startup\n",
      "[2.929s] [ext: omni.kit.widget.calendar-1.0.8] startup\n",
      "[2.932s] [ext: omni.kit.manipulator.prim.core-107.0.4] startup\n",
      "[2.937s] [ext: omni.fabric.commands-1.1.5] startup\n",
      "[2.940s] [ext: omni.physx.vehicle-106.1.9] startup\n",
      "[2.957s] [ext: omni.kit.widget.extended_searchfield-1.0.28] startup\n",
      "[2.964s] [ext: omni.kit.manipulator.prim.fabric-107.0.3] startup\n",
      "[2.967s] [ext: omni.kit.manipulator.prim.usd-107.0.2] startup\n",
      "[2.969s] [ext: omni.kit.widget.timeline-105.0.1] startup\n",
      "[2.971s] [ext: omni.kit.window.commands-0.2.6] startup\n",
      "[2.974s] [ext: omni.physx.camera-106.1.9] startup\n",
      "[2.984s] [ext: omni.kit.manipulator.camera-105.0.5] startup\n",
      "[2.987s] [ext: omni.kit.viewport.menubar.camera-107.0.2] startup\n",
      "[2.991s] [ext: omni.kit.manipulator.prim-107.0.0] startup\n",
      "[2.992s] [ext: omni.kit.manipulator.selection-106.0.1] startup\n",
      "[2.993s] [ext: omni.kit.window.toolbar-1.6.1] startup\n",
      "[2.995s] [ext: omni.kit.stage_column.variant-1.0.13] startup\n",
      "[2.997s] [ext: omni.kit.viewport.menubar.render-106.1.1] startup\n",
      "[2.999s] [ext: omni.kit.viewport.menubar.settings-107.0.3] startup\n",
      "[3.004s] [ext: omni.physx.cct-106.1.9] startup\n",
      "[3.017s] [ext: omni.physx.graph-106.1.9] startup\n",
      "[3.038s] [ext: omni.physx.supportui-106.1.9] startup\n",
      "[3.058s] [ext: omni.physx.telemetry-106.1.9] startup\n",
      "[3.061s] [ext: omni.graph.ui_nodes-1.26.0] startup\n",
      "[3.066s] [ext: omni.kit.viewport.bundle-104.0.1] startup\n",
      "[3.066s] [ext: omni.isaac.universal_robots-0.3.5] startup\n",
      "[3.069s] [ext: omni.kit.window.console-0.2.13] startup\n",
      "[3.079s] [ext: omni.kit.window.script_editor-1.7.6] startup\n",
      "[3.083s] [ext: omni.kit.menu.create-1.0.16] startup\n",
      "[3.086s] [ext: omni.graph.bundle.action-2.4.1] startup\n",
      "[3.089s] [ext: omni.physx.bundle-106.1.9] startup\n",
      "[3.089s] [ext: omni.rtx.window.settings-0.6.17] startup\n",
      "[3.098s] [ext: omni.kit.window.status_bar-0.1.7] startup\n",
      "[3.102s] [ext: omni.kit.window.title-1.1.5] startup\n",
      "[3.104s] [ext: omni.replicator.isaac-1.15.2] startup\n",
      "[3.123s] [ext: omni.replicator.replicator_yaml-2.0.6] startup\n",
      "[3.146s] [ext: omni.rtx.settings.core-0.6.3] startup\n",
      "[3.152s] [ext: omni.kit.viewport.menubar.lighting-106.0.2] startup\n",
      "[3.163s] [ext: semantics.schema.editor-0.3.8] startup\n",
      "[3.172s] [ext: semantics.schema.property-1.0.4] startup\n",
      "[3.174s] [ext: omni.kit.viewport.rtx-104.0.1] startup\n",
      "[3.174s] [ext: omni.isaac.utils-1.0.1] startup\n",
      "[3.177s] [ext: omni.isaac.cloner-0.8.1] startup\n",
      "[3.180s] [ext: omni.importer.urdf-1.14.1] startup\n",
      "[3.217s] [ext: omni.kit.window.stats-0.1.6] startup\n",
      "[3.222s] [ext: omni.isaac.sim.python-4.2.0] startup\n",
      "[3.223s] Simulation App Starting\n",
      "[4.601s] app ready\n",
      "[5.113s] Simulation App Startup Complete\n",
      "Robot articulation successfully loaded: <omni.isaac.core.robots.robot.Robot object at 0x7d96a9f0eef0>\n"
     ]
    },
    {
     "name": "stderr",
     "output_type": "stream",
     "text": [
      "Training Episodes:   0%|                                | 0/400 [00:00<?, ?it/s]/home/bai/.local/share/ov/pkg/isaac-sim-4.2.0/exts/omni.isaac.ml_archive/pip_prebundle/torch/nn/modules/loss.py:538: UserWarning: Using a target size (torch.Size([1001])) that is different to the input size (torch.Size([1001, 1])). This will likely lead to incorrect results due to broadcasting. Please ensure they have the same size.\n",
      "  return F.mse_loss(input, target, reduction=self.reduction)\n",
      "Training Episodes:   0%|                      | 1/400 [00:18<2:01:09, 18.22s/it]"
     ]
    },
    {
     "name": "stdout",
     "output_type": "stream",
     "text": [
      "Episode 0 completed with reward: -1489.934117181719\n"
     ]
    },
    {
     "name": "stderr",
     "output_type": "stream",
     "text": [
      "Training Episodes:   3%|▌                    | 11/400 [03:13<1:56:43, 18.00s/it]"
     ]
    },
    {
     "name": "stdout",
     "output_type": "stream",
     "text": [
      "Episode 10 completed with reward: -699.6119692553793\n"
     ]
    },
    {
     "name": "stderr",
     "output_type": "stream",
     "text": [
      "Training Episodes:   5%|█                    | 21/400 [06:28<2:03:10, 19.50s/it]"
     ]
    },
    {
     "name": "stdout",
     "output_type": "stream",
     "text": [
      "Episode 20 completed with reward: -1065.4779202999928\n"
     ]
    },
    {
     "name": "stderr",
     "output_type": "stream",
     "text": [
      "Training Episodes:   8%|█▋                   | 31/400 [09:42<1:59:42, 19.46s/it]"
     ]
    },
    {
     "name": "stdout",
     "output_type": "stream",
     "text": [
      "Episode 30 completed with reward: -1325.2007310196352\n"
     ]
    },
    {
     "name": "stderr",
     "output_type": "stream",
     "text": [
      "Training Episodes:  10%|██▏                  | 41/400 [12:58<1:58:05, 19.74s/it]"
     ]
    },
    {
     "name": "stdout",
     "output_type": "stream",
     "text": [
      "Episode 40 completed with reward: -1421.6162689315574\n"
     ]
    },
    {
     "name": "stderr",
     "output_type": "stream",
     "text": [
      "Training Episodes:  13%|██▋                  | 51/400 [16:13<1:52:21, 19.32s/it]"
     ]
    },
    {
     "name": "stdout",
     "output_type": "stream",
     "text": [
      "Episode 50 completed with reward: -1851.8903247876387\n"
     ]
    },
    {
     "name": "stderr",
     "output_type": "stream",
     "text": [
      "Training Episodes:  15%|███▏                 | 61/400 [19:27<1:49:03, 19.30s/it]"
     ]
    },
    {
     "name": "stdout",
     "output_type": "stream",
     "text": [
      "Episode 60 completed with reward: -1511.5230072246552\n"
     ]
    },
    {
     "name": "stderr",
     "output_type": "stream",
     "text": [
      "Training Episodes:  18%|███▋                 | 71/400 [22:36<1:43:15, 18.83s/it]"
     ]
    },
    {
     "name": "stdout",
     "output_type": "stream",
     "text": [
      "Episode 70 completed with reward: -1649.5912095268236\n"
     ]
    },
    {
     "name": "stderr",
     "output_type": "stream",
     "text": [
      "Training Episodes:  20%|████▎                | 81/400 [25:43<1:39:46, 18.77s/it]"
     ]
    },
    {
     "name": "stdout",
     "output_type": "stream",
     "text": [
      "Episode 80 completed with reward: -1595.214042236409\n"
     ]
    },
    {
     "name": "stderr",
     "output_type": "stream",
     "text": [
      "Training Episodes:  23%|████▊                | 91/400 [28:55<1:40:49, 19.58s/it]"
     ]
    },
    {
     "name": "stdout",
     "output_type": "stream",
     "text": [
      "Episode 90 completed with reward: -1620.4223051759802\n"
     ]
    },
    {
     "name": "stderr",
     "output_type": "stream",
     "text": [
      "Training Episodes:  25%|█████               | 101/400 [32:12<1:41:27, 20.36s/it]"
     ]
    },
    {
     "name": "stdout",
     "output_type": "stream",
     "text": [
      "Episode 100 completed with reward: -1143.963842411203\n"
     ]
    },
    {
     "name": "stderr",
     "output_type": "stream",
     "text": [
      "Training Episodes:  28%|█████▌              | 111/400 [35:27<1:33:01, 19.31s/it]"
     ]
    },
    {
     "name": "stdout",
     "output_type": "stream",
     "text": [
      "Episode 110 completed with reward: -796.2408436366663\n"
     ]
    },
    {
     "name": "stderr",
     "output_type": "stream",
     "text": [
      "Training Episodes:  30%|██████              | 121/400 [38:38<1:29:17, 19.20s/it]"
     ]
    },
    {
     "name": "stdout",
     "output_type": "stream",
     "text": [
      "Episode 120 completed with reward: -925.2442288765424\n"
     ]
    },
    {
     "name": "stderr",
     "output_type": "stream",
     "text": [
      "Training Episodes:  33%|██████▌             | 131/400 [41:56<1:27:14, 19.46s/it]"
     ]
    },
    {
     "name": "stdout",
     "output_type": "stream",
     "text": [
      "Episode 130 completed with reward: -634.2625376599309\n"
     ]
    },
    {
     "name": "stderr",
     "output_type": "stream",
     "text": [
      "Training Episodes:  35%|███████             | 141/400 [45:04<1:21:06, 18.79s/it]"
     ]
    },
    {
     "name": "stdout",
     "output_type": "stream",
     "text": [
      "Episode 140 completed with reward: 302.68955297720566\n"
     ]
    },
    {
     "name": "stderr",
     "output_type": "stream",
     "text": [
      "Training Episodes:  38%|███████▌            | 151/400 [48:11<1:17:37, 18.70s/it]"
     ]
    },
    {
     "name": "stdout",
     "output_type": "stream",
     "text": [
      "Episode 150 completed with reward: -1093.3528478258095\n"
     ]
    },
    {
     "name": "stderr",
     "output_type": "stream",
     "text": [
      "Training Episodes:  40%|████████            | 161/400 [51:18<1:14:31, 18.71s/it]"
     ]
    },
    {
     "name": "stdout",
     "output_type": "stream",
     "text": [
      "Episode 160 completed with reward: -1711.8997903686775\n"
     ]
    },
    {
     "name": "stderr",
     "output_type": "stream",
     "text": [
      "Training Episodes:  43%|████████▌           | 171/400 [54:26<1:11:31, 18.74s/it]"
     ]
    },
    {
     "name": "stdout",
     "output_type": "stream",
     "text": [
      "Episode 170 completed with reward: -1131.3004395422142\n"
     ]
    },
    {
     "name": "stderr",
     "output_type": "stream",
     "text": [
      "Training Episodes:  45%|█████████           | 181/400 [57:33<1:08:16, 18.70s/it]"
     ]
    },
    {
     "name": "stdout",
     "output_type": "stream",
     "text": [
      "Episode 180 completed with reward: -1689.7022764377325\n"
     ]
    },
    {
     "name": "stderr",
     "output_type": "stream",
     "text": [
      "Training Episodes:  48%|████████▌         | 191/400 [1:00:41<1:05:21, 18.76s/it]"
     ]
    },
    {
     "name": "stdout",
     "output_type": "stream",
     "text": [
      "Episode 190 completed with reward: -1632.9139789078602\n"
     ]
    },
    {
     "name": "stderr",
     "output_type": "stream",
     "text": [
      "Training Episodes:  50%|█████████         | 201/400 [1:03:53<1:03:58, 19.29s/it]"
     ]
    },
    {
     "name": "stdout",
     "output_type": "stream",
     "text": [
      "Episode 200 completed with reward: -1786.6351358287914\n"
     ]
    },
    {
     "name": "stderr",
     "output_type": "stream",
     "text": [
      "Training Episodes:  53%|█████████▍        | 211/400 [1:07:05<1:01:10, 19.42s/it]"
     ]
    },
    {
     "name": "stdout",
     "output_type": "stream",
     "text": [
      "Episode 210 completed with reward: -1181.4975537486816\n"
     ]
    },
    {
     "name": "stderr",
     "output_type": "stream",
     "text": [
      "Training Episodes:  55%|███████████         | 221/400 [1:10:22<59:06, 19.81s/it]"
     ]
    },
    {
     "name": "stdout",
     "output_type": "stream",
     "text": [
      "Episode 220 completed with reward: -369.557518536807\n"
     ]
    },
    {
     "name": "stderr",
     "output_type": "stream",
     "text": [
      "Training Episodes:  58%|███████████▌        | 231/400 [1:13:36<55:06, 19.56s/it]"
     ]
    },
    {
     "name": "stdout",
     "output_type": "stream",
     "text": [
      "Episode 230 completed with reward: -1157.6236713334363\n"
     ]
    },
    {
     "name": "stderr",
     "output_type": "stream",
     "text": [
      "Training Episodes:  60%|████████████        | 241/400 [1:16:50<50:35, 19.09s/it]"
     ]
    },
    {
     "name": "stdout",
     "output_type": "stream",
     "text": [
      "Episode 240 completed with reward: -1663.4105549850326\n"
     ]
    },
    {
     "name": "stderr",
     "output_type": "stream",
     "text": [
      "Training Episodes:  63%|████████████▌       | 251/400 [1:20:06<48:16, 19.44s/it]"
     ]
    },
    {
     "name": "stdout",
     "output_type": "stream",
     "text": [
      "Episode 250 completed with reward: -1324.804225546881\n"
     ]
    },
    {
     "name": "stderr",
     "output_type": "stream",
     "text": [
      "Training Episodes:  65%|█████████████       | 261/400 [1:23:19<45:15, 19.54s/it]"
     ]
    },
    {
     "name": "stdout",
     "output_type": "stream",
     "text": [
      "Episode 260 completed with reward: -1123.3537067634309\n"
     ]
    },
    {
     "name": "stderr",
     "output_type": "stream",
     "text": [
      "Training Episodes:  68%|█████████████▌      | 271/400 [1:26:32<41:11, 19.16s/it]"
     ]
    },
    {
     "name": "stdout",
     "output_type": "stream",
     "text": [
      "Episode 270 completed with reward: -1866.4704414583032\n"
     ]
    },
    {
     "name": "stderr",
     "output_type": "stream",
     "text": [
      "Training Episodes:  70%|██████████████      | 281/400 [1:29:43<37:48, 19.06s/it]"
     ]
    },
    {
     "name": "stdout",
     "output_type": "stream",
     "text": [
      "Episode 280 completed with reward: -1430.7966722800804\n"
     ]
    },
    {
     "name": "stderr",
     "output_type": "stream",
     "text": [
      "Training Episodes:  73%|██████████████▌     | 291/400 [1:32:53<34:30, 19.00s/it]"
     ]
    },
    {
     "name": "stdout",
     "output_type": "stream",
     "text": [
      "Episode 290 completed with reward: -1734.397335800873\n"
     ]
    },
    {
     "name": "stderr",
     "output_type": "stream",
     "text": [
      "Training Episodes:  75%|███████████████     | 301/400 [1:36:08<32:56, 19.96s/it]"
     ]
    },
    {
     "name": "stdout",
     "output_type": "stream",
     "text": [
      "Episode 300 completed with reward: -1158.9638659200757\n"
     ]
    },
    {
     "name": "stderr",
     "output_type": "stream",
     "text": [
      "Training Episodes:  78%|███████████████▌    | 311/400 [1:39:24<28:58, 19.54s/it]"
     ]
    },
    {
     "name": "stdout",
     "output_type": "stream",
     "text": [
      "Episode 310 completed with reward: -1390.62470102092\n"
     ]
    },
    {
     "name": "stderr",
     "output_type": "stream",
     "text": [
      "Training Episodes:  80%|████████████████    | 321/400 [1:42:39<25:24, 19.30s/it]"
     ]
    },
    {
     "name": "stdout",
     "output_type": "stream",
     "text": [
      "Episode 320 completed with reward: -1489.294454614453\n"
     ]
    },
    {
     "name": "stderr",
     "output_type": "stream",
     "text": [
      "Training Episodes:  83%|████████████████▌   | 331/400 [1:45:53<22:19, 19.41s/it]"
     ]
    },
    {
     "name": "stdout",
     "output_type": "stream",
     "text": [
      "Episode 330 completed with reward: -969.9440770089\n"
     ]
    },
    {
     "name": "stderr",
     "output_type": "stream",
     "text": [
      "Training Episodes:  85%|█████████████████   | 341/400 [1:50:16<24:02, 24.46s/it]"
     ]
    },
    {
     "name": "stdout",
     "output_type": "stream",
     "text": [
      "Episode 340 completed with reward: -484.79987185705795\n"
     ]
    },
    {
     "name": "stderr",
     "output_type": "stream",
     "text": [
      "Training Episodes:  88%|█████████████████▌  | 351/400 [1:53:34<16:19, 20.00s/it]"
     ]
    },
    {
     "name": "stdout",
     "output_type": "stream",
     "text": [
      "Episode 350 completed with reward: -1377.2210230076857\n"
     ]
    },
    {
     "name": "stderr",
     "output_type": "stream",
     "text": [
      "Training Episodes:  90%|██████████████████  | 361/400 [1:56:56<13:05, 20.14s/it]"
     ]
    },
    {
     "name": "stdout",
     "output_type": "stream",
     "text": [
      "Episode 360 completed with reward: -253.3749096238221\n"
     ]
    },
    {
     "name": "stderr",
     "output_type": "stream",
     "text": [
      "Training Episodes:  93%|██████████████████▌ | 371/400 [2:00:09<09:11, 19.01s/it]"
     ]
    },
    {
     "name": "stdout",
     "output_type": "stream",
     "text": [
      "Episode 370 completed with reward: -1834.267925321462\n"
     ]
    },
    {
     "name": "stderr",
     "output_type": "stream",
     "text": [
      "Training Episodes:  95%|███████████████████ | 381/400 [2:03:22<06:03, 19.11s/it]"
     ]
    },
    {
     "name": "stdout",
     "output_type": "stream",
     "text": [
      "Episode 380 completed with reward: -586.4778612669479\n"
     ]
    },
    {
     "name": "stderr",
     "output_type": "stream",
     "text": [
      "Training Episodes:  98%|███████████████████▌| 391/400 [2:06:36<02:53, 19.23s/it]"
     ]
    },
    {
     "name": "stdout",
     "output_type": "stream",
     "text": [
      "Episode 390 completed with reward: -957.5662426231369\n"
     ]
    },
    {
     "name": "stderr",
     "output_type": "stream",
     "text": [
      "Training Episodes: 100%|████████████████████| 400/400 [2:09:30<00:00, 19.43s/it]"
     ]
    },
    {
     "name": "stdout",
     "output_type": "stream",
     "text": [
      "save checkpoint path : Model_Checkpoints/Ji_dog_5.0_Episode.pth\n",
      "Finished!\n"
     ]
    },
    {
     "name": "stderr",
     "output_type": "stream",
     "text": [
      "\n"
     ]
    }
   ],
   "source": [
    "# Environment and simulation setup Change !!!\n",
    "from isaacsim import SimulationApp\n",
    "simulation_app = SimulationApp({\"headless\": True})\n",
    "\n",
    "from torch.utils.tensorboard import SummaryWriter\n",
    "\n",
    "from ji_dog_env_create_v3 import Ji_Dog_Env\n",
    "from tqdm import tqdm  \n",
    "import numpy as np\n",
    "import os\n",
    "\n",
    "if __name__ == \"__main__\":\n",
    "    # script_dir = os.getcwd()\n",
    "    relative_path = \"Model(including video)/ji_dog1.0.usd\"\n",
    "    # usd_path = os.path.join(script_dir, relative_path)\n",
    "    env = Ji_Dog_Env(relative_path)\n",
    "    state_dim = 20\n",
    "    action_dim = 4\n",
    "    max_training_timesteps = 400\n",
    "    max_timesteps = 1000\n",
    "    # eps_clip = max(initial_eps_clip * decay_factor, min_eps_clip)\n",
    "\n",
    "    ppo = PPO_Clip(state_dim, action_dim, lr_actor=0.0001, lr_critic=0.001, gamma=0.99, K_epochs=4, eps_clip=0.2)\n",
    "\n",
    "    # Initialize \n",
    "    writer = SummaryWriter(log_dir=\"runs/Ji_Dog_Training4\")\n",
    "\n",
    "    for episode in tqdm(range(max_training_timesteps), desc=\"Training Episodes\"):\n",
    "        total_rewards = {\n",
    "            \"distance_reward\": 0,\n",
    "            \"fall_penalty\": 0,\n",
    "            \"symmetry_reward\": 0,\n",
    "            \"period_penalty\": 0,\n",
    "            \"contact_penalty\": 0,\n",
    "            \"smoothness_penalty\": 0,\n",
    "            \"progress_reward\":0,\n",
    "            \"mass_centre_reward\":0,\n",
    "            \"stability_penalty\":0,\n",
    "        }\n",
    "        \n",
    "        state = env.reset()\n",
    "        state = process_state(state)\n",
    "        state = np.array(state)\n",
    "        \n",
    "        total_episode_reward = 0\n",
    "        for t in range(max_timesteps + 1):\n",
    "            action = ppo.select_action(state)\n",
    "            state, total_reward, rewards, done, _ = env.step(action[0])\n",
    "\n",
    "            state = process_state(state)\n",
    "            state = np.array(state)\n",
    "            ppo.buffer.rewards.append(total_reward)\n",
    "            ppo.buffer.is_terminals.append(done)\n",
    "            ppo.buffer.reward_contributions.append(rewards) \n",
    "            \n",
    "            # reward, reward_contributions = env.calculate_reward()\n",
    "            for key in rewards:\n",
    "                total_rewards[key] += rewards[key]\n",
    "\n",
    "            \n",
    "            total_episode_reward += total_reward\n",
    "            if done:\n",
    "                break\n",
    "                    \n",
    "        # Update PPO and record metrics\n",
    "        average_loss, policy_loss, value_loss, policy_entropy = ppo.update()\n",
    "        \n",
    "        # Log metrics to TensorBoard\n",
    "        writer.add_scalar(\"Average Loss\", average_loss, episode)\n",
    "        writer.add_scalar(\"Policy Entropy\", policy_entropy, episode)\n",
    "        writer.add_scalar(\"Value Loss\", value_loss, episode)\n",
    "        writer.add_scalar(\"Policy Loss\", policy_loss, episode)\n",
    "        \n",
    "        for key, value in total_rewards.items():\n",
    "            writer.add_scalar(f\"Rewards/{key}\", value, episode)\n",
    "    \n",
    "        writer.add_scalar(\"Episode Total Reward\", total_episode_reward, episode)\n",
    "        if episode % 10 == 0:\n",
    "            print(f\"Episode {episode} completed with reward: {total_episode_reward}\")\n",
    "    \n",
    "    writer.close()\n",
    "\n",
    "\n",
    "save_path = \"Model_Checkpoints/Ji_dog_{}_Episode.pth\".format('5.0')\n",
    "print(\"save checkpoint path : \" + save_path)\n",
    "ppo.save(save_path)\n",
    "print('Finished!')\n",
    "\n",
    "simulation_app.close()"
   ]
  },
  {
   "cell_type": "code",
   "execution_count": 5,
   "id": "a4ded4bd-c3d5-462d-82a0-fe7fc13e8622",
   "metadata": {
    "scrolled": true
   },
   "outputs": [
    {
     "name": "stdout",
     "output_type": "stream",
     "text": [
      "Starting kit application with the following args:  ['/home/bai/.local/share/ov/pkg/isaac-sim-4.2.0/exts/omni.isaac.kit/omni/isaac/kit/simulation_app.py', '/home/bai/.local/share/ov/pkg/isaac-sim-4.2.0/apps/omni.isaac.sim.python.kit', '--/app/tokens/exe-path=/home/bai/.local/share/ov/pkg/isaac-sim-4.2.0/kit', '--/persistent/app/viewport/displayOptions=3094', '--/rtx/materialDb/syncLoads=True', '--/rtx/hydra/materialSyncLoads=True', '--/omni.kit.plugin/syncUsdLoads=True', '--/app/renderer/resolution/width=1280', '--/app/renderer/resolution/height=720', '--/app/window/width=1440', '--/app/window/height=900', '--/renderer/multiGpu/enabled=True', '--/app/fastShutdown=False', '--ext-folder', '/home/bai/.local/share/ov/pkg/isaac-sim-4.2.0/exts', '--ext-folder', '/home/bai/.local/share/ov/pkg/isaac-sim-4.2.0/apps', '--/physics/cudaDevice=0', '--portable']\n",
      "Passing the following args to the base kit application:  ['-f', '/home/bai/.local/share/jupyter/runtime/kernel-a9f79c83-e385-45d6-b98b-c258b0b7fced.json']\n",
      "[Warning] [omni.isaac.kit.simulation_app] Non-headless mode not supported with jupyter notebooks\n",
      "[Warning] [omni.isaac.kit.simulation_app] fast shutdown not supported with jupyter notebooks\n",
      "[Info] [carb] Logging to file: /home/bai/.local/share/ov/pkg/isaac-sim-4.2.0/kit/logs/Kit/Isaac-Sim/4.2/kit_20241122_181701.log\n",
      "2024-11-22 10:17:01 [0ms] [Warning] [omni.kit.app.plugin] No crash reporter present, dumps uploading isn't available.\n",
      "[0.086s] [ext: omni.blobkey-1.1.2] startup\n",
      "[0.086s] [ext: omni.kit.async_engine-0.0.1] startup\n",
      "[0.689s] [ext: omni.stats-1.0.1] startup\n",
      "[0.690s] [ext: omni.datastore-0.0.0] startup\n",
      "[0.694s] [ext: omni.client-1.2.0] startup\n",
      "[0.712s] [ext: omni.ujitso.default-1.0.0] startup\n",
      "[0.712s] [ext: omni.gpu_foundation.shadercache.vulkan-1.0.0] startup\n",
      "[0.714s] [ext: omni.hsscclient-1.1.1] startup\n",
      "[0.714s] [ext: omni.assets.plugins-0.0.0] startup\n",
      "[0.715s] [ext: omni.gpu_foundation-0.0.0] startup\n",
      "[0.719s] [ext: carb.windowing.plugins-1.0.0] startup\n",
      "[0.728s] [ext: omni.kit.renderer.init-0.0.0] startup\n",
      "2024-11-22 10:17:02 [808ms] [Warning] [gpu.foundation.plugin] Skipping unsupported non-NVIDIA GPU: Intel(R) Graphics (RPL-P)\n",
      "2024-11-22 10:17:02 [808ms] [Warning] [gpu.foundation.plugin] Skipping unsupported non-NVIDIA GPU: Intel(R) Graphics (RPL-P)\n",
      "\n",
      "|---------------------------------------------------------------------------------------------|\n",
      "| Driver Version: 535.183.01    | Graphics API: Vulkan\n",
      "|=============================================================================================|\n",
      "| GPU | Name                             | Active | LDA | GPU Memory | Vendor-ID | LUID       |\n",
      "|     |                                  |        |     |            | Device-ID | UUID       |\n",
      "|     |                                  |        |     |            | Bus-ID    |            |\n",
      "|---------------------------------------------------------------------------------------------|\n",
      "| 0   | NVIDIA GeForce RTX 4060 Laptop.. | Yes: 0 |     | 8188    MB | 10de      | 0          |\n",
      "|     |                                  |        |     |            | 28e0      | 68c71b6b.. |\n",
      "|     |                                  |        |     |            | 1         |            |\n",
      "|---------------------------------------------------------------------------------------------|\n",
      "| 1   | Intel(R) Graphics (RPL-P)        |        |     | 23863   MB | 8086      | 0          |\n",
      "|     |                                  |        |     |            | a7a0      | 8680a0a7.. |\n",
      "|     |                                  |        |     |            | 0         |            |\n",
      "|=============================================================================================|\n",
      "| OS: 22.04.5 LTS (Jammy Jellyfish) ubuntu, Version: 22.04.5, Kernel: 6.8.0-49-generic\n",
      "| XServer Vendor: The X.Org Foundation, XServer Version: 12101004 (1.21.1.4)\n",
      "| Processor: 13th Gen Intel(R) Core(TM) i9-13900H | Cores: 14 | Logical: 28\n",
      "|---------------------------------------------------------------------------------------------|\n",
      "| Total Memory (MB): 31817 | Free Memory: 12488\n",
      "| Total Page/Swap (MB): 2047 | Free Page/Swap: 1980\n",
      "|---------------------------------------------------------------------------------------------|\n",
      "2024-11-22 10:17:02 [979ms] [Warning] [gpu.foundation.plugin] IOMMU is enabled.\n",
      "[1.158s] [ext: omni.kit.pipapi-0.0.0] startup\n",
      "[1.159s] [ext: omni.kit.pip_archive-0.0.0] startup\n",
      "[1.159s] [ext: omni.pip.compute-1.4.0] startup\n",
      "[1.159s] [ext: omni.pip.cloud-1.1.3] startup\n",
      "[1.161s] [ext: omni.isaac.core_archive-2.3.0] startup\n",
      "[1.161s] [ext: omni.materialx.libs-1.0.4] startup\n",
      "[1.168s] [ext: omni.isaac.ml_archive-2.0.1] startup\n",
      "[1.168s] [ext: omni.kit.telemetry-0.5.0] startup\n",
      "[1.195s] [ext: omni.usd.config-1.0.4] startup\n",
      "[1.200s] [ext: omni.gpucompute.plugins-0.0.0] startup\n",
      "[1.200s] [ext: omni.usd.libs-1.0.1] startup\n",
      "[1.292s] [ext: omni.iray.libs-0.0.0] startup\n",
      "[1.296s] [ext: omni.mdl.neuraylib-0.2.8] startup\n",
      "[1.298s] [ext: omni.mdl-55.0.1] startup\n",
      "[1.316s] [ext: omni.kit.usd.mdl-1.0.1] startup\n",
      "[1.426s] [ext: omni.kit.loop-isaac-1.2.0] startup\n",
      "[1.427s] [ext: omni.kit.test-1.1.0] startup\n",
      "[1.452s] [ext: omni.appwindow-1.1.8] startup\n",
      "[1.522s] [ext: omni.kit.renderer.core-1.0.2] startup\n",
      "[2.051s] [ext: omni.kit.renderer.capture-0.0.0] startup\n",
      "[2.054s] [ext: omni.kit.renderer.imgui-1.0.1] startup\n",
      "[2.167s] [ext: omni.ui-2.25.22] startup\n",
      "[2.176s] [ext: omni.kit.mainwindow-1.0.3] startup\n",
      "[2.177s] [ext: carb.audio-0.1.0] startup\n",
      "[2.179s] [ext: omni.uiaudio-1.0.0] startup\n",
      "[2.180s] [ext: omni.kit.uiapp-0.0.0] startup\n",
      "[2.180s] [ext: omni.usd.schema.isaac-2.1.0] startup\n",
      "[2.187s] [ext: omni.usd.schema.audio-0.0.0] startup\n",
      "[2.190s] [ext: omni.usd.schema.anim-0.0.0] startup\n",
      "[2.209s] [ext: omni.usd.schema.geospatial-0.0.0] startup\n",
      "[2.212s] [ext: omni.usd.schema.semantics-0.0.0] startup\n",
      "[2.214s] [ext: omni.usd.schema.omnigraph-1.0.0] startup\n",
      "[2.219s] [ext: omni.anim.navigation.schema-106.1.0] startup\n",
      "[2.222s] [ext: omni.usd.schema.scene.visualization-2.0.2] startup\n",
      "[2.223s] [ext: omni.usd.schema.omniscripting-1.0.0] startup\n",
      "[2.228s] [ext: omni.anim.graph.schema-106.1.0] startup\n",
      "[2.233s] [ext: omni.usd.schema.physx-106.1.9] startup\n",
      "[2.257s] [ext: omni.usd.schema.forcefield-106.1.9] startup\n",
      "[2.262s] [ext: omni.graph.exec-0.9.4] startup\n",
      "[2.263s] [ext: omni.kit.usd_undo-0.1.8] startup\n",
      "[2.263s] [ext: omni.kit.actions.core-1.0.0] startup\n",
      "[2.264s] [ext: omni.kit.exec.core-0.13.4] startup\n",
      "[2.267s] [ext: omni.usd_resolver-1.0.0] startup\n",
      "[2.270s] [ext: omni.kit.commands-1.4.9] startup\n",
      "[2.274s] [ext: omni.activity.core-1.0.1] startup\n",
      "[2.276s] [ext: omni.usd.core-1.4.1] startup\n",
      "[2.278s] [ext: omni.resourcemonitor-105.0.1] startup\n",
      "[2.280s] [ext: omni.kit.window.popup_dialog-2.0.24] startup\n",
      "[2.283s] [ext: omni.timeline-1.0.10] startup\n",
      "[2.285s] [ext: omni.kit.widget.nucleus_connector-1.1.9] startup\n",
      "[2.286s] [ext: usdrt.scenegraph-7.5.0] startup\n",
      "[2.317s] [ext: omni.kit.audiodeviceenum-1.0.1] startup\n",
      "[2.318s] [ext: omni.hydra.usdrt_delegate-7.5.1] startup\n",
      "[2.330s] [ext: omni.hydra.scene_delegate-0.3.3] startup\n",
      "[2.334s] [ext: omni.usd-1.12.2] startup\n",
      "[2.366s] [ext: omni.kit.menu.core-1.0.4] startup\n",
      "[2.366s] [ext: omni.kit.collaboration.telemetry-1.0.0] startup\n",
      "[2.367s] [ext: omni.kit.property.adapter.core-1.0.1] startup\n",
      "[2.368s] [ext: omni.kit.menu.utils-1.5.27] startup\n",
      "[2.373s] [ext: omni.kit.clipboard-1.0.4] startup\n",
      "[2.374s] [ext: omni.kit.collaboration.channel_manager-1.0.12] startup\n",
      "[2.375s] [ext: omni.kit.property.adapter.usd-1.0.1] startup\n",
      "[2.375s] [ext: omni.kit.widget.options_menu-1.1.6] startup\n",
      "[2.377s] [ext: omni.kit.widget.graph-1.12.15] startup\n",
      "[2.381s] [ext: omni.kit.widget.searchfield-1.1.8] startup\n",
      "[2.382s] [ext: omni.kit.widget.filter-1.1.4] startup\n",
      "[2.383s] [ext: omni.kit.property.adapter.fabric-1.0.1] startup\n",
      "[2.384s] [ext: omni.ui_query-1.1.4] startup\n",
      "[2.384s] [ext: omni.kit.window.extensions-1.4.11] startup\n",
      "[2.390s] [ext: omni.kit.usd.layers-2.1.36] startup\n",
      "[2.397s] [ext: omni.kit.widget.context_menu-1.2.2] startup\n",
      "[2.398s] [ext: omni.hydra.rtx.shadercache.vulkan-1.0.0] startup\n",
      "[2.399s] [ext: omni.kit.notification_manager-1.0.9] startup\n",
      "[2.400s] [ext: omni.kit.hotkeys.core-1.3.5] startup\n",
      "[2.401s] [ext: omni.kit.context_menu-1.8.1] startup\n",
      "[2.402s] [ext: omni.kit.widget.prompt-1.0.7] startup\n",
      "[2.403s] [ext: omni.kit.helper.file_utils-0.1.8] startup\n",
      "[2.404s] [ext: omni.kit.widget.nucleus_info-1.0.2] startup\n",
      "[2.405s] [ext: omni.kit.widget.filebrowser-2.10.51] startup\n",
      "[2.409s] [ext: omni.kit.search_core-1.0.5] startup\n",
      "[2.410s] [ext: omni.kit.widget.path_field-2.0.10] startup\n",
      "[2.410s] [ext: omni.ui.scene-1.10.3] startup\n",
      "[2.414s] [ext: omni.kit.widget.search_delegate-1.0.5] startup\n",
      "[2.415s] [ext: omni.kit.widget.options_button-1.0.3] startup\n",
      "[2.416s] [ext: omni.kit.widget.browser_bar-2.0.10] startup\n",
      "[2.417s] [ext: omni.volume-0.5.0] startup\n",
      "[2.419s] [ext: omni.kit.window.filepicker-2.10.40] startup\n",
      "[2.426s] [ext: omni.ujitso.processor.texture-1.0.0] startup\n",
      "[2.426s] [ext: omni.kit.window.file_exporter-1.0.30] startup\n",
      "[2.428s] [ext: omni.ujitso.client-0.0.0] startup\n",
      "[2.428s] [ext: omni.kit.widget.stage-2.11.2] startup\n",
      "[2.437s] [ext: omni.kit.widget.live_session_management.ui-1.0.1] startup\n",
      "[2.440s] [ext: omni.kit.collaboration.presence_layer-1.0.9] startup\n",
      "[2.442s] [ext: omni.hydra.rtx-1.0.0] startup\n",
      "[2.457s] [ext: omni.inspect-1.0.1] startup\n",
      "[2.458s] [ext: omni.kit.widget.searchable_combobox-1.0.6] startup\n",
      "[2.459s] [ext: omni.kit.window.file_importer-1.1.12] startup\n",
      "[2.460s] [ext: omni.kit.stage_template.core-1.1.22] startup\n",
      "[2.461s] [ext: omni.kit.widget.settings-1.2.2] startup\n",
      "[2.462s] [ext: omni.kit.window.file-1.3.54] startup\n",
      "[2.465s] [ext: omni.kit.window.drop_support-1.0.3] startup\n",
      "[2.465s] [ext: omni.kit.window.content_browser_registry-0.0.6] startup\n",
      "[2.466s] [ext: omni.kit.window.preferences-1.6.0] startup\n",
      "[2.471s] [ext: omni.kit.window.content_browser-2.9.18] startup\n",
      "[2.481s] [ext: omni.kit.widget.live_session_management-1.2.20] startup\n",
      "[2.483s] [ext: omni.kit.widget.text_editor-1.0.2] startup\n",
      "[2.484s] [ext: omni.kit.hydra_texture-1.3.9] startup\n",
      "[2.487s] [ext: omni.kit.viewport.legacy_gizmos-1.1.0] startup\n",
      "[2.490s] [ext: omni.kit.raycast.query-1.0.5] startup\n",
      "[2.494s] [ext: omni.kit.material.library-1.5.6] startup\n",
      "[2.499s] [ext: omni.kit.widget.viewport-106.1.0] startup\n",
      "[2.502s] [ext: omni.kit.viewport.registry-104.0.6] startup\n",
      "[2.502s] [ext: omni.hydra.engine.stats-1.0.2] startup\n",
      "[2.504s] [ext: omni.kit.widget.highlight_label-1.0.2] startup\n",
      "[2.505s] [ext: omni.kit.viewport.window-107.0.6] startup\n",
      "[2.516s] [ext: omni.kit.window.property-1.11.3] startup\n",
      "[2.518s] [ext: omni.graph.core-2.179.2] startup\n",
      "[2.520s] [ext: omni.graph.tools-1.79.0] startup\n",
      "[2.535s] [ext: omni.kit.viewport.utility-1.0.17] startup\n",
      "[2.535s] [ext: omni.kit.property.usd-4.2.8] startup\n",
      "[2.542s] [ext: omni.debugdraw-0.1.3] startup\n",
      "[2.545s] [ext: omni.graph-1.140.0] startup\n",
      "[2.578s] [ext: omni.graph.ui-1.70.2] startup\n",
      "[2.593s] [ext: omni.kvdb-106.1.9] startup\n",
      "[2.596s] [ext: omni.graph.image.core-0.4.5] startup\n",
      "[2.598s] [ext: omni.localcache-106.1.9] startup\n",
      "[2.600s] [ext: omni.graph.image.nodes-1.1.0] startup\n",
      "[2.603s] [ext: omni.usdphysics-106.1.9] startup\n",
      "[2.606s] [ext: omni.physx.foundation-106.1.9] startup\n",
      "[2.608s] [ext: omni.convexdecomposition-106.1.9] startup\n",
      "[2.612s] [ext: omni.graph.nodes-1.146.1] startup\n",
      "[2.620s] [ext: omni.physx.cooking-106.1.9] startup\n",
      "[2.629s] [ext: omni.kit.primitive.mesh-1.0.17] startup\n",
      "[2.633s] [ext: omni.physx-106.1.9] startup\n",
      "[2.644s] [ext: omni.kit.stage_templates-1.2.5] startup\n",
      "[2.646s] [ext: omni.isaac.version-1.1.0] startup\n",
      "[2.647s] [ext: omni.kit.widget.material_preview-1.0.16] startup\n",
      "[2.649s] [ext: omni.isaac.nucleus-0.3.1] startup\n",
      "[2.650s] [ext: omni.physics.tensors-106.1.9] startup\n",
      "[2.656s] [ext: omni.physx.stageupdate-106.1.9] startup\n",
      "[2.658s] [ext: omni.graph.action_core-1.1.6] startup\n",
      "[2.662s] [ext: omni.warp.core-1.2.1] startup\n",
      "[2.727s] [ext: omni.physx.tensors-106.1.9] startup\n",
      "[2.732s] [ext: omni.graph.scriptnode-1.20.1] startup\n",
      "[2.733s] [ext: omni.kit.manipulator.viewport-107.0.0] startup\n",
      "[2.735s] [ext: omni.graph.action_nodes-1.24.0] startup\n",
      "[2.742s] [ext: omni.kit.ui_test-1.3.2] startup\n",
      "[2.746s] [ext: omni.isaac.core-3.19.5] startup\n",
      "[3.011s] [ext: omni.graph.visualization.nodes-2.1.1] startup\n",
      "[3.016s] [ext: omni.graph.action-1.102.1] startup\n",
      "[3.017s] [ext: omni.kit.window.cursor-1.1.2] startup\n",
      "[3.020s] [ext: omni.isaac.ui-0.16.0] startup\n",
      "[3.028s] [ext: omni.kit.viewport.menubar.core-106.1.0] startup\n",
      "[3.040s] [ext: omni.kit.graph.delegate.default-1.2.2] startup\n",
      "[3.041s] [ext: omni.syntheticdata-0.6.9] startup\n",
      "[3.063s] [ext: omni.kit.graph.usd.commands-1.3.1] startup\n",
      "[3.065s] [ext: omni.kit.graph.editor.core-1.5.3] startup\n",
      "[3.075s] [ext: omni.kit.numpy.common-0.1.2] startup\n",
      "[3.078s] [ext: omni.warp-1.2.1] startup\n",
      "[3.083s] [ext: omni.kit.window.material_graph-1.8.18] startup\n",
      "[3.131s] [ext: omni.isaac.dynamic_control-1.3.8] startup\n",
      "[3.145s] [ext: omni.replicator.core-1.11.20] startup\n",
      "2024-11-22 10:17:04 [3,111ms] [Warning] [omni.replicator.core.scripts.annotators] Annotator PostProcessDispatch is already registered, overwriting annotator template\n",
      "Warp 1.2.1 initialized:\n",
      "   CUDA Toolkit 11.8, Driver 12.2\n",
      "   Devices:\n",
      "     \"cpu\"      : \"x86_64\"\n",
      "     \"cuda:0\"   : \"NVIDIA GeForce RTX 4060 Laptop GPU\" (8 GiB, sm_89, mempool enabled)\n",
      "   Kernel cache:\n",
      "     /home/bai/.cache/warp/1.2.1\n",
      "[3.265s] [ext: omni.isaac.lula-3.0.1] startup\n",
      "[3.276s] [ext: omni.isaac.surface_gripper-1.0.1] startup\n",
      "[3.284s] [ext: omni.isaac.core_nodes-1.16.3] startup\n",
      "[3.308s] [ext: omni.isaac.motion_generation-7.1.0] startup\n",
      "[3.339s] [ext: omni.isaac.manipulators-2.1.0] startup\n",
      "[3.358s] [ext: omni.isaac.franka-0.4.1] startup\n",
      "[3.366s] [ext: omni.kit.graph.widget.variables-2.1.0] startup\n",
      "[3.374s] [ext: omni.kit.graph.delegate.modern-1.10.6] startup\n",
      "[3.389s] [ext: omni.isaac.cortex-0.3.9] startup\n",
      "[3.393s] [ext: omni.graph.window.core-1.113.1] startup\n",
      "[3.432s] [ext: omni.isaac.wheeled_robots-2.3.3] startup\n",
      "[3.443s] [ext: omni.isaac.cortex.sample_behaviors-1.0.6] startup\n",
      "[3.446s] [ext: omni.graph.window.generic-1.26.0] startup\n",
      "[3.459s] [ext: omni.isaac.menu-0.7.3] startup\n",
      "[3.466s] [ext: omni.kit.widget.live-2.1.8] startup\n",
      "[3.476s] [ext: omni.kit.actions.window-1.1.1] startup\n",
      "[3.486s] [ext: omni.kit.widget.cache_indicator-2.0.10] startup\n",
      "[3.585s] [ext: omni.kit.hotkeys.window-1.4.5] startup\n",
      "2024-11-22 10:17:04 [3,525ms] [Warning] [omni.kit.widget.cache_indicator.cache_state_menu] Unable to detect Omniverse Cache Server. Consider installing it for better IO performance.\n",
      "[3.598s] [ext: omni.kit.ui.actions-1.0.2] startup\n",
      "[3.599s] [ext: omni.kit.widget.stage_icons-1.0.5] startup\n",
      "[3.601s] [ext: omni.kit.menu.common-1.1.7] startup\n",
      "[3.602s] [ext: omni.kit.selection-0.1.4] startup\n",
      "[3.603s] [ext: omni.isaac.kit-1.13.2] startup\n",
      "[3.604s] [ext: omni.isaac.block_world-1.0.0] startup\n",
      "[3.606s] [ext: omni.kit.window.stage-2.5.10] startup\n",
      "[3.611s] [ext: omni.isaac.debug_draw-1.1.0] startup\n",
      "[3.615s] [ext: omni.kit.menu.edit-1.1.24] startup\n",
      "[3.620s] [ext: omni.kit.menu.file-1.1.14] startup\n",
      "[3.622s] [ext: omni.kit.profiler.window-2.2.3] startup\n",
      "[3.630s] [ext: omni.kit.menu.stage-1.2.5] startup\n",
      "[3.632s] [ext: omni.isaac.occupancy_map-1.0.3] startup\n",
      "[3.638s] [ext: omni.importer.mjcf-1.1.1] startup\n",
      "[3.647s] [ext: omni.graph.window.action-1.28.0] startup\n",
      "[3.653s] [ext: omni.kit.property.camera-1.0.8] startup\n",
      "[3.655s] [ext: omni.kit.property.light-1.0.10] startup\n",
      "[3.656s] [ext: omni.kit.property.geometry-1.3.1] startup\n",
      "[3.659s] [ext: omni.hydra.scene_api-0.1.2] startup\n",
      "[3.665s] [ext: omni.kit.property.audio-1.0.14] startup\n",
      "[3.668s] [ext: omni.kit.property.render-1.1.2] startup\n",
      "[3.670s] [ext: omni.kit.property.transform-1.5.9] startup\n",
      "[3.674s] [ext: omni.kit.property.material-1.10.8] startup\n",
      "[3.681s] [ext: omni.kit.widget.layers-1.8.0] startup\n",
      "[3.693s] [ext: omni.kit.property.isaac-0.2.3] startup\n",
      "[3.695s] [ext: omni.kit.property.bundle-1.3.1] startup\n",
      "[3.696s] [ext: omni.sensors.nv.common-1.2.2-isaac-1] startup\n",
      "[3.706s] [ext: omni.kit.property.layer-1.1.8] startup\n",
      "[3.709s] [ext: omni.kit.stage_column.payload-2.0.0] startup\n",
      "[3.712s] [ext: omni.isaac.scene_blox-0.1.2] startup\n",
      "[3.713s] [ext: omni.sensors.nv.materials-1.2.1-isaac-1] startup\n",
      "[3.714s] [ext: omni.sensors.nv.wpm-1.2.1-isaac-1] startup\n",
      "[3.715s] [ext: omni.kit.viewport.actions-106.0.2] startup\n",
      "[3.719s] [ext: omni.sensors.nv.lidar-1.2.2-isaac-1] startup\n",
      "[3.724s] [ext: omni.sensors.nv.radar-1.2.1-isaac-1] startup\n",
      "[3.729s] [ext: omni.kit.viewport.menubar.display-107.0.2] startup\n",
      "[3.731s] [ext: omni.kit.manipulator.transform-104.7.4] startup\n",
      "[3.734s] [ext: omni.kit.widget.toolbar-1.7.2] startup\n",
      "[3.742s] [ext: omni.sensors.tiled-0.0.6] startup\n",
      "[3.744s] [ext: omni.sensors.nv.ids-1.1.0-isaac-1] startup\n",
      "[3.748s] [ext: omni.isaac.range_sensor-3.1.2] startup\n",
      "[3.762s] [ext: omni.usdphysics.ui-106.1.9] startup\n",
      "[3.785s] [ext: omni.physx.commands-106.1.9] startup\n",
      "[3.788s] [ext: omni.kit.manipulator.tool.snap-1.5.11] startup\n",
      "[3.794s] [ext: omni.isaac.sensor-12.9.1] startup\n",
      "[3.856s] [ext: omni.kit.manipulator.selector-1.1.1] startup\n",
      "[3.860s] [ext: omni.physx.ui-106.1.9] startup\n",
      "[3.894s] [ext: omni.isaac.quadruped-2.0.1] startup\n",
      "[3.902s] [ext: omni.kit.viewport.manipulator.transform-107.0.2] startup\n",
      "[3.906s] [ext: omni.physx.demos-106.1.9] startup\n",
      "[3.930s] [ext: omni.kit.property.physx-106.1.9] startup\n",
      "[3.990s] [ext: omni.kit.widget.calendar-1.0.8] startup\n",
      "[3.993s] [ext: omni.kit.manipulator.prim.core-107.0.4] startup\n",
      "[4.000s] [ext: omni.fabric.commands-1.1.5] startup\n",
      "[4.003s] [ext: omni.physx.vehicle-106.1.9] startup\n",
      "[4.020s] [ext: omni.kit.widget.extended_searchfield-1.0.28] startup\n",
      "[4.027s] [ext: omni.kit.manipulator.prim.fabric-107.0.3] startup\n",
      "[4.031s] [ext: omni.kit.manipulator.prim.usd-107.0.2] startup\n",
      "[4.032s] [ext: omni.kit.widget.timeline-105.0.1] startup\n",
      "[4.035s] [ext: omni.kit.window.commands-0.2.6] startup\n",
      "[4.036s] [ext: omni.physx.camera-106.1.9] startup\n",
      "[4.046s] [ext: omni.kit.manipulator.camera-105.0.5] startup\n",
      "[4.050s] [ext: omni.kit.viewport.menubar.camera-107.0.2] startup\n",
      "[4.055s] [ext: omni.kit.manipulator.prim-107.0.0] startup\n",
      "[4.056s] [ext: omni.kit.manipulator.selection-106.0.1] startup\n",
      "[4.057s] [ext: omni.kit.window.toolbar-1.6.1] startup\n",
      "[4.059s] [ext: omni.kit.stage_column.variant-1.0.13] startup\n",
      "[4.061s] [ext: omni.kit.viewport.menubar.render-106.1.1] startup\n",
      "[4.064s] [ext: omni.kit.viewport.menubar.settings-107.0.3] startup\n",
      "[4.068s] [ext: omni.physx.cct-106.1.9] startup\n",
      "[4.079s] [ext: omni.physx.graph-106.1.9] startup\n",
      "[4.097s] [ext: omni.physx.supportui-106.1.9] startup\n",
      "[4.119s] [ext: omni.physx.telemetry-106.1.9] startup\n",
      "[4.122s] [ext: omni.graph.ui_nodes-1.26.0] startup\n",
      "[4.127s] [ext: omni.kit.viewport.bundle-104.0.1] startup\n",
      "[4.129s] [ext: omni.isaac.universal_robots-0.3.5] startup\n",
      "[4.130s] [ext: omni.kit.window.console-0.2.13] startup\n",
      "[4.140s] [ext: omni.kit.window.script_editor-1.7.6] startup\n",
      "[4.144s] [ext: omni.kit.menu.create-1.0.16] startup\n",
      "[4.147s] [ext: omni.graph.bundle.action-2.4.1] startup\n",
      "[4.149s] [ext: omni.physx.bundle-106.1.9] startup\n",
      "[4.150s] [ext: omni.rtx.window.settings-0.6.17] startup\n",
      "[4.157s] [ext: omni.kit.window.status_bar-0.1.7] startup\n",
      "[4.160s] [ext: omni.kit.window.title-1.1.5] startup\n",
      "[4.162s] [ext: omni.replicator.isaac-1.15.2] startup\n",
      "[4.183s] [ext: omni.replicator.replicator_yaml-2.0.6] startup\n",
      "[4.205s] [ext: omni.rtx.settings.core-0.6.3] startup\n",
      "[4.213s] [ext: omni.kit.viewport.menubar.lighting-106.0.2] startup\n",
      "[4.219s] [ext: semantics.schema.editor-0.3.8] startup\n",
      "[4.222s] [ext: semantics.schema.property-1.0.4] startup\n",
      "[4.223s] [ext: omni.kit.viewport.rtx-104.0.1] startup\n",
      "[4.224s] [ext: omni.isaac.utils-1.0.1] startup\n",
      "[4.227s] [ext: omni.isaac.cloner-0.8.1] startup\n",
      "[4.229s] [ext: omni.importer.urdf-1.14.1] startup\n",
      "[4.263s] [ext: omni.kit.window.stats-0.1.6] startup\n",
      "[4.267s] [ext: omni.isaac.sim.python-4.2.0] startup\n",
      "[4.269s] Simulation App Starting\n",
      "[5.728s] app ready\n",
      "[6.629s] Simulation App Startup Complete\n"
     ]
    },
    {
     "name": "stderr",
     "output_type": "stream",
     "text": [
      "/home/bai/.local/share/ov/pkg/isaac-sim-4.2.0/Ji-dog 2.0/ji_dog_net_v3.py:276: FutureWarning: You are using `torch.load` with `weights_only=False` (the current default value), which uses the default pickle module implicitly. It is possible to construct malicious pickle data which will execute arbitrary code during unpickling (See https://github.com/pytorch/pytorch/blob/main/SECURITY.md#untrusted-models for more details). In a future release, the default value for `weights_only` will be flipped to `True`. This limits the functions that could be executed during unpickling. Arbitrary objects will no longer be allowed to be loaded via this mode unless they are explicitly allowlisted by the user via `torch.serialization.add_safe_globals`. We recommend you start setting `weights_only=True` for any use case where you don't have full control of the loaded file. Please open an issue on GitHub for any issues related to this experimental feature.\n",
      "  self.policy_old.load_state_dict(torch.load(checkpoint_path, map_location=lambda storage, loc: storage))\n",
      "/home/bai/.local/share/ov/pkg/isaac-sim-4.2.0/Ji-dog 2.0/ji_dog_net_v3.py:277: FutureWarning: You are using `torch.load` with `weights_only=False` (the current default value), which uses the default pickle module implicitly. It is possible to construct malicious pickle data which will execute arbitrary code during unpickling (See https://github.com/pytorch/pytorch/blob/main/SECURITY.md#untrusted-models for more details). In a future release, the default value for `weights_only` will be flipped to `True`. This limits the functions that could be executed during unpickling. Arbitrary objects will no longer be allowed to be loaded via this mode unless they are explicitly allowlisted by the user via `torch.serialization.add_safe_globals`. We recommend you start setting `weights_only=True` for any use case where you don't have full control of the loaded file. Please open an issue on GitHub for any issues related to this experimental feature.\n",
      "  self.policy.load_state_dict(torch.load(checkpoint_path, map_location=lambda storage, loc: storage))\n"
     ]
    },
    {
     "name": "stdout",
     "output_type": "stream",
     "text": [
      "Robot articulation successfully loaded: <omni.isaac.core.robots.robot.Robot object at 0x7df5aa1f7100>\n"
     ]
    },
    {
     "ename": "IndexError",
     "evalue": "index 3 is out of bounds for axis 1 with size 3",
     "output_type": "error",
     "traceback": [
      "\u001b[0;31m---------------------------------------------------------------------------\u001b[0m",
      "\u001b[0;31mIndexError\u001b[0m                                Traceback (most recent call last)",
      "Cell \u001b[0;32mIn[5], line 19\u001b[0m\n\u001b[1;32m     15\u001b[0m ppo \u001b[38;5;241m=\u001b[39m PPO_Clip(state_dim, action_dim, lr_actor\u001b[38;5;241m=\u001b[39m\u001b[38;5;241m0.0003\u001b[39m, lr_critic\u001b[38;5;241m=\u001b[39m\u001b[38;5;241m0.001\u001b[39m, gamma\u001b[38;5;241m=\u001b[39m\u001b[38;5;241m0.99\u001b[39m, K_epochs\u001b[38;5;241m=\u001b[39m\u001b[38;5;241m4\u001b[39m, eps_clip\u001b[38;5;241m=\u001b[39m\u001b[38;5;241m0.2\u001b[39m)\n\u001b[1;32m     16\u001b[0m ppo\u001b[38;5;241m.\u001b[39mload(load_path)\n\u001b[0;32m---> 19\u001b[0m env \u001b[38;5;241m=\u001b[39m \u001b[43mJi_Dog_Env\u001b[49m\u001b[43m(\u001b[49m\u001b[38;5;124;43m'\u001b[39;49m\u001b[38;5;124;43mModel(including video)/ji_dog1.0.usd\u001b[39;49m\u001b[38;5;124;43m'\u001b[39;49m\u001b[43m)\u001b[49m\n\u001b[1;32m     22\u001b[0m state_dim \u001b[38;5;241m=\u001b[39m \u001b[38;5;241m20\u001b[39m\n\u001b[1;32m     23\u001b[0m action_dim \u001b[38;5;241m=\u001b[39m \u001b[38;5;241m4\u001b[39m\n",
      "File \u001b[0;32m~/.local/share/ov/pkg/isaac-sim-4.2.0/Ji-dog 2.0/ji_dog_env_create_v3.py:45\u001b[0m, in \u001b[0;36mJi_Dog_Env.__init__\u001b[0;34m(self, usd_path)\u001b[0m\n\u001b[1;32m     43\u001b[0m \u001b[38;5;28mself\u001b[39m\u001b[38;5;241m.\u001b[39mslope_flag \u001b[38;5;241m=\u001b[39m \u001b[38;5;28;01mTrue\u001b[39;00m\n\u001b[1;32m     44\u001b[0m \u001b[38;5;28mself\u001b[39m\u001b[38;5;241m.\u001b[39mgait_flag \u001b[38;5;241m=\u001b[39m \u001b[38;5;28;01mFalse\u001b[39;00m\n\u001b[0;32m---> 45\u001b[0m \u001b[38;5;28;43mself\u001b[39;49m\u001b[38;5;241;43m.\u001b[39;49m\u001b[43msetup_scene\u001b[49m\u001b[43m(\u001b[49m\u001b[43m)\u001b[49m\n\u001b[1;32m     47\u001b[0m \u001b[38;5;66;03m# Gait parameters\u001b[39;00m\n\u001b[1;32m     48\u001b[0m \u001b[38;5;28mself\u001b[39m\u001b[38;5;241m.\u001b[39mA \u001b[38;5;241m=\u001b[39m np\u001b[38;5;241m.\u001b[39mradians(\u001b[38;5;241m30\u001b[39m)  \u001b[38;5;66;03m# Amplitude, maximum 30 degrees\u001b[39;00m\n",
      "File \u001b[0;32m~/.local/share/ov/pkg/isaac-sim-4.2.0/Ji-dog 2.0/ji_dog_env_create_v3.py:118\u001b[0m, in \u001b[0;36mJi_Dog_Env.setup_scene\u001b[0;34m(self)\u001b[0m\n\u001b[1;32m    113\u001b[0m \u001b[38;5;66;03m# print(\u001b[39;00m\n\u001b[1;32m    114\u001b[0m \u001b[38;5;66;03m#     \"Num of degrees of freedom before first reset: \" + str(self.robot.num_dof)\u001b[39;00m\n\u001b[1;32m    115\u001b[0m \u001b[38;5;66;03m# )\u001b[39;00m\n\u001b[1;32m    117\u001b[0m \u001b[38;5;28;01mif\u001b[39;00m \u001b[38;5;28mself\u001b[39m\u001b[38;5;241m.\u001b[39mslope_flag:\n\u001b[0;32m--> 118\u001b[0m     \u001b[38;5;28;43mself\u001b[39;49m\u001b[38;5;241;43m.\u001b[39;49m\u001b[43msetup_slope\u001b[49m\u001b[43m(\u001b[49m\u001b[43m)\u001b[49m\n\u001b[1;32m    120\u001b[0m \u001b[38;5;28;01mreturn\u001b[39;00m\n",
      "File \u001b[0;32m~/.local/share/ov/pkg/isaac-sim-4.2.0/Ji-dog 2.0/ji_dog_env_create_v3.py:123\u001b[0m, in \u001b[0;36mJi_Dog_Env.setup_slope\u001b[0;34m(self)\u001b[0m\n\u001b[1;32m    122\u001b[0m \u001b[38;5;28;01mdef\u001b[39;00m \u001b[38;5;21msetup_slope\u001b[39m(\u001b[38;5;28mself\u001b[39m):\n\u001b[0;32m--> 123\u001b[0m     \u001b[38;5;28mself\u001b[39m\u001b[38;5;241m.\u001b[39mslope \u001b[38;5;241m=\u001b[39m \u001b[43mDynamicCuboid\u001b[49m\u001b[43m(\u001b[49m\n\u001b[1;32m    124\u001b[0m \u001b[43m        \u001b[49m\u001b[43mprim_path\u001b[49m\u001b[38;5;241;43m=\u001b[39;49m\u001b[38;5;124;43m\"\u001b[39;49m\u001b[38;5;124;43m/World/Slope\u001b[39;49m\u001b[38;5;124;43m\"\u001b[39;49m\u001b[43m,\u001b[49m\n\u001b[1;32m    125\u001b[0m \u001b[43m        \u001b[49m\u001b[43mname\u001b[49m\u001b[38;5;241;43m=\u001b[39;49m\u001b[38;5;124;43m\"\u001b[39;49m\u001b[38;5;124;43mslope\u001b[39;49m\u001b[38;5;124;43m\"\u001b[39;49m\u001b[43m,\u001b[49m\n\u001b[1;32m    126\u001b[0m \u001b[43m        \u001b[49m\u001b[43mposition\u001b[49m\u001b[38;5;241;43m=\u001b[39;49m\u001b[43m[\u001b[49m\u001b[38;5;241;43m0\u001b[39;49m\u001b[43m,\u001b[49m\u001b[43m \u001b[49m\u001b[38;5;241;43m0\u001b[39;49m\u001b[43m,\u001b[49m\u001b[43m \u001b[49m\u001b[38;5;241;43m0\u001b[39;49m\u001b[43m]\u001b[49m\u001b[43m,\u001b[49m\n\u001b[1;32m    127\u001b[0m \u001b[43m        \u001b[49m\u001b[43morientation\u001b[49m\u001b[38;5;241;43m=\u001b[39;49m\u001b[43m \u001b[49m\u001b[43m[\u001b[49m\u001b[38;5;241;43m-\u001b[39;49m\u001b[38;5;241;43m25\u001b[39;49m\u001b[43m,\u001b[49m\u001b[38;5;241;43m0\u001b[39;49m\u001b[43m,\u001b[49m\u001b[38;5;241;43m0\u001b[39;49m\u001b[43m]\u001b[49m\u001b[43m,\u001b[49m\n\u001b[1;32m    128\u001b[0m \u001b[43m        \u001b[49m\u001b[43msize\u001b[49m\u001b[38;5;241;43m=\u001b[39;49m\u001b[38;5;241;43m1.0\u001b[39;49m\u001b[43m,\u001b[49m\n\u001b[1;32m    129\u001b[0m \u001b[43m        \u001b[49m\u001b[43mmass\u001b[49m\u001b[38;5;241;43m=\u001b[39;49m\u001b[38;5;241;43m100\u001b[39;49m\u001b[43m,\u001b[49m\n\u001b[1;32m    130\u001b[0m \u001b[43m    \u001b[49m\u001b[43m)\u001b[49m\n\u001b[1;32m    131\u001b[0m     \u001b[38;5;28mself\u001b[39m\u001b[38;5;241m.\u001b[39mslope\u001b[38;5;241m.\u001b[39mset_local_scale([\u001b[38;5;241m20.0\u001b[39m, \u001b[38;5;241m10.0\u001b[39m, \u001b[38;5;241m0.2\u001b[39m])\n\u001b[1;32m    132\u001b[0m     \u001b[38;5;28mself\u001b[39m\u001b[38;5;241m.\u001b[39m_world\u001b[38;5;241m.\u001b[39mscene\u001b[38;5;241m.\u001b[39mget_object(\u001b[38;5;124m\"\u001b[39m\u001b[38;5;124mslope\u001b[39m\u001b[38;5;124m\"\u001b[39m)\n",
      "File \u001b[0;32m~/.local/share/ov/pkg/isaac-sim-4.2.0/exts/omni.isaac.core/omni/isaac/core/objects/cuboid.py:321\u001b[0m, in \u001b[0;36mDynamicCuboid.__init__\u001b[0;34m(self, prim_path, name, position, translation, orientation, scale, visible, color, size, visual_material, physics_material, mass, density, linear_velocity, angular_velocity)\u001b[0m\n\u001b[1;32m    319\u001b[0m     \u001b[38;5;28;01mif\u001b[39;00m mass \u001b[38;5;129;01mis\u001b[39;00m \u001b[38;5;28;01mNone\u001b[39;00m:\n\u001b[1;32m    320\u001b[0m         mass \u001b[38;5;241m=\u001b[39m \u001b[38;5;241m0.02\u001b[39m\n\u001b[0;32m--> 321\u001b[0m \u001b[43mFixedCuboid\u001b[49m\u001b[38;5;241;43m.\u001b[39;49m\u001b[38;5;21;43m__init__\u001b[39;49m\u001b[43m(\u001b[49m\n\u001b[1;32m    322\u001b[0m \u001b[43m    \u001b[49m\u001b[38;5;28;43mself\u001b[39;49m\u001b[43m,\u001b[49m\n\u001b[1;32m    323\u001b[0m \u001b[43m    \u001b[49m\u001b[43mprim_path\u001b[49m\u001b[38;5;241;43m=\u001b[39;49m\u001b[43mprim_path\u001b[49m\u001b[43m,\u001b[49m\n\u001b[1;32m    324\u001b[0m \u001b[43m    \u001b[49m\u001b[43mname\u001b[49m\u001b[38;5;241;43m=\u001b[39;49m\u001b[43mname\u001b[49m\u001b[43m,\u001b[49m\n\u001b[1;32m    325\u001b[0m \u001b[43m    \u001b[49m\u001b[43mposition\u001b[49m\u001b[38;5;241;43m=\u001b[39;49m\u001b[43mposition\u001b[49m\u001b[43m,\u001b[49m\n\u001b[1;32m    326\u001b[0m \u001b[43m    \u001b[49m\u001b[43mtranslation\u001b[49m\u001b[38;5;241;43m=\u001b[39;49m\u001b[43mtranslation\u001b[49m\u001b[43m,\u001b[49m\n\u001b[1;32m    327\u001b[0m \u001b[43m    \u001b[49m\u001b[43morientation\u001b[49m\u001b[38;5;241;43m=\u001b[39;49m\u001b[43morientation\u001b[49m\u001b[43m,\u001b[49m\n\u001b[1;32m    328\u001b[0m \u001b[43m    \u001b[49m\u001b[43mscale\u001b[49m\u001b[38;5;241;43m=\u001b[39;49m\u001b[43mscale\u001b[49m\u001b[43m,\u001b[49m\n\u001b[1;32m    329\u001b[0m \u001b[43m    \u001b[49m\u001b[43mvisible\u001b[49m\u001b[38;5;241;43m=\u001b[39;49m\u001b[43mvisible\u001b[49m\u001b[43m,\u001b[49m\n\u001b[1;32m    330\u001b[0m \u001b[43m    \u001b[49m\u001b[43mcolor\u001b[49m\u001b[38;5;241;43m=\u001b[39;49m\u001b[43mcolor\u001b[49m\u001b[43m,\u001b[49m\n\u001b[1;32m    331\u001b[0m \u001b[43m    \u001b[49m\u001b[43msize\u001b[49m\u001b[38;5;241;43m=\u001b[39;49m\u001b[43msize\u001b[49m\u001b[43m,\u001b[49m\n\u001b[1;32m    332\u001b[0m \u001b[43m    \u001b[49m\u001b[43mvisual_material\u001b[49m\u001b[38;5;241;43m=\u001b[39;49m\u001b[43mvisual_material\u001b[49m\u001b[43m,\u001b[49m\n\u001b[1;32m    333\u001b[0m \u001b[43m    \u001b[49m\u001b[43mphysics_material\u001b[49m\u001b[38;5;241;43m=\u001b[39;49m\u001b[43mphysics_material\u001b[49m\u001b[43m,\u001b[49m\n\u001b[1;32m    334\u001b[0m \u001b[43m\u001b[49m\u001b[43m)\u001b[49m\n\u001b[1;32m    335\u001b[0m RigidPrim\u001b[38;5;241m.\u001b[39m\u001b[38;5;21m__init__\u001b[39m(\n\u001b[1;32m    336\u001b[0m     \u001b[38;5;28mself\u001b[39m,\n\u001b[1;32m    337\u001b[0m     prim_path\u001b[38;5;241m=\u001b[39mprim_path,\n\u001b[0;32m   (...)\u001b[0m\n\u001b[1;32m    347\u001b[0m     angular_velocity\u001b[38;5;241m=\u001b[39mangular_velocity,\n\u001b[1;32m    348\u001b[0m )\n",
      "File \u001b[0;32m~/.local/share/ov/pkg/isaac-sim-4.2.0/exts/omni.isaac.core/omni/isaac/core/objects/cuboid.py:228\u001b[0m, in \u001b[0;36mFixedCuboid.__init__\u001b[0;34m(self, prim_path, name, position, translation, orientation, scale, visible, color, size, visual_material, physics_material)\u001b[0m\n\u001b[1;32m    221\u001b[0m         physics_material \u001b[38;5;241m=\u001b[39m PhysicsMaterial(\n\u001b[1;32m    222\u001b[0m             prim_path\u001b[38;5;241m=\u001b[39mphysics_material_path,\n\u001b[1;32m    223\u001b[0m             dynamic_friction\u001b[38;5;241m=\u001b[39mdynamic_friction,\n\u001b[1;32m    224\u001b[0m             static_friction\u001b[38;5;241m=\u001b[39mstatic_friction,\n\u001b[1;32m    225\u001b[0m             restitution\u001b[38;5;241m=\u001b[39mrestitution,\n\u001b[1;32m    226\u001b[0m         )\n\u001b[1;32m    227\u001b[0m     set_offsets \u001b[38;5;241m=\u001b[39m \u001b[38;5;28;01mTrue\u001b[39;00m\n\u001b[0;32m--> 228\u001b[0m \u001b[43mVisualCuboid\u001b[49m\u001b[38;5;241;43m.\u001b[39;49m\u001b[38;5;21;43m__init__\u001b[39;49m\u001b[43m(\u001b[49m\n\u001b[1;32m    229\u001b[0m \u001b[43m    \u001b[49m\u001b[38;5;28;43mself\u001b[39;49m\u001b[43m,\u001b[49m\n\u001b[1;32m    230\u001b[0m \u001b[43m    \u001b[49m\u001b[43mprim_path\u001b[49m\u001b[38;5;241;43m=\u001b[39;49m\u001b[43mprim_path\u001b[49m\u001b[43m,\u001b[49m\n\u001b[1;32m    231\u001b[0m \u001b[43m    \u001b[49m\u001b[43mname\u001b[49m\u001b[38;5;241;43m=\u001b[39;49m\u001b[43mname\u001b[49m\u001b[43m,\u001b[49m\n\u001b[1;32m    232\u001b[0m \u001b[43m    \u001b[49m\u001b[43mposition\u001b[49m\u001b[38;5;241;43m=\u001b[39;49m\u001b[43mposition\u001b[49m\u001b[43m,\u001b[49m\n\u001b[1;32m    233\u001b[0m \u001b[43m    \u001b[49m\u001b[43mtranslation\u001b[49m\u001b[38;5;241;43m=\u001b[39;49m\u001b[43mtranslation\u001b[49m\u001b[43m,\u001b[49m\n\u001b[1;32m    234\u001b[0m \u001b[43m    \u001b[49m\u001b[43morientation\u001b[49m\u001b[38;5;241;43m=\u001b[39;49m\u001b[43morientation\u001b[49m\u001b[43m,\u001b[49m\n\u001b[1;32m    235\u001b[0m \u001b[43m    \u001b[49m\u001b[43mscale\u001b[49m\u001b[38;5;241;43m=\u001b[39;49m\u001b[43mscale\u001b[49m\u001b[43m,\u001b[49m\n\u001b[1;32m    236\u001b[0m \u001b[43m    \u001b[49m\u001b[43mvisible\u001b[49m\u001b[38;5;241;43m=\u001b[39;49m\u001b[43mvisible\u001b[49m\u001b[43m,\u001b[49m\n\u001b[1;32m    237\u001b[0m \u001b[43m    \u001b[49m\u001b[43mcolor\u001b[49m\u001b[38;5;241;43m=\u001b[39;49m\u001b[43mcolor\u001b[49m\u001b[43m,\u001b[49m\n\u001b[1;32m    238\u001b[0m \u001b[43m    \u001b[49m\u001b[43msize\u001b[49m\u001b[38;5;241;43m=\u001b[39;49m\u001b[43msize\u001b[49m\u001b[43m,\u001b[49m\n\u001b[1;32m    239\u001b[0m \u001b[43m    \u001b[49m\u001b[43mvisual_material\u001b[49m\u001b[38;5;241;43m=\u001b[39;49m\u001b[43mvisual_material\u001b[49m\u001b[43m,\u001b[49m\n\u001b[1;32m    240\u001b[0m \u001b[43m\u001b[49m\u001b[43m)\u001b[49m\n\u001b[1;32m    241\u001b[0m GeometryPrim\u001b[38;5;241m.\u001b[39mset_collision_enabled(\u001b[38;5;28mself\u001b[39m, \u001b[38;5;28;01mTrue\u001b[39;00m)\n\u001b[1;32m    242\u001b[0m \u001b[38;5;28;01mif\u001b[39;00m physics_material \u001b[38;5;129;01mis\u001b[39;00m \u001b[38;5;129;01mnot\u001b[39;00m \u001b[38;5;28;01mNone\u001b[39;00m:\n",
      "File \u001b[0;32m~/.local/share/ov/pkg/isaac-sim-4.2.0/exts/omni.isaac.core/omni/isaac/core/objects/cuboid.py:96\u001b[0m, in \u001b[0;36mVisualCuboid.__init__\u001b[0;34m(self, prim_path, name, position, translation, orientation, scale, visible, color, size, visual_material)\u001b[0m\n\u001b[1;32m     92\u001b[0m         visual_prim_path \u001b[38;5;241m=\u001b[39m find_unique_string_name(\n\u001b[1;32m     93\u001b[0m             initial_name\u001b[38;5;241m=\u001b[39m\u001b[38;5;124m\"\u001b[39m\u001b[38;5;124m/World/Looks/visual_material\u001b[39m\u001b[38;5;124m\"\u001b[39m, is_unique_fn\u001b[38;5;241m=\u001b[39m\u001b[38;5;28;01mlambda\u001b[39;00m x: \u001b[38;5;129;01mnot\u001b[39;00m is_prim_path_valid(x)\n\u001b[1;32m     94\u001b[0m         )\n\u001b[1;32m     95\u001b[0m         visual_material \u001b[38;5;241m=\u001b[39m PreviewSurface(prim_path\u001b[38;5;241m=\u001b[39mvisual_prim_path, color\u001b[38;5;241m=\u001b[39mcolor)\n\u001b[0;32m---> 96\u001b[0m \u001b[43mGeometryPrim\u001b[49m\u001b[38;5;241;43m.\u001b[39;49m\u001b[38;5;21;43m__init__\u001b[39;49m\u001b[43m(\u001b[49m\n\u001b[1;32m     97\u001b[0m \u001b[43m    \u001b[49m\u001b[38;5;28;43mself\u001b[39;49m\u001b[43m,\u001b[49m\n\u001b[1;32m     98\u001b[0m \u001b[43m    \u001b[49m\u001b[43mprim_path\u001b[49m\u001b[38;5;241;43m=\u001b[39;49m\u001b[43mprim_path\u001b[49m\u001b[43m,\u001b[49m\n\u001b[1;32m     99\u001b[0m \u001b[43m    \u001b[49m\u001b[43mname\u001b[49m\u001b[38;5;241;43m=\u001b[39;49m\u001b[43mname\u001b[49m\u001b[43m,\u001b[49m\n\u001b[1;32m    100\u001b[0m \u001b[43m    \u001b[49m\u001b[43mposition\u001b[49m\u001b[38;5;241;43m=\u001b[39;49m\u001b[43mposition\u001b[49m\u001b[43m,\u001b[49m\n\u001b[1;32m    101\u001b[0m \u001b[43m    \u001b[49m\u001b[43mtranslation\u001b[49m\u001b[38;5;241;43m=\u001b[39;49m\u001b[43mtranslation\u001b[49m\u001b[43m,\u001b[49m\n\u001b[1;32m    102\u001b[0m \u001b[43m    \u001b[49m\u001b[43morientation\u001b[49m\u001b[38;5;241;43m=\u001b[39;49m\u001b[43morientation\u001b[49m\u001b[43m,\u001b[49m\n\u001b[1;32m    103\u001b[0m \u001b[43m    \u001b[49m\u001b[43mscale\u001b[49m\u001b[38;5;241;43m=\u001b[39;49m\u001b[43mscale\u001b[49m\u001b[43m,\u001b[49m\n\u001b[1;32m    104\u001b[0m \u001b[43m    \u001b[49m\u001b[43mvisible\u001b[49m\u001b[38;5;241;43m=\u001b[39;49m\u001b[43mvisible\u001b[49m\u001b[43m,\u001b[49m\n\u001b[1;32m    105\u001b[0m \u001b[43m    \u001b[49m\u001b[43mcollision\u001b[49m\u001b[38;5;241;43m=\u001b[39;49m\u001b[38;5;28;43;01mFalse\u001b[39;49;00m\u001b[43m,\u001b[49m\n\u001b[1;32m    106\u001b[0m \u001b[43m\u001b[49m\u001b[43m)\u001b[49m\n\u001b[1;32m    107\u001b[0m \u001b[38;5;28;01mif\u001b[39;00m visual_material \u001b[38;5;129;01mis\u001b[39;00m \u001b[38;5;129;01mnot\u001b[39;00m \u001b[38;5;28;01mNone\u001b[39;00m:\n\u001b[1;32m    108\u001b[0m     VisualCuboid\u001b[38;5;241m.\u001b[39mapply_visual_material(\u001b[38;5;28mself\u001b[39m, visual_material)\n",
      "File \u001b[0;32m~/.local/share/ov/pkg/isaac-sim-4.2.0/exts/omni.isaac.core/omni/isaac/core/prims/geometry_prim.py:120\u001b[0m, in \u001b[0;36mGeometryPrim.__init__\u001b[0;34m(self, prim_path, name, position, translation, orientation, scale, visible, collision, track_contact_forces, prepare_contact_sensor, disable_stablization, contact_filter_prim_paths_expr)\u001b[0m\n\u001b[1;32m    118\u001b[0m     visible \u001b[38;5;241m=\u001b[39m \u001b[38;5;28mself\u001b[39m\u001b[38;5;241m.\u001b[39m_backend_utils\u001b[38;5;241m.\u001b[39mcreate_tensor_from_list([visible], dtype\u001b[38;5;241m=\u001b[39m\u001b[38;5;124m\"\u001b[39m\u001b[38;5;124mbool\u001b[39m\u001b[38;5;124m\"\u001b[39m, device\u001b[38;5;241m=\u001b[39m\u001b[38;5;28mself\u001b[39m\u001b[38;5;241m.\u001b[39m_device)\n\u001b[1;32m    119\u001b[0m collision \u001b[38;5;241m=\u001b[39m \u001b[38;5;28mself\u001b[39m\u001b[38;5;241m.\u001b[39m_backend_utils\u001b[38;5;241m.\u001b[39mcreate_tensor_from_list([collision], dtype\u001b[38;5;241m=\u001b[39m\u001b[38;5;124m\"\u001b[39m\u001b[38;5;124mbool\u001b[39m\u001b[38;5;124m\"\u001b[39m, device\u001b[38;5;241m=\u001b[39m\u001b[38;5;28mself\u001b[39m\u001b[38;5;241m.\u001b[39m_device)\n\u001b[0;32m--> 120\u001b[0m \u001b[38;5;28mself\u001b[39m\u001b[38;5;241m.\u001b[39m_geometry_prim_view \u001b[38;5;241m=\u001b[39m \u001b[43mGeometryPrimView\u001b[49m\u001b[43m(\u001b[49m\n\u001b[1;32m    121\u001b[0m \u001b[43m    \u001b[49m\u001b[43mprim_paths_expr\u001b[49m\u001b[38;5;241;43m=\u001b[39;49m\u001b[43mprim_path\u001b[49m\u001b[43m,\u001b[49m\n\u001b[1;32m    122\u001b[0m \u001b[43m    \u001b[49m\u001b[43mname\u001b[49m\u001b[38;5;241;43m=\u001b[39;49m\u001b[43mname\u001b[49m\u001b[43m,\u001b[49m\n\u001b[1;32m    123\u001b[0m \u001b[43m    \u001b[49m\u001b[43mpositions\u001b[49m\u001b[38;5;241;43m=\u001b[39;49m\u001b[43mposition\u001b[49m\u001b[43m,\u001b[49m\n\u001b[1;32m    124\u001b[0m \u001b[43m    \u001b[49m\u001b[43mtranslations\u001b[49m\u001b[38;5;241;43m=\u001b[39;49m\u001b[43mtranslation\u001b[49m\u001b[43m,\u001b[49m\n\u001b[1;32m    125\u001b[0m \u001b[43m    \u001b[49m\u001b[43morientations\u001b[49m\u001b[38;5;241;43m=\u001b[39;49m\u001b[43morientation\u001b[49m\u001b[43m,\u001b[49m\n\u001b[1;32m    126\u001b[0m \u001b[43m    \u001b[49m\u001b[43mscales\u001b[49m\u001b[38;5;241;43m=\u001b[39;49m\u001b[43mscale\u001b[49m\u001b[43m,\u001b[49m\n\u001b[1;32m    127\u001b[0m \u001b[43m    \u001b[49m\u001b[43mvisibilities\u001b[49m\u001b[38;5;241;43m=\u001b[39;49m\u001b[43mvisible\u001b[49m\u001b[43m,\u001b[49m\n\u001b[1;32m    128\u001b[0m \u001b[43m    \u001b[49m\u001b[43mcollisions\u001b[49m\u001b[38;5;241;43m=\u001b[39;49m\u001b[43mcollision\u001b[49m\u001b[43m,\u001b[49m\n\u001b[1;32m    129\u001b[0m \u001b[43m    \u001b[49m\u001b[43mtrack_contact_forces\u001b[49m\u001b[38;5;241;43m=\u001b[39;49m\u001b[43mtrack_contact_forces\u001b[49m\u001b[43m,\u001b[49m\n\u001b[1;32m    130\u001b[0m \u001b[43m    \u001b[49m\u001b[43mprepare_contact_sensors\u001b[49m\u001b[38;5;241;43m=\u001b[39;49m\u001b[43mprepare_contact_sensor\u001b[49m\u001b[43m,\u001b[49m\n\u001b[1;32m    131\u001b[0m \u001b[43m    \u001b[49m\u001b[43mdisable_stablization\u001b[49m\u001b[38;5;241;43m=\u001b[39;49m\u001b[43mdisable_stablization\u001b[49m\u001b[43m,\u001b[49m\n\u001b[1;32m    132\u001b[0m \u001b[43m    \u001b[49m\u001b[43mcontact_filter_prim_paths_expr\u001b[49m\u001b[38;5;241;43m=\u001b[39;49m\u001b[43mcontact_filter_prim_paths_expr\u001b[49m\u001b[43m,\u001b[49m\n\u001b[1;32m    133\u001b[0m \u001b[43m\u001b[49m\u001b[43m)\u001b[49m\n\u001b[1;32m    134\u001b[0m _SinglePrimWrapper\u001b[38;5;241m.\u001b[39m\u001b[38;5;21m__init__\u001b[39m(\u001b[38;5;28mself\u001b[39m, view\u001b[38;5;241m=\u001b[39m\u001b[38;5;28mself\u001b[39m\u001b[38;5;241m.\u001b[39m_geometry_prim_view)\n",
      "File \u001b[0;32m~/.local/share/ov/pkg/isaac-sim-4.2.0/exts/omni.isaac.core/omni/isaac/core/prims/geometry_prim_view.py:140\u001b[0m, in \u001b[0;36mGeometryPrimView.__init__\u001b[0;34m(self, prim_paths_expr, name, positions, translations, orientations, scales, visibilities, reset_xform_properties, collisions, track_contact_forces, prepare_contact_sensors, disable_stablization, contact_filter_prim_paths_expr, max_contact_count)\u001b[0m\n\u001b[1;32m    123\u001b[0m \u001b[38;5;28;01mdef\u001b[39;00m \u001b[38;5;21m__init__\u001b[39m(\n\u001b[1;32m    124\u001b[0m     \u001b[38;5;28mself\u001b[39m,\n\u001b[1;32m    125\u001b[0m     prim_paths_expr: \u001b[38;5;28mstr\u001b[39m,\n\u001b[0;32m   (...)\u001b[0m\n\u001b[1;32m    138\u001b[0m     max_contact_count: \u001b[38;5;28mint\u001b[39m \u001b[38;5;241m=\u001b[39m \u001b[38;5;241m0\u001b[39m,\n\u001b[1;32m    139\u001b[0m ) \u001b[38;5;241m-\u001b[39m\u001b[38;5;241m>\u001b[39m \u001b[38;5;28;01mNone\u001b[39;00m:\n\u001b[0;32m--> 140\u001b[0m     \u001b[43mXFormPrimView\u001b[49m\u001b[38;5;241;43m.\u001b[39;49m\u001b[38;5;21;43m__init__\u001b[39;49m\u001b[43m(\u001b[49m\n\u001b[1;32m    141\u001b[0m \u001b[43m        \u001b[49m\u001b[38;5;28;43mself\u001b[39;49m\u001b[43m,\u001b[49m\n\u001b[1;32m    142\u001b[0m \u001b[43m        \u001b[49m\u001b[43mprim_paths_expr\u001b[49m\u001b[38;5;241;43m=\u001b[39;49m\u001b[43mprim_paths_expr\u001b[49m\u001b[43m,\u001b[49m\n\u001b[1;32m    143\u001b[0m \u001b[43m        \u001b[49m\u001b[43mname\u001b[49m\u001b[38;5;241;43m=\u001b[39;49m\u001b[43mname\u001b[49m\u001b[43m,\u001b[49m\n\u001b[1;32m    144\u001b[0m \u001b[43m        \u001b[49m\u001b[43mpositions\u001b[49m\u001b[38;5;241;43m=\u001b[39;49m\u001b[43mpositions\u001b[49m\u001b[43m,\u001b[49m\n\u001b[1;32m    145\u001b[0m \u001b[43m        \u001b[49m\u001b[43mtranslations\u001b[49m\u001b[38;5;241;43m=\u001b[39;49m\u001b[43mtranslations\u001b[49m\u001b[43m,\u001b[49m\n\u001b[1;32m    146\u001b[0m \u001b[43m        \u001b[49m\u001b[43morientations\u001b[49m\u001b[38;5;241;43m=\u001b[39;49m\u001b[43morientations\u001b[49m\u001b[43m,\u001b[49m\n\u001b[1;32m    147\u001b[0m \u001b[43m        \u001b[49m\u001b[43mscales\u001b[49m\u001b[38;5;241;43m=\u001b[39;49m\u001b[43mscales\u001b[49m\u001b[43m,\u001b[49m\n\u001b[1;32m    148\u001b[0m \u001b[43m        \u001b[49m\u001b[43mvisibilities\u001b[49m\u001b[38;5;241;43m=\u001b[39;49m\u001b[43mvisibilities\u001b[49m\u001b[43m,\u001b[49m\n\u001b[1;32m    149\u001b[0m \u001b[43m        \u001b[49m\u001b[43mreset_xform_properties\u001b[49m\u001b[38;5;241;43m=\u001b[39;49m\u001b[43mreset_xform_properties\u001b[49m\u001b[43m,\u001b[49m\n\u001b[1;32m    150\u001b[0m \u001b[43m    \u001b[49m\u001b[43m)\u001b[49m\n\u001b[1;32m    151\u001b[0m     \u001b[38;5;28mself\u001b[39m\u001b[38;5;241m.\u001b[39m_geoms \u001b[38;5;241m=\u001b[39m [\u001b[38;5;28;01mNone\u001b[39;00m] \u001b[38;5;241m*\u001b[39m \u001b[38;5;28mself\u001b[39m\u001b[38;5;241m.\u001b[39m_count\n\u001b[1;32m    152\u001b[0m     \u001b[38;5;28mself\u001b[39m\u001b[38;5;241m.\u001b[39m_collision_apis \u001b[38;5;241m=\u001b[39m [\u001b[38;5;28;01mNone\u001b[39;00m] \u001b[38;5;241m*\u001b[39m \u001b[38;5;28mself\u001b[39m\u001b[38;5;241m.\u001b[39m_count\n",
      "File \u001b[0;32m~/.local/share/ov/pkg/isaac-sim-4.2.0/exts/omni.isaac.core/omni/isaac/core/prims/xform_prim_view.py:183\u001b[0m, in \u001b[0;36mXFormPrimView.__init__\u001b[0;34m(self, prim_paths_expr, name, positions, translations, orientations, scales, visibilities, reset_xform_properties, usd)\u001b[0m\n\u001b[1;32m    181\u001b[0m         \u001b[38;5;28mself\u001b[39m\u001b[38;5;241m.\u001b[39mset_local_poses(translations, orientations)\n\u001b[1;32m    182\u001b[0m     \u001b[38;5;28;01melse\u001b[39;00m:\n\u001b[0;32m--> 183\u001b[0m         \u001b[38;5;28;43mself\u001b[39;49m\u001b[38;5;241;43m.\u001b[39;49m\u001b[43mset_world_poses\u001b[49m\u001b[43m(\u001b[49m\u001b[43mpositions\u001b[49m\u001b[43m,\u001b[49m\u001b[43m \u001b[49m\u001b[43morientations\u001b[49m\u001b[43m)\u001b[49m\n\u001b[1;32m    184\u001b[0m \u001b[38;5;28;01mif\u001b[39;00m scales \u001b[38;5;129;01mis\u001b[39;00m \u001b[38;5;129;01mnot\u001b[39;00m \u001b[38;5;28;01mNone\u001b[39;00m:\n\u001b[1;32m    185\u001b[0m     XFormPrimView\u001b[38;5;241m.\u001b[39mset_local_scales(\u001b[38;5;28mself\u001b[39m, scales)\n",
      "File \u001b[0;32m~/.local/share/ov/pkg/isaac-sim-4.2.0/exts/omni.isaac.core/omni/isaac/core/prims/xform_prim_view.py:939\u001b[0m, in \u001b[0;36mXFormPrimView.set_world_poses\u001b[0;34m(self, positions, orientations, indices, usd)\u001b[0m\n\u001b[1;32m    937\u001b[0m         write_idx \u001b[38;5;241m+\u001b[39m\u001b[38;5;241m=\u001b[39m \u001b[38;5;241m1\u001b[39m\n\u001b[1;32m    938\u001b[0m     parent_transforms \u001b[38;5;241m=\u001b[39m \u001b[38;5;28mself\u001b[39m\u001b[38;5;241m.\u001b[39m_backend_utils\u001b[38;5;241m.\u001b[39mconvert(parent_transforms, dtype\u001b[38;5;241m=\u001b[39m\u001b[38;5;124m\"\u001b[39m\u001b[38;5;124mfloat32\u001b[39m\u001b[38;5;124m\"\u001b[39m, device\u001b[38;5;241m=\u001b[39m\u001b[38;5;28mself\u001b[39m\u001b[38;5;241m.\u001b[39m_device)\n\u001b[0;32m--> 939\u001b[0m     calculated_translations, calculated_orientations \u001b[38;5;241m=\u001b[39m \u001b[38;5;28;43mself\u001b[39;49m\u001b[38;5;241;43m.\u001b[39;49m\u001b[43m_backend_utils\u001b[49m\u001b[38;5;241;43m.\u001b[39;49m\u001b[43mget_local_from_world\u001b[49m\u001b[43m(\u001b[49m\n\u001b[1;32m    940\u001b[0m \u001b[43m        \u001b[49m\u001b[43mparent_transforms\u001b[49m\u001b[43m,\u001b[49m\u001b[43m \u001b[49m\u001b[43mpositions\u001b[49m\u001b[43m,\u001b[49m\u001b[43m \u001b[49m\u001b[43morientations\u001b[49m\u001b[43m,\u001b[49m\u001b[43m \u001b[49m\u001b[38;5;28;43mself\u001b[39;49m\u001b[38;5;241;43m.\u001b[39;49m\u001b[43m_device\u001b[49m\n\u001b[1;32m    941\u001b[0m \u001b[43m    \u001b[49m\u001b[43m)\u001b[49m\n\u001b[1;32m    942\u001b[0m     XFormPrimView\u001b[38;5;241m.\u001b[39mset_local_poses(\n\u001b[1;32m    943\u001b[0m         \u001b[38;5;28mself\u001b[39m, translations\u001b[38;5;241m=\u001b[39mcalculated_translations, orientations\u001b[38;5;241m=\u001b[39mcalculated_orientations, indices\u001b[38;5;241m=\u001b[39mindices\n\u001b[1;32m    944\u001b[0m     )\n\u001b[1;32m    945\u001b[0m \u001b[38;5;28;01mreturn\u001b[39;00m\n",
      "File \u001b[0;32m~/.local/share/ov/pkg/isaac-sim-4.2.0/exts/omni.isaac.core/omni/isaac/core/utils/numpy/transformations.py:38\u001b[0m, in \u001b[0;36mget_local_from_world\u001b[0;34m(parent_transforms, positions, orientations, device)\u001b[0m\n\u001b[1;32m     36\u001b[0m calculated_translations \u001b[38;5;241m=\u001b[39m create_zeros_tensor(shape\u001b[38;5;241m=\u001b[39m[positions\u001b[38;5;241m.\u001b[39mshape[\u001b[38;5;241m0\u001b[39m], \u001b[38;5;241m3\u001b[39m], dtype\u001b[38;5;241m=\u001b[39m\u001b[38;5;124m\"\u001b[39m\u001b[38;5;124mfloat32\u001b[39m\u001b[38;5;124m\"\u001b[39m, device\u001b[38;5;241m=\u001b[39mdevice)\n\u001b[1;32m     37\u001b[0m calculated_orientations \u001b[38;5;241m=\u001b[39m create_zeros_tensor(shape\u001b[38;5;241m=\u001b[39m[positions\u001b[38;5;241m.\u001b[39mshape[\u001b[38;5;241m0\u001b[39m], \u001b[38;5;241m4\u001b[39m], dtype\u001b[38;5;241m=\u001b[39m\u001b[38;5;124m\"\u001b[39m\u001b[38;5;124mfloat32\u001b[39m\u001b[38;5;124m\"\u001b[39m, device\u001b[38;5;241m=\u001b[39mdevice)\n\u001b[0;32m---> 38\u001b[0m my_world_transforms \u001b[38;5;241m=\u001b[39m \u001b[43mtf_matrices_from_poses\u001b[49m\u001b[43m(\u001b[49m\u001b[43mtranslations\u001b[49m\u001b[38;5;241;43m=\u001b[39;49m\u001b[43mpositions\u001b[49m\u001b[43m,\u001b[49m\u001b[43m \u001b[49m\u001b[43morientations\u001b[49m\u001b[38;5;241;43m=\u001b[39;49m\u001b[43morientations\u001b[49m\u001b[43m)\u001b[49m\n\u001b[1;32m     39\u001b[0m \u001b[38;5;66;03m# TODO: vectorize this\u001b[39;00m\n\u001b[1;32m     40\u001b[0m \u001b[38;5;28;01mfor\u001b[39;00m i \u001b[38;5;129;01min\u001b[39;00m \u001b[38;5;28mrange\u001b[39m(positions\u001b[38;5;241m.\u001b[39mshape[\u001b[38;5;241m0\u001b[39m]):\n",
      "File \u001b[0;32m~/.local/share/ov/pkg/isaac-sim-4.2.0/exts/omni.isaac.core/omni/isaac/core/utils/numpy/transformations.py:28\u001b[0m, in \u001b[0;36mtf_matrices_from_poses\u001b[0;34m(translations, orientations, device)\u001b[0m\n\u001b[1;32m     17\u001b[0m \u001b[38;5;250m\u001b[39m\u001b[38;5;124;03m\"\"\"[summary]\u001b[39;00m\n\u001b[1;32m     18\u001b[0m \n\u001b[1;32m     19\u001b[0m \u001b[38;5;124;03mArgs:\u001b[39;00m\n\u001b[0;32m   (...)\u001b[0m\n\u001b[1;32m     24\u001b[0m \u001b[38;5;124;03m    Union[np.ndarray, torch.Tensor]: transformation matrices with shape (N, 4, 4)\u001b[39;00m\n\u001b[1;32m     25\u001b[0m \u001b[38;5;124;03m\"\"\"\u001b[39;00m\n\u001b[1;32m     27\u001b[0m result \u001b[38;5;241m=\u001b[39m np\u001b[38;5;241m.\u001b[39mzeros([orientations\u001b[38;5;241m.\u001b[39mshape[\u001b[38;5;241m0\u001b[39m], \u001b[38;5;241m4\u001b[39m, \u001b[38;5;241m4\u001b[39m], dtype\u001b[38;5;241m=\u001b[39mnp\u001b[38;5;241m.\u001b[39mfloat32)\n\u001b[0;32m---> 28\u001b[0m r \u001b[38;5;241m=\u001b[39m Rotation\u001b[38;5;241m.\u001b[39mfrom_quat(\u001b[43morientations\u001b[49m\u001b[43m[\u001b[49m\u001b[43m:\u001b[49m\u001b[43m,\u001b[49m\u001b[43m \u001b[49m\u001b[43m[\u001b[49m\u001b[38;5;241;43m1\u001b[39;49m\u001b[43m,\u001b[49m\u001b[43m \u001b[49m\u001b[38;5;241;43m2\u001b[39;49m\u001b[43m,\u001b[49m\u001b[43m \u001b[49m\u001b[38;5;241;43m3\u001b[39;49m\u001b[43m,\u001b[49m\u001b[43m \u001b[49m\u001b[38;5;241;43m0\u001b[39;49m\u001b[43m]\u001b[49m\u001b[43m]\u001b[49m)\n\u001b[1;32m     29\u001b[0m result[:, :\u001b[38;5;241m3\u001b[39m, :\u001b[38;5;241m3\u001b[39m] \u001b[38;5;241m=\u001b[39m r\u001b[38;5;241m.\u001b[39mas_matrix()\n\u001b[1;32m     30\u001b[0m result[:, :\u001b[38;5;241m3\u001b[39m, \u001b[38;5;241m3\u001b[39m] \u001b[38;5;241m=\u001b[39m translations\n",
      "\u001b[0;31mIndexError\u001b[0m: index 3 is out of bounds for axis 1 with size 3"
     ]
    }
   ],
   "source": [
    "from isaacsim import SimulationApp\n",
    "simulation_app = SimulationApp({\"headless\": False})\n",
    "\n",
    "from torch.utils.tensorboard import SummaryWriter\n",
    "\n",
    "from ji_dog_env_create_v3 import Ji_Dog_Env\n",
    "from tqdm import tqdm  \n",
    "import numpy as np\n",
    "import os\n",
    "\n",
    "\n",
    "\n",
    "# Load the saved model\n",
    "load_path = \"Model_Checkpoints/Ji_dog_5.0_Episode.pth\"\n",
    "ppo = PPO_Clip(state_dim, action_dim, lr_actor=0.0001, lr_critic=0.001, gamma=0.99, K_epochs=4, eps_clip=0.2)\n",
    "ppo.load(load_path)\n",
    "\n",
    "\n",
    "env = Ji_Dog_Env('Model(including video)/ji_dog1.0.usd')\n",
    "\n",
    "\n",
    "state_dim = 20\n",
    "action_dim = 4\n",
    "max_training_timesteps = 100\n",
    "max_timesteps = 500\n",
    "# ppo = PPO_Clip(state_dim, action_dim, lr_actor=0.0003, lr_critic=0.001, gamma=0.99, K_epochs=4, eps_clip=0.2)\n",
    "\n",
    "# Initialize \n",
    "\n",
    "writer = SummaryWriter(log_dir=\"runs/Ji_Dog_Training\")\n",
    "    \n",
    "total_rewards = {\n",
    "    \"distance_reward\": 0,\n",
    "    \"fall_penalty\": 0,\n",
    "    \"symmetry_reward\": 0,\n",
    "    \"period_penalty\": 0,\n",
    "    \"contact_penalty\": 0,\n",
    "    \"smoothness_penalty\": 0,\n",
    "    \"progress_reward\":0,\n",
    "    \"mass_centre_reward\":0,\n",
    "    \"stability_penalty\":0,\n",
    "}\n",
    "\n",
    "state = env.reset()\n",
    "state = process_state(state)\n",
    "state = np.array(state)\n",
    "\n",
    "total_episode_reward = 0\n",
    "# for ep in range(1, total_test_episodes+1):    \n",
    "for t in range(max_timesteps + 1):\n",
    "    action = ppo.select_action(state)\n",
    "    state, total_reward, rewards, done, _ = env.step(action[0])\n",
    "\n",
    "    state = process_state(state)\n",
    "    state = np.array(state)\n",
    "    # ppo.buffer.rewards.append(total_reward)\n",
    "    # ppo.buffer.is_terminals.append(done)\n",
    "    # ppo.buffer.reward_contributions.append(rewards) \n",
    "    \n",
    "    # reward, reward_contributions = env.calculate_reward()\n",
    "    for key in rewards:\n",
    "        total_rewards[key] += rewards[key]\n",
    "\n",
    "    \n",
    "    total_episode_reward += total_reward\n",
    "    if done:\n",
    "        break\n",
    "ppo.buffer.clear()        \n",
    "# Update PPO and record metrics\n",
    "# average_loss, policy_loss, value_loss, policy_entropy = ppo.update()\n",
    "\n",
    "\n",
    "simulation_app.close()\n"
   ]
  },
  {
   "cell_type": "code",
   "execution_count": null,
   "id": "de8eb280-4e21-4f94-9841-2ad3ced03b42",
   "metadata": {},
   "outputs": [],
   "source": [
    "\n",
    "simulation_app.close()\n"
   ]
  }
 ],
 "metadata": {
  "kernelspec": {
   "display_name": "Isaac Sim Python 3",
   "language": "python",
   "name": "isaac_sim_python3"
  },
  "language_info": {
   "codemirror_mode": {
    "name": "ipython",
    "version": 3
   },
   "file_extension": ".py",
   "mimetype": "text/x-python",
   "name": "python",
   "nbconvert_exporter": "python",
   "pygments_lexer": "ipython3",
   "version": "3.10.14"
  }
 },
 "nbformat": 4,
 "nbformat_minor": 5
}
