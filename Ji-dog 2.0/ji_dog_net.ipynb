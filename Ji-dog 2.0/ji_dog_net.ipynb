{
 "cells": [
  {
   "cell_type": "code",
   "execution_count": 1,
   "id": "75acd808-8187-4452-9f57-ec52fd472397",
   "metadata": {},
   "outputs": [],
   "source": [
    "import torch\n",
    "import gym\n",
    "import numpy as np\n",
    "\n",
    "from ji_dog_net import PPO\n",
    "from ji_dog_net import ActorCritic\n",
    "from ji_dog_net import process_state"
   ]
  },
  {
   "cell_type": "markdown",
   "id": "45f3836a-6b29-469c-bf79-7cb77672f023",
   "metadata": {},
   "source": [
    "## Check device"
   ]
  },
  {
   "cell_type": "code",
   "execution_count": 2,
   "id": "05c5a862-f6b9-4cd5-923c-4d2ed509dd5c",
   "metadata": {},
   "outputs": [
    {
     "name": "stdout",
     "output_type": "stream",
     "text": [
      "============================================================================================\n",
      "Device set to : NVIDIA GeForce RTX 4060 Laptop GPU\n",
      "============================================================================================\n"
     ]
    }
   ],
   "source": [
    "print(\"============================================================================================\")\n",
    "# set device to cpu or cuda\n",
    "device = torch.device('cpu')\n",
    "if(torch.cuda.is_available()): \n",
    "    device = torch.device('cuda:0') \n",
    "    torch.cuda.empty_cache()\n",
    "    print(\"Device set to : \" + str(torch.cuda.get_device_name(device)))\n",
    "else:\n",
    "    print(\"Device set to : cpu\")\n",
    "print(\"============================================================================================\")\n"
   ]
  },
  {
   "cell_type": "markdown",
   "id": "2e6f026d-a1a8-4b35-84b6-eb95dadbb871",
   "metadata": {},
   "source": [
    "## Test ACNet"
   ]
  },
  {
   "cell_type": "code",
   "execution_count": 3,
   "id": "000f3284-c8fe-4914-aad9-be59a2cb2e3a",
   "metadata": {},
   "outputs": [
    {
     "name": "stdout",
     "output_type": "stream",
     "text": [
      "Action output: tensor([[ 0.3659, -0.1104, -0.3700, -0.3385]], device='cuda:0')\n",
      "Action log probability: tensor([-2.1186], device='cuda:0')\n",
      "State value output: tensor([-0.0930], device='cuda:0', grad_fn=<ViewBackward0>)\n",
      "PPO complete, network has been trained for one iteration.\n"
     ]
    }
   ],
   "source": [
    "\n",
    "state_dim = 20  \n",
    "action_dim = 4 \n",
    "ppo = PPO(state_dim, action_dim, lr_actor=0.0003, lr_critic=0.001, gamma=0.99, K_epochs=4, eps_clip=0.2)\n",
    "state = torch.rand((state_dim,)).to(device)  \n",
    "action, action_logprob, hidden_actor = ppo.policy.act(state)\n",
    "\n",
    "print(\"Action output:\", action)\n",
    "print(\"Action log probability:\", action_logprob)\n",
    "\n",
    "state_value = ppo.policy.evaluate_critic(state)\n",
    "\n",
    "print(\"State value output:\", state_value)\n",
    "\n",
    "ppo.buffer.rewards.append(1.0)\n",
    "ppo.buffer.is_terminals.append(False)\n",
    "\n",
    "print(\"PPO complete, network has been trained for one iteration.\")\n"
   ]
  },
  {
   "cell_type": "markdown",
   "id": "457a6739-84b9-4042-a8ba-305c34c2564c",
   "metadata": {},
   "source": [
    "## Train PPO"
   ]
  },
  {
   "cell_type": "code",
   "execution_count": 4,
   "id": "468faa10-37bc-4564-94c5-0f7445fbcf19",
   "metadata": {},
   "outputs": [
    {
     "name": "stdout",
     "output_type": "stream",
     "text": [
      "Starting kit application with the following args:  ['/home/bai/.local/share/ov/pkg/isaac-sim-4.2.0/exts/omni.isaac.kit/omni/isaac/kit/simulation_app.py', '/home/bai/.local/share/ov/pkg/isaac-sim-4.2.0/apps/omni.isaac.sim.python.kit', '--/app/tokens/exe-path=/home/bai/.local/share/ov/pkg/isaac-sim-4.2.0/kit', '--/persistent/app/viewport/displayOptions=3094', '--/rtx/materialDb/syncLoads=True', '--/rtx/hydra/materialSyncLoads=True', '--/omni.kit.plugin/syncUsdLoads=True', '--/app/renderer/resolution/width=1280', '--/app/renderer/resolution/height=720', '--/app/window/width=1440', '--/app/window/height=900', '--/renderer/multiGpu/enabled=True', '--/app/fastShutdown=False', '--ext-folder', '/home/bai/.local/share/ov/pkg/isaac-sim-4.2.0/exts', '--ext-folder', '/home/bai/.local/share/ov/pkg/isaac-sim-4.2.0/apps', '--/physics/cudaDevice=0', '--portable', '--no-window', '--/app/window/hideUi=1']\n",
      "Passing the following args to the base kit application:  ['-f', '/home/bai/.local/share/jupyter/runtime/kernel-232e5b43-7493-44fe-94eb-7bee33831b24.json']\n",
      "[Warning] [omni.isaac.kit.simulation_app] fast shutdown not supported with jupyter notebooks\n",
      "[Info] [carb] Logging to file: /home/bai/.local/share/ov/pkg/isaac-sim-4.2.0/kit/logs/Kit/Isaac-Sim/4.2/kit_20241028_155030.log\n",
      "2024-10-28 07:50:30 [0ms] [Warning] [omni.kit.app.plugin] No crash reporter present, dumps uploading isn't available.\n",
      "[0.151s] [ext: omni.blobkey-1.1.2] startup\n",
      "[0.151s] [ext: omni.kit.async_engine-0.0.1] startup\n",
      "[0.891s] [ext: omni.stats-1.0.1] startup\n",
      "[0.893s] [ext: omni.datastore-0.0.0] startup\n",
      "[0.902s] [ext: omni.client-1.2.0] startup\n",
      "[0.944s] [ext: omni.ujitso.default-1.0.0] startup\n",
      "[0.945s] [ext: omni.gpu_foundation.shadercache.vulkan-1.0.0] startup\n",
      "[0.949s] [ext: omni.hsscclient-1.1.1] startup\n",
      "[0.950s] [ext: omni.assets.plugins-0.0.0] startup\n",
      "[0.952s] [ext: omni.gpu_foundation-0.0.0] startup\n",
      "[0.961s] [ext: carb.windowing.plugins-1.0.0] startup\n",
      "[0.972s] [ext: omni.kit.renderer.init-0.0.0] startup\n",
      "2024-10-28 07:50:31 [1,195ms] [Warning] [gpu.foundation.plugin] Skipping unsupported non-NVIDIA GPU: Intel(R) Graphics (RPL-P)\n",
      "2024-10-28 07:50:31 [1,195ms] [Warning] [gpu.foundation.plugin] Skipping unsupported non-NVIDIA GPU: Intel(R) Graphics (RPL-P)\n",
      "\n",
      "|---------------------------------------------------------------------------------------------|\n",
      "| Driver Version: 535.183.01    | Graphics API: Vulkan\n",
      "|=============================================================================================|\n",
      "| GPU | Name                             | Active | LDA | GPU Memory | Vendor-ID | LUID       |\n",
      "|     |                                  |        |     |            | Device-ID | UUID       |\n",
      "|     |                                  |        |     |            | Bus-ID    |            |\n",
      "|---------------------------------------------------------------------------------------------|\n",
      "| 0   | NVIDIA GeForce RTX 4060 Laptop.. | Yes: 0 |     | 8188    MB | 10de      | 0          |\n",
      "|     |                                  |        |     |            | 28e0      | 68c71b6b.. |\n",
      "|     |                                  |        |     |            | 1         |            |\n",
      "|---------------------------------------------------------------------------------------------|\n",
      "| 1   | Intel(R) Graphics (RPL-P)        |        |     | 23863   MB | 8086      | 0          |\n",
      "|     |                                  |        |     |            | a7a0      | 8680a0a7.. |\n",
      "|     |                                  |        |     |            | 0         |            |\n",
      "|=============================================================================================|\n",
      "| OS: 22.04.5 LTS (Jammy Jellyfish) ubuntu, Version: 22.04.5, Kernel: 6.8.0-47-generic\n",
      "| XServer Vendor: The X.Org Foundation, XServer Version: 12101004 (1.21.1.4)\n",
      "| Processor: 13th Gen Intel(R) Core(TM) i9-13900H | Cores: 14 | Logical: 28\n",
      "|---------------------------------------------------------------------------------------------|\n",
      "| Total Memory (MB): 31817 | Free Memory: 20264\n",
      "| Total Page/Swap (MB): 2047 | Free Page/Swap: 2047\n",
      "|---------------------------------------------------------------------------------------------|\n",
      "[1.835s] [ext: omni.kit.pipapi-0.0.0] startup\n",
      "[1.837s] [ext: omni.kit.pip_archive-0.0.0] startup\n",
      "[1.838s] [ext: omni.pip.compute-1.4.0] startup\n",
      "[1.839s] [ext: omni.pip.cloud-1.1.3] startup\n",
      "[1.844s] [ext: omni.isaac.core_archive-2.3.0] startup\n",
      "[1.844s] [ext: omni.materialx.libs-1.0.4] startup\n",
      "[1.861s] [ext: omni.isaac.ml_archive-2.0.1] startup\n",
      "[1.862s] [ext: omni.kit.telemetry-0.5.0] startup\n",
      "[1.932s] [ext: omni.usd.config-1.0.4] startup\n",
      "[1.945s] [ext: omni.gpucompute.plugins-0.0.0] startup\n",
      "[1.948s] [ext: omni.usd.libs-1.0.1] startup\n",
      "[2.328s] [ext: omni.iray.libs-0.0.0] startup\n",
      "[2.341s] [ext: omni.mdl.neuraylib-0.2.8] startup\n",
      "[2.345s] [ext: omni.mdl-55.0.1] startup\n",
      "[2.413s] [ext: omni.kit.usd.mdl-1.0.1] startup\n",
      "[2.860s] [ext: omni.kit.loop-isaac-1.2.0] startup\n",
      "[2.863s] [ext: omni.kit.test-1.1.0] startup\n",
      "[2.947s] [ext: omni.appwindow-1.1.8] startup\n",
      "[2.952s] [ext: omni.kit.renderer.core-1.0.2] startup\n",
      "[2.985s] [ext: omni.kit.renderer.capture-0.0.0] startup\n",
      "[2.992s] [ext: omni.kit.renderer.imgui-1.0.1] startup\n",
      "[3.177s] [ext: omni.ui-2.25.22] startup\n",
      "[3.220s] [ext: omni.kit.mainwindow-1.0.3] startup\n",
      "[3.224s] [ext: carb.audio-0.1.0] startup\n",
      "[3.234s] [ext: omni.uiaudio-1.0.0] startup\n",
      "[3.237s] [ext: omni.kit.uiapp-0.0.0] startup\n",
      "[3.237s] [ext: omni.usd.schema.isaac-2.1.0] startup\n",
      "[3.269s] [ext: omni.usd.schema.audio-0.0.0] startup\n",
      "[3.282s] [ext: omni.usd.schema.anim-0.0.0] startup\n",
      "[3.368s] [ext: omni.usd.schema.geospatial-0.0.0] startup\n",
      "[3.379s] [ext: omni.usd.schema.semantics-0.0.0] startup\n",
      "[3.390s] [ext: omni.usd.schema.omnigraph-1.0.0] startup\n",
      "[3.414s] [ext: omni.anim.navigation.schema-106.1.0] startup\n",
      "[3.427s] [ext: omni.usd.schema.scene.visualization-2.0.2] startup\n",
      "[3.431s] [ext: omni.usd.schema.omniscripting-1.0.0] startup\n",
      "[3.452s] [ext: omni.anim.graph.schema-106.1.0] startup\n",
      "[3.478s] [ext: omni.usd.schema.physx-106.1.9] startup\n",
      "[3.594s] [ext: omni.usd.schema.forcefield-106.1.9] startup\n",
      "[3.623s] [ext: omni.graph.exec-0.9.4] startup\n",
      "[3.627s] [ext: omni.kit.usd_undo-0.1.8] startup\n",
      "[3.629s] [ext: omni.kit.actions.core-1.0.0] startup\n",
      "[3.635s] [ext: omni.kit.exec.core-0.13.4] startup\n",
      "[3.651s] [ext: omni.usd_resolver-1.0.0] startup\n",
      "[3.669s] [ext: omni.kit.commands-1.4.9] startup\n",
      "[3.683s] [ext: omni.activity.core-1.0.1] startup\n",
      "[3.690s] [ext: omni.usd.core-1.4.1] startup\n",
      "[3.705s] [ext: omni.resourcemonitor-105.0.1] startup\n",
      "[3.712s] [ext: omni.kit.window.popup_dialog-2.0.24] startup\n",
      "[3.728s] [ext: omni.timeline-1.0.10] startup\n",
      "[3.735s] [ext: omni.kit.widget.nucleus_connector-1.1.9] startup\n",
      "[3.741s] [ext: usdrt.scenegraph-7.5.0] startup\n",
      "[3.831s] [ext: omni.kit.audiodeviceenum-1.0.1] startup\n",
      "[3.834s] [ext: omni.hydra.usdrt_delegate-7.5.1] startup\n",
      "[3.877s] [ext: omni.hydra.scene_delegate-0.3.3] startup\n",
      "[3.889s] [ext: omni.usd-1.12.2] startup\n",
      "[4.022s] [ext: omni.kit.menu.core-1.0.4] startup\n",
      "[4.025s] [ext: omni.kit.collaboration.telemetry-1.0.0] startup\n",
      "[4.028s] [ext: omni.kit.property.adapter.core-1.0.1] startup\n",
      "[4.036s] [ext: omni.kit.menu.utils-1.5.27] startup\n",
      "[4.068s] [ext: omni.kit.clipboard-1.0.4] startup\n",
      "[4.070s] [ext: omni.kit.collaboration.channel_manager-1.0.12] startup\n",
      "[4.074s] [ext: omni.kit.property.adapter.usd-1.0.1] startup\n",
      "[4.078s] [ext: omni.kit.widget.options_menu-1.1.6] startup\n",
      "[4.088s] [ext: omni.kit.widget.graph-1.12.15] startup\n",
      "[4.106s] [ext: omni.kit.widget.searchfield-1.1.8] startup\n",
      "[4.111s] [ext: omni.kit.widget.filter-1.1.4] startup\n",
      "[4.113s] [ext: omni.kit.property.adapter.fabric-1.0.1] startup\n",
      "[4.117s] [ext: omni.ui_query-1.1.4] startup\n",
      "[4.120s] [ext: omni.kit.window.extensions-1.4.11] startup\n",
      "[4.131s] [ext: omni.kit.usd.layers-2.1.36] startup\n",
      "[4.148s] [ext: omni.kit.widget.context_menu-1.2.2] startup\n",
      "[4.150s] [ext: omni.hydra.rtx.shadercache.vulkan-1.0.0] startup\n",
      "[4.152s] [ext: omni.kit.notification_manager-1.0.9] startup\n",
      "[4.155s] [ext: omni.kit.hotkeys.core-1.3.5] startup\n",
      "[4.156s] [ext: omni.kit.context_menu-1.8.1] startup\n",
      "[4.159s] [ext: omni.kit.widget.prompt-1.0.7] startup\n",
      "[4.161s] [ext: omni.kit.helper.file_utils-0.1.8] startup\n",
      "[4.163s] [ext: omni.kit.widget.nucleus_info-1.0.2] startup\n",
      "[4.165s] [ext: omni.kit.widget.filebrowser-2.10.51] startup\n",
      "[4.171s] [ext: omni.kit.search_core-1.0.5] startup\n",
      "[4.172s] [ext: omni.kit.widget.path_field-2.0.10] startup\n",
      "[4.174s] [ext: omni.ui.scene-1.10.3] startup\n",
      "[4.185s] [ext: omni.kit.widget.search_delegate-1.0.5] startup\n",
      "[4.187s] [ext: omni.kit.widget.options_button-1.0.3] startup\n",
      "[4.189s] [ext: omni.kit.widget.browser_bar-2.0.10] startup\n",
      "[4.190s] [ext: omni.volume-0.5.0] startup\n",
      "[4.196s] [ext: omni.kit.window.filepicker-2.10.40] startup\n",
      "[4.210s] [ext: omni.ujitso.processor.texture-1.0.0] startup\n",
      "[4.211s] [ext: omni.kit.window.file_exporter-1.0.30] startup\n",
      "[4.214s] [ext: omni.ujitso.client-0.0.0] startup\n",
      "[4.215s] [ext: omni.kit.widget.stage-2.11.2] startup\n",
      "[4.231s] [ext: omni.kit.widget.live_session_management.ui-1.0.1] startup\n",
      "[4.235s] [ext: omni.kit.collaboration.presence_layer-1.0.9] startup\n",
      "[4.238s] [ext: omni.hydra.rtx-1.0.0] startup\n",
      "[4.300s] [ext: omni.inspect-1.0.1] startup\n",
      "[4.306s] [ext: omni.kit.widget.searchable_combobox-1.0.6] startup\n",
      "[4.309s] [ext: omni.kit.window.file_importer-1.1.12] startup\n",
      "[4.313s] [ext: omni.kit.stage_template.core-1.1.22] startup\n",
      "[4.315s] [ext: omni.kit.widget.settings-1.2.2] startup\n",
      "[4.321s] [ext: omni.kit.window.file-1.3.54] startup\n",
      "[4.331s] [ext: omni.kit.window.drop_support-1.0.3] startup\n",
      "[4.333s] [ext: omni.kit.window.content_browser_registry-0.0.6] startup\n",
      "[4.335s] [ext: omni.kit.window.preferences-1.6.0] startup\n",
      "[4.362s] [ext: omni.kit.window.content_browser-2.9.18] startup\n",
      "[4.420s] [ext: omni.kit.widget.live_session_management-1.2.20] startup\n",
      "[4.429s] [ext: omni.kit.widget.text_editor-1.0.2] startup\n",
      "[4.435s] [ext: omni.kit.hydra_texture-1.3.9] startup\n",
      "[4.454s] [ext: omni.kit.viewport.legacy_gizmos-1.1.0] startup\n",
      "[4.468s] [ext: omni.kit.raycast.query-1.0.5] startup\n",
      "[4.492s] [ext: omni.kit.material.library-1.5.6] startup\n",
      "[4.506s] [ext: omni.kit.widget.viewport-106.1.0] startup\n",
      "[4.512s] [ext: omni.kit.viewport.registry-104.0.6] startup\n",
      "[4.513s] [ext: omni.hydra.engine.stats-1.0.2] startup\n",
      "[4.520s] [ext: omni.kit.widget.highlight_label-1.0.2] startup\n",
      "[4.521s] [ext: omni.kit.viewport.window-107.0.6] startup\n",
      "[4.553s] [ext: omni.kit.window.property-1.11.3] startup\n",
      "[4.556s] [ext: omni.graph.core-2.179.2] startup\n",
      "[4.561s] [ext: omni.graph.tools-1.79.0] startup\n",
      "[4.610s] [ext: omni.kit.viewport.utility-1.0.17] startup\n",
      "[4.612s] [ext: omni.kit.property.usd-4.2.8] startup\n",
      "[4.638s] [ext: omni.debugdraw-0.1.3] startup\n",
      "[4.650s] [ext: omni.graph-1.140.0] startup\n",
      "[4.784s] [ext: omni.graph.ui-1.70.2] startup\n",
      "[4.812s] [ext: omni.kvdb-106.1.9] startup\n",
      "[4.818s] [ext: omni.graph.image.core-0.4.5] startup\n",
      "[4.823s] [ext: omni.localcache-106.1.9] startup\n",
      "[4.826s] [ext: omni.graph.image.nodes-1.1.0] startup\n",
      "[4.833s] [ext: omni.usdphysics-106.1.9] startup\n",
      "[4.842s] [ext: omni.physx.foundation-106.1.9] startup\n",
      "[4.845s] [ext: omni.convexdecomposition-106.1.9] startup\n",
      "[4.855s] [ext: omni.graph.nodes-1.146.1] startup\n",
      "[4.873s] [ext: omni.physx.cooking-106.1.9] startup\n",
      "[4.898s] [ext: omni.kit.primitive.mesh-1.0.17] startup\n",
      "[4.905s] [ext: omni.physx-106.1.9] startup\n",
      "[4.932s] [ext: omni.kit.stage_templates-1.2.5] startup\n",
      "[4.937s] [ext: omni.isaac.version-1.1.0] startup\n",
      "[4.939s] [ext: omni.kit.widget.material_preview-1.0.16] startup\n",
      "[4.943s] [ext: omni.isaac.nucleus-0.3.1] startup\n",
      "[4.946s] [ext: omni.physics.tensors-106.1.9] startup\n",
      "[4.962s] [ext: omni.physx.stageupdate-106.1.9] startup\n",
      "[4.966s] [ext: omni.graph.action_core-1.1.6] startup\n",
      "[4.975s] [ext: omni.warp.core-1.2.1] startup\n",
      "[5.144s] [ext: omni.physx.tensors-106.1.9] startup\n",
      "[5.155s] [ext: omni.graph.scriptnode-1.20.1] startup\n",
      "[5.157s] [ext: omni.kit.manipulator.viewport-107.0.0] startup\n",
      "[5.162s] [ext: omni.graph.action_nodes-1.24.0] startup\n",
      "[5.182s] [ext: omni.kit.ui_test-1.3.2] startup\n",
      "[5.193s] [ext: omni.isaac.core-3.19.5] startup\n",
      "[5.789s] [ext: omni.graph.visualization.nodes-2.1.1] startup\n",
      "[5.817s] [ext: omni.graph.action-1.102.1] startup\n",
      "[5.824s] [ext: omni.kit.window.cursor-1.1.2] startup\n",
      "[5.837s] [ext: omni.isaac.ui-0.16.0] startup\n",
      "[5.867s] [ext: omni.kit.viewport.menubar.core-106.1.0] startup\n",
      "[5.924s] [ext: omni.kit.graph.delegate.default-1.2.2] startup\n",
      "[5.927s] [ext: omni.syntheticdata-0.6.9] startup\n",
      "[5.979s] [ext: omni.kit.graph.usd.commands-1.3.1] startup\n",
      "[5.984s] [ext: omni.kit.graph.editor.core-1.5.3] startup\n",
      "[5.995s] [ext: omni.kit.numpy.common-0.1.2] startup\n",
      "[5.998s] [ext: omni.warp-1.2.1] startup\n",
      "[6.014s] [ext: omni.kit.window.material_graph-1.8.18] startup\n",
      "[6.074s] [ext: omni.isaac.dynamic_control-1.3.8] startup\n",
      "[6.135s] [ext: omni.replicator.core-1.11.20] startup\n",
      "2024-10-28 07:50:36 [6,155ms] [Warning] [omni.replicator.core.scripts.annotators] Annotator PostProcessDispatch is already registered, overwriting annotator template\n",
      "Warp 1.2.1 initialized:\n",
      "   CUDA Toolkit 11.8, Driver 12.2\n",
      "   Devices:\n",
      "     \"cpu\"      : \"x86_64\"\n",
      "     \"cuda:0\"   : \"NVIDIA GeForce RTX 4060 Laptop GPU\" (8 GiB, sm_89, mempool enabled)\n",
      "   Kernel cache:\n",
      "     /home/bai/.cache/warp/1.2.1\n",
      "[6.435s] [ext: omni.isaac.lula-3.0.1] startup\n",
      "[6.451s] [ext: omni.isaac.surface_gripper-1.0.1] startup\n",
      "[6.460s] [ext: omni.isaac.core_nodes-1.16.3] startup\n",
      "[6.505s] [ext: omni.isaac.motion_generation-7.1.0] startup\n",
      "[6.530s] [ext: omni.isaac.manipulators-2.1.0] startup\n",
      "[6.538s] [ext: omni.isaac.franka-0.4.1] startup\n",
      "[6.548s] [ext: omni.kit.graph.widget.variables-2.1.0] startup\n",
      "[6.556s] [ext: omni.kit.graph.delegate.modern-1.10.6] startup\n",
      "[6.569s] [ext: omni.isaac.cortex-0.3.9] startup\n",
      "[6.572s] [ext: omni.graph.window.core-1.113.1] startup\n",
      "[6.616s] [ext: omni.isaac.wheeled_robots-2.3.3] startup\n",
      "[6.643s] [ext: omni.isaac.cortex.sample_behaviors-1.0.6] startup\n",
      "[6.649s] [ext: omni.graph.window.generic-1.26.0] startup\n",
      "[6.685s] [ext: omni.isaac.menu-0.7.3] startup\n",
      "[6.698s] [ext: omni.kit.widget.live-2.1.8] startup\n",
      "[6.719s] [ext: omni.kit.actions.window-1.1.1] startup\n",
      "[6.760s] [ext: omni.kit.widget.cache_indicator-2.0.10] startup\n",
      "[6.937s] [ext: omni.kit.hotkeys.window-1.4.5] startup\n",
      "2024-10-28 07:50:36 [6,863ms] [Warning] [omni.kit.widget.cache_indicator.cache_state_menu] Unable to detect Omniverse Cache Server. Consider installing it for better IO performance.\n",
      "[6.954s] [ext: omni.kit.ui.actions-1.0.2] startup\n",
      "[6.958s] [ext: omni.kit.widget.stage_icons-1.0.5] startup\n",
      "[6.969s] [ext: omni.kit.menu.common-1.1.7] startup\n",
      "[6.973s] [ext: omni.kit.selection-0.1.4] startup\n",
      "[6.983s] [ext: omni.isaac.kit-1.13.2] startup\n",
      "[6.986s] [ext: omni.isaac.block_world-1.0.0] startup\n",
      "[6.996s] [ext: omni.kit.window.stage-2.5.10] startup\n",
      "[7.066s] [ext: omni.isaac.debug_draw-1.1.0] startup\n",
      "[7.080s] [ext: omni.kit.menu.edit-1.1.24] startup\n",
      "[7.092s] [ext: omni.kit.menu.file-1.1.14] startup\n",
      "[7.104s] [ext: omni.kit.profiler.window-2.2.3] startup\n",
      "[7.129s] [ext: omni.kit.menu.stage-1.2.5] startup\n",
      "[7.137s] [ext: omni.isaac.occupancy_map-1.0.3] startup\n",
      "[7.179s] [ext: omni.importer.mjcf-1.1.1] startup\n",
      "[7.210s] [ext: omni.graph.window.action-1.28.0] startup\n",
      "[7.239s] [ext: omni.kit.property.camera-1.0.8] startup\n",
      "[7.247s] [ext: omni.kit.property.light-1.0.10] startup\n",
      "[7.253s] [ext: omni.kit.property.geometry-1.3.1] startup\n",
      "[7.263s] [ext: omni.hydra.scene_api-0.1.2] startup\n",
      "[7.285s] [ext: omni.kit.property.audio-1.0.14] startup\n",
      "[7.301s] [ext: omni.kit.property.render-1.1.2] startup\n",
      "[7.313s] [ext: omni.kit.property.transform-1.5.9] startup\n",
      "[7.338s] [ext: omni.kit.property.material-1.10.8] startup\n",
      "[7.372s] [ext: omni.kit.widget.layers-1.8.0] startup\n",
      "[7.428s] [ext: omni.kit.property.isaac-0.2.3] startup\n",
      "[7.442s] [ext: omni.kit.property.bundle-1.3.1] startup\n",
      "[7.456s] [ext: omni.sensors.nv.common-1.2.2-isaac-1] startup\n",
      "[7.523s] [ext: omni.kit.property.layer-1.1.8] startup\n",
      "[7.536s] [ext: omni.kit.stage_column.payload-2.0.0] startup\n",
      "[7.546s] [ext: omni.isaac.scene_blox-0.1.2] startup\n",
      "[7.551s] [ext: omni.sensors.nv.materials-1.2.1-isaac-1] startup\n",
      "[7.566s] [ext: omni.sensors.nv.wpm-1.2.1-isaac-1] startup\n",
      "[7.574s] [ext: omni.kit.viewport.actions-106.0.2] startup\n",
      "[7.601s] [ext: omni.sensors.nv.lidar-1.2.2-isaac-1] startup\n",
      "[7.628s] [ext: omni.sensors.nv.radar-1.2.1-isaac-1] startup\n",
      "[7.651s] [ext: omni.kit.viewport.menubar.display-107.0.2] startup\n",
      "[7.657s] [ext: omni.kit.manipulator.transform-104.7.4] startup\n",
      "[7.663s] [ext: omni.kit.widget.toolbar-1.7.2] startup\n",
      "[7.678s] [ext: omni.sensors.tiled-0.0.6] startup\n",
      "[7.686s] [ext: omni.sensors.nv.ids-1.1.0-isaac-1] startup\n",
      "[7.707s] [ext: omni.isaac.range_sensor-3.1.2] startup\n",
      "[7.745s] [ext: omni.usdphysics.ui-106.1.9] startup\n",
      "[7.808s] [ext: omni.physx.commands-106.1.9] startup\n",
      "[7.816s] [ext: omni.kit.manipulator.tool.snap-1.5.11] startup\n",
      "[7.827s] [ext: omni.isaac.sensor-12.9.1] startup\n",
      "[7.978s] [ext: omni.kit.manipulator.selector-1.1.1] startup\n",
      "[7.987s] [ext: omni.physx.ui-106.1.9] startup\n",
      "[8.076s] [ext: omni.isaac.quadruped-2.0.1] startup\n",
      "[8.099s] [ext: omni.kit.viewport.manipulator.transform-107.0.2] startup\n",
      "[8.105s] [ext: omni.physx.demos-106.1.9] startup\n",
      "[8.143s] [ext: omni.kit.property.physx-106.1.9] startup\n",
      "[8.293s] [ext: omni.kit.widget.calendar-1.0.8] startup\n",
      "[8.298s] [ext: omni.kit.manipulator.prim.core-107.0.4] startup\n",
      "[8.310s] [ext: omni.fabric.commands-1.1.5] startup\n",
      "[8.316s] [ext: omni.physx.vehicle-106.1.9] startup\n",
      "[8.354s] [ext: omni.kit.widget.extended_searchfield-1.0.28] startup\n",
      "[8.387s] [ext: omni.kit.manipulator.prim.fabric-107.0.3] startup\n",
      "[8.397s] [ext: omni.kit.manipulator.prim.usd-107.0.2] startup\n",
      "[8.406s] [ext: omni.kit.widget.timeline-105.0.1] startup\n",
      "[8.419s] [ext: omni.kit.window.commands-0.2.6] startup\n",
      "[8.429s] [ext: omni.physx.camera-106.1.9] startup\n",
      "[8.505s] [ext: omni.kit.manipulator.camera-105.0.5] startup\n",
      "[8.523s] [ext: omni.kit.viewport.menubar.camera-107.0.2] startup\n",
      "[8.546s] [ext: omni.kit.manipulator.prim-107.0.0] startup\n",
      "[8.549s] [ext: omni.kit.manipulator.selection-106.0.1] startup\n",
      "[8.554s] [ext: omni.kit.window.toolbar-1.6.1] startup\n",
      "[8.566s] [ext: omni.kit.stage_column.variant-1.0.13] startup\n",
      "[8.576s] [ext: omni.kit.viewport.menubar.render-106.1.1] startup\n",
      "[8.589s] [ext: omni.kit.viewport.menubar.settings-107.0.3] startup\n",
      "[8.613s] [ext: omni.physx.cct-106.1.9] startup\n",
      "[8.678s] [ext: omni.physx.graph-106.1.9] startup\n",
      "[8.783s] [ext: omni.physx.supportui-106.1.9] startup\n",
      "[8.830s] [ext: omni.physx.telemetry-106.1.9] startup\n",
      "[8.835s] [ext: omni.graph.ui_nodes-1.26.0] startup\n",
      "[8.848s] [ext: omni.kit.viewport.bundle-104.0.1] startup\n",
      "[8.851s] [ext: omni.isaac.universal_robots-0.3.5] startup\n",
      "[8.856s] [ext: omni.kit.window.console-0.2.13] startup\n",
      "[8.884s] [ext: omni.kit.window.script_editor-1.7.6] startup\n",
      "[8.892s] [ext: omni.kit.menu.create-1.0.16] startup\n",
      "[8.899s] [ext: omni.graph.bundle.action-2.4.1] startup\n",
      "[8.907s] [ext: omni.physx.bundle-106.1.9] startup\n",
      "[8.911s] [ext: omni.rtx.window.settings-0.6.17] startup\n",
      "[8.941s] [ext: omni.kit.window.status_bar-0.1.7] startup\n",
      "[8.950s] [ext: omni.kit.window.title-1.1.5] startup\n",
      "[8.954s] [ext: omni.replicator.isaac-1.15.2] startup\n",
      "[9.013s] [ext: omni.replicator.replicator_yaml-2.0.6] startup\n",
      "[9.068s] [ext: omni.rtx.settings.core-0.6.3] startup\n",
      "[9.087s] [ext: omni.kit.viewport.menubar.lighting-106.0.2] startup\n",
      "[9.111s] [ext: semantics.schema.editor-0.3.8] startup\n",
      "[9.125s] [ext: semantics.schema.property-1.0.4] startup\n",
      "[9.128s] [ext: omni.kit.viewport.rtx-104.0.1] startup\n",
      "[9.130s] [ext: omni.isaac.utils-1.0.1] startup\n",
      "[9.139s] [ext: omni.isaac.cloner-0.8.1] startup\n",
      "[9.146s] [ext: omni.importer.urdf-1.14.1] startup\n",
      "[9.267s] [ext: omni.kit.window.stats-0.1.6] startup\n",
      "[9.281s] [ext: omni.isaac.sim.python-4.2.0] startup\n",
      "[9.286s] Simulation App Starting\n",
      "[13.902s] app ready\n",
      "[15.198s] Simulation App Startup Complete\n",
      "Robot articulation successfully loaded: <omni.isaac.core.robots.robot.Robot object at 0x7c061575f3a0>\n"
     ]
    },
    {
     "name": "stderr",
     "output_type": "stream",
     "text": [
      "Training Episodes:   0%|                                 | 0/10 [00:00<?, ?it/s]\n",
      "Episode 0:   0%|                                          | 0/3 [00:00<?, ?it/s]\u001b[A\n",
      "Episode 0: 100%|██████████████████████████████████| 3/3 [00:00<00:00, 26.28it/s]\u001b[A\n",
      "Training Episodes:  10%|██▌                      | 1/10 [00:02<00:22,  2.48s/it]\u001b[A"
     ]
    },
    {
     "name": "stdout",
     "output_type": "stream",
     "text": [
      "save checkpoint path : Model_Checkpoints/Ji_dog_0_Episode.pth\n",
      "Episode 0 completed.\n"
     ]
    },
    {
     "name": "stderr",
     "output_type": "stream",
     "text": [
      "\n",
      "Episode 1:   0%|                                          | 0/3 [00:00<?, ?it/s]\u001b[A\n",
      "Episode 1:  33%|███████████▎                      | 1/3 [00:00<00:00,  7.12it/s]\u001b[A\n",
      "Episode 1: 4it [00:00, 15.39it/s]                                               \u001b[A\n",
      "Training Episodes:  20%|█████                    | 2/10 [00:03<00:12,  1.54s/it]"
     ]
    },
    {
     "name": "stdout",
     "output_type": "stream",
     "text": [
      "save checkpoint path : Model_Checkpoints/Ji_dog_1_Episode.pth\n"
     ]
    },
    {
     "name": "stderr",
     "output_type": "stream",
     "text": [
      "\n",
      "Episode 2:   0%|                                          | 0/3 [00:00<?, ?it/s]\u001b[A\n",
      "Episode 2: 100%|██████████████████████████████████| 3/3 [00:00<00:00, 28.24it/s]\u001b[A\n",
      "Training Episodes:  30%|███████▌                 | 3/10 [00:04<00:08,  1.15s/it]\u001b[A"
     ]
    },
    {
     "name": "stdout",
     "output_type": "stream",
     "text": [
      "save checkpoint path : Model_Checkpoints/Ji_dog_2_Episode.pth\n"
     ]
    },
    {
     "name": "stderr",
     "output_type": "stream",
     "text": [
      "\n",
      "Episode 3:   0%|                                          | 0/3 [00:00<?, ?it/s]\u001b[A\n",
      "Episode 3: 100%|██████████████████████████████████| 3/3 [00:00<00:00, 28.13it/s]\u001b[A\n",
      "Training Episodes:  40%|██████████               | 4/10 [00:04<00:05,  1.05it/s]\u001b[A"
     ]
    },
    {
     "name": "stdout",
     "output_type": "stream",
     "text": [
      "save checkpoint path : Model_Checkpoints/Ji_dog_3_Episode.pth\n"
     ]
    },
    {
     "name": "stderr",
     "output_type": "stream",
     "text": [
      "\n",
      "Episode 4:   0%|                                          | 0/3 [00:00<?, ?it/s]\u001b[A\n",
      "Episode 4: 4it [00:00, 35.76it/s]                                               \u001b[A\n",
      "Training Episodes:  50%|████████████▌            | 5/10 [00:05<00:04,  1.20it/s]"
     ]
    },
    {
     "name": "stdout",
     "output_type": "stream",
     "text": [
      "save checkpoint path : Model_Checkpoints/Ji_dog_4_Episode.pth\n"
     ]
    },
    {
     "name": "stderr",
     "output_type": "stream",
     "text": [
      "\n",
      "Episode 5:   0%|                                          | 0/3 [00:00<?, ?it/s]\u001b[A\n",
      "Episode 5: 4it [00:00, 37.69it/s]                                               \u001b[A\n",
      "Training Episodes:  60%|███████████████          | 6/10 [00:05<00:02,  1.35it/s]"
     ]
    },
    {
     "name": "stdout",
     "output_type": "stream",
     "text": [
      "save checkpoint path : Model_Checkpoints/Ji_dog_5_Episode.pth\n"
     ]
    },
    {
     "name": "stderr",
     "output_type": "stream",
     "text": [
      "\n",
      "Episode 6:   0%|                                          | 0/3 [00:00<?, ?it/s]\u001b[A\n",
      "Episode 6: 4it [00:00, 36.49it/s]                                               \u001b[A\n",
      "Training Episodes:  70%|█████████████████▌       | 7/10 [00:06<00:01,  1.52it/s]"
     ]
    },
    {
     "name": "stdout",
     "output_type": "stream",
     "text": [
      "save checkpoint path : Model_Checkpoints/Ji_dog_6_Episode.pth\n"
     ]
    },
    {
     "name": "stderr",
     "output_type": "stream",
     "text": [
      "\n",
      "Episode 7:   0%|                                          | 0/3 [00:00<?, ?it/s]\u001b[A\n",
      "Episode 7: 4it [00:00, 38.22it/s]                                               \u001b[A\n",
      "Training Episodes:  80%|████████████████████     | 8/10 [00:06<00:01,  1.66it/s]"
     ]
    },
    {
     "name": "stdout",
     "output_type": "stream",
     "text": [
      "save checkpoint path : Model_Checkpoints/Ji_dog_7_Episode.pth\n"
     ]
    },
    {
     "name": "stderr",
     "output_type": "stream",
     "text": [
      "\n",
      "Episode 8:   0%|                                          | 0/3 [00:00<?, ?it/s]\u001b[A\n",
      "Episode 8: 4it [00:00, 34.41it/s]                                               \u001b[A\n",
      "Training Episodes:  90%|██████████████████████▌  | 9/10 [00:07<00:00,  1.68it/s]"
     ]
    },
    {
     "name": "stdout",
     "output_type": "stream",
     "text": [
      "save checkpoint path : Model_Checkpoints/Ji_dog_8_Episode.pth\n"
     ]
    },
    {
     "name": "stderr",
     "output_type": "stream",
     "text": [
      "\n",
      "Episode 9:   0%|                                          | 0/3 [00:00<?, ?it/s]\u001b[A\n",
      "Episode 9: 100%|██████████████████████████████████| 3/3 [00:00<00:00, 28.24it/s]\u001b[A\n",
      "Training Episodes: 100%|████████████████████████| 10/10 [00:08<00:00,  1.24it/s]\u001b[A"
     ]
    },
    {
     "name": "stdout",
     "output_type": "stream",
     "text": [
      "save checkpoint path : Model_Checkpoints/Ji_dog_9_Episode.pth\n",
      "Finished!\n"
     ]
    },
    {
     "name": "stderr",
     "output_type": "stream",
     "text": [
      "\n"
     ]
    }
   ],
   "source": [
    "# Environment and simulation setup\n",
    "from isaacsim import SimulationApp\n",
    "simulation_app = SimulationApp({\"headless\": True})\n",
    "\n",
    "from ji_dog_env_create import Ji_Dog_Env\n",
    "from tqdm import tqdm  \n",
    "import numpy as np\n",
    "\n",
    "if __name__ == \"__main__\":\n",
    "    env = Ji_Dog_Env()\n",
    "    state_dim = 20\n",
    "    action_dim = 4\n",
    "    max_training_timesteps = 10\n",
    "    max_timesteps = 3\n",
    "    ppo = PPO(state_dim, action_dim, lr_actor=0.0003, lr_critic=0.001, gamma=0.99, K_epochs=4, eps_clip=0.2)\n",
    "\n",
    "    for episode in tqdm(range(max_training_timesteps), desc=\"Training Episodes\"):\n",
    "        state = env.reset()\n",
    "        state = process_state(state)\n",
    "        state = np.array(state)\n",
    "\n",
    "        with tqdm(total=max_timesteps, desc=f\"Episode {episode}\", leave=False) as pbar:\n",
    "            for t in range(max_timesteps + 1):\n",
    "                action = ppo.select_action(state)\n",
    "                state, reward, done, _ = env.step(action[0])\n",
    "                state = process_state(state)\n",
    "                state = np.array(state)\n",
    "                ppo.buffer.rewards.append(reward)\n",
    "                ppo.buffer.is_terminals.append(done)\n",
    "\n",
    "                pbar.update(1)\n",
    "\n",
    "                if done:\n",
    "                    break\n",
    "                    \n",
    "        ppo.update()\n",
    "        save_path = \"Model_Checkpoints/Ji_dog_{}_Episode.pth\".format(episode)\n",
    "        print(\"save checkpoint path : \" + save_path)\n",
    "        ppo.save(save_path)\n",
    "        \n",
    "        if episode % 10 == 0:\n",
    "            print(f\"Episode {episode} completed.\")\n",
    "print('Finished!')"
   ]
  },
  {
   "cell_type": "code",
   "execution_count": null,
   "id": "a4ded4bd-c3d5-462d-82a0-fe7fc13e8622",
   "metadata": {},
   "outputs": [
    {
     "name": "stdout",
     "output_type": "stream",
     "text": [
      "2024-10-28 07:50:56 [26,136ms] [Warning] [omni.usd] Unexpected reference count of 2 for UsdStage 'anon:0x27066550:World0.usd' while being closed in UsdContext (this may indicate it is still resident in memory).\n"
     ]
    }
   ],
   "source": [
    "simulation_app.close()"
   ]
  },
  {
   "cell_type": "code",
   "execution_count": null,
   "id": "de8eb280-4e21-4f94-9841-2ad3ced03b42",
   "metadata": {},
   "outputs": [],
   "source": []
  },
  {
   "cell_type": "code",
   "execution_count": null,
   "id": "5d7f8cb9-5a88-4fc3-9165-c4424c652a7a",
   "metadata": {},
   "outputs": [],
   "source": []
  }
 ],
 "metadata": {
  "kernelspec": {
   "display_name": "Isaac Sim Python 3",
   "language": "python",
   "name": "isaac_sim_python3"
  },
  "language_info": {
   "codemirror_mode": {
    "name": "ipython",
    "version": 3
   },
   "file_extension": ".py",
   "mimetype": "text/x-python",
   "name": "python",
   "nbconvert_exporter": "python",
   "pygments_lexer": "ipython3",
   "version": "3.10.14"
  }
 },
 "nbformat": 4,
 "nbformat_minor": 5
}
