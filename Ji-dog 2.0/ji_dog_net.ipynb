{
 "cells": [
  {
   "cell_type": "code",
   "execution_count": 1,
   "id": "75acd808-8187-4452-9f57-ec52fd472397",
   "metadata": {},
   "outputs": [],
   "source": [
    "import torch\n",
    "import gym\n",
    "\n",
    "import numpy as np\n",
    "\n",
    "from ji_dog_net_v1 import PPO_Clip\n",
    "from ji_dog_net_v1 import ActorCritic_Clip\n",
    "from ji_dog_net_v1 import process_state\n",
    "\n",
    "from ji_dog_net_v2 import PPO_Penalty\n",
    "from ji_dog_net_v2 import ActorCritic_Penalty\n"
   ]
  },
  {
   "cell_type": "markdown",
   "id": "45f3836a-6b29-469c-bf79-7cb77672f023",
   "metadata": {},
   "source": [
    "## Check device"
   ]
  },
  {
   "cell_type": "code",
   "execution_count": 2,
   "id": "05c5a862-f6b9-4cd5-923c-4d2ed509dd5c",
   "metadata": {},
   "outputs": [
    {
     "name": "stdout",
     "output_type": "stream",
     "text": [
      "============================================================================================\n",
      "Device set to : NVIDIA GeForce RTX 4060 Laptop GPU\n",
      "============================================================================================\n"
     ]
    }
   ],
   "source": [
    "print(\"============================================================================================\")\n",
    "# set device to cpu or cuda\n",
    "device = torch.device('cpu')\n",
    "if(torch.cuda.is_available()): \n",
    "    device = torch.device('cuda:0') \n",
    "    torch.cuda.empty_cache()\n",
    "    print(\"Device set to : \" + str(torch.cuda.get_device_name(device)))\n",
    "else:\n",
    "    print(\"Device set to : cpu\")\n",
    "print(\"============================================================================================\")\n"
   ]
  },
  {
   "cell_type": "markdown",
   "id": "2e6f026d-a1a8-4b35-84b6-eb95dadbb871",
   "metadata": {},
   "source": [
    "## Test ACNet"
   ]
  },
  {
   "cell_type": "code",
   "execution_count": 3,
   "id": "000f3284-c8fe-4914-aad9-be59a2cb2e3a",
   "metadata": {},
   "outputs": [
    {
     "name": "stdout",
     "output_type": "stream",
     "text": [
      "Action output: tensor([[-0.4651,  0.8006, -0.5430,  0.7100]], device='cuda:0')\n",
      "Action log probability: tensor([-3.9341], device='cuda:0')\n",
      "State value output: tensor([0.0836], device='cuda:0', grad_fn=<ViewBackward0>)\n"
     ]
    }
   ],
   "source": [
    "from torchviz import make_dot\n",
    "state_dim = 20  \n",
    "action_dim = 4 \n",
    "ppo = PPO_Clip(state_dim, action_dim, lr_actor=0.0003, lr_critic=0.001, gamma=0.99, K_epochs=4, eps_clip=0.2)\n",
    "state = torch.rand((state_dim,)).to(device)  \n",
    "action, action_logprob, hidden_actor = ppo.policy.act(state)\n",
    "\n",
    "print(\"Action output:\", action)\n",
    "print(\"Action log probability:\", action_logprob)\n",
    "\n",
    "state_value = ppo.policy.evaluate_critic(state)\n",
    "\n",
    "print(\"State value output:\", state_value)\n",
    "\n",
    "ppo.buffer.rewards.append(1.0)\n",
    "ppo.buffer.is_terminals.append(False)\n"
   ]
  },
  {
   "cell_type": "code",
   "execution_count": 4,
   "id": "7f538080-d0d4-4c5c-ad89-c2685298155e",
   "metadata": {},
   "outputs": [
    {
     "name": "stdout",
     "output_type": "stream",
     "text": [
      "Action output: tensor([[ 0.9073,  0.3319, -0.4166,  0.7397]], device='cuda:0')\n",
      "Action log probability: tensor([-4.2100], device='cuda:0')\n",
      "State value output: tensor([0.0342], device='cuda:0', grad_fn=<ViewBackward0>)\n"
     ]
    }
   ],
   "source": [
    "from torchviz import make_dot\n",
    "state_dim = 20  \n",
    "action_dim = 4 \n",
    "ppo = PPO_Penalty(state_dim, action_dim, lr_actor=0.0003, lr_critic=0.001, gamma=0.99, K_epochs=4, eps_clip=0.2, kl_target=0.01, kl_penalty_coef=0.5, action_std_init=0.6)\n",
    "state = torch.rand((state_dim,)).to(device)  \n",
    "action, action_logprob, hidden_actor = ppo.policy.act(state)\n",
    "\n",
    "print(\"Action output:\", action)\n",
    "print(\"Action log probability:\", action_logprob)\n",
    "\n",
    "state_value = ppo.policy.evaluate_critic(state)\n",
    "\n",
    "print(\"State value output:\", state_value)\n",
    "\n",
    "ppo.buffer.rewards.append(1.0)\n",
    "ppo.buffer.is_terminals.append(False)"
   ]
  },
  {
   "cell_type": "markdown",
   "id": "457a6739-84b9-4042-a8ba-305c34c2564c",
   "metadata": {},
   "source": [
    "## Train PPO"
   ]
  },
  {
   "cell_type": "code",
   "execution_count": 5,
   "id": "468faa10-37bc-4564-94c5-0f7445fbcf19",
   "metadata": {},
   "outputs": [
    {
     "name": "stdout",
     "output_type": "stream",
     "text": [
      "Starting kit application with the following args:  ['/home/bai/.local/share/ov/pkg/isaac-sim-4.2.0/exts/omni.isaac.kit/omni/isaac/kit/simulation_app.py', '/home/bai/.local/share/ov/pkg/isaac-sim-4.2.0/apps/omni.isaac.sim.python.kit', '--/app/tokens/exe-path=/home/bai/.local/share/ov/pkg/isaac-sim-4.2.0/kit', '--/persistent/app/viewport/displayOptions=3094', '--/rtx/materialDb/syncLoads=True', '--/rtx/hydra/materialSyncLoads=True', '--/omni.kit.plugin/syncUsdLoads=True', '--/app/renderer/resolution/width=1280', '--/app/renderer/resolution/height=720', '--/app/window/width=1440', '--/app/window/height=900', '--/renderer/multiGpu/enabled=True', '--/app/fastShutdown=False', '--ext-folder', '/home/bai/.local/share/ov/pkg/isaac-sim-4.2.0/exts', '--ext-folder', '/home/bai/.local/share/ov/pkg/isaac-sim-4.2.0/apps', '--/physics/cudaDevice=0', '--portable', '--no-window', '--/app/window/hideUi=1']\n",
      "Passing the following args to the base kit application:  ['-f', '/home/bai/.local/share/jupyter/runtime/kernel-42904a06-4bbe-43a6-b180-322032aef73a.json']\n",
      "[Warning] [omni.isaac.kit.simulation_app] fast shutdown not supported with jupyter notebooks\n",
      "[Info] [carb] Logging to file: /home/bai/.local/share/ov/pkg/isaac-sim-4.2.0/kit/logs/Kit/Isaac-Sim/4.2/kit_20241108_232727.log\n",
      "2024-11-08 15:27:27 [0ms] [Warning] [omni.kit.app.plugin] No crash reporter present, dumps uploading isn't available.\n",
      "[0.103s] [ext: omni.blobkey-1.1.2] startup\n",
      "[0.104s] [ext: omni.kit.async_engine-0.0.1] startup\n",
      "[0.462s] [ext: omni.stats-1.0.1] startup\n",
      "[0.463s] [ext: omni.datastore-0.0.0] startup\n",
      "[0.467s] [ext: omni.client-1.2.0] startup\n",
      "[0.490s] [ext: omni.ujitso.default-1.0.0] startup\n",
      "[0.490s] [ext: omni.gpu_foundation.shadercache.vulkan-1.0.0] startup\n",
      "[0.492s] [ext: omni.hsscclient-1.1.1] startup\n",
      "[0.493s] [ext: omni.assets.plugins-0.0.0] startup\n",
      "[0.494s] [ext: omni.gpu_foundation-0.0.0] startup\n",
      "[0.499s] [ext: carb.windowing.plugins-1.0.0] startup\n",
      "[0.508s] [ext: omni.kit.renderer.init-0.0.0] startup\n",
      "2024-11-08 15:27:28 [590ms] [Warning] [gpu.foundation.plugin] Skipping unsupported non-NVIDIA GPU: Intel(R) Graphics (RPL-P)\n",
      "2024-11-08 15:27:28 [590ms] [Warning] [gpu.foundation.plugin] Skipping unsupported non-NVIDIA GPU: Intel(R) Graphics (RPL-P)\n",
      "\n",
      "|---------------------------------------------------------------------------------------------|\n",
      "| Driver Version: 535.183.01    | Graphics API: Vulkan\n",
      "|=============================================================================================|\n",
      "| GPU | Name                             | Active | LDA | GPU Memory | Vendor-ID | LUID       |\n",
      "|     |                                  |        |     |            | Device-ID | UUID       |\n",
      "|     |                                  |        |     |            | Bus-ID    |            |\n",
      "|---------------------------------------------------------------------------------------------|\n",
      "| 0   | NVIDIA GeForce RTX 4060 Laptop.. | Yes: 0 |     | 8188    MB | 10de      | 0          |\n",
      "|     |                                  |        |     |            | 28e0      | 68c71b6b.. |\n",
      "|     |                                  |        |     |            | 1         |            |\n",
      "|---------------------------------------------------------------------------------------------|\n",
      "| 1   | Intel(R) Graphics (RPL-P)        |        |     | 23863   MB | 8086      | 0          |\n",
      "|     |                                  |        |     |            | a7a0      | 8680a0a7.. |\n",
      "|     |                                  |        |     |            | 0         |            |\n",
      "|=============================================================================================|\n",
      "| OS: 22.04.5 LTS (Jammy Jellyfish) ubuntu, Version: 22.04.5, Kernel: 6.8.0-48-generic\n",
      "| XServer Vendor: The X.Org Foundation, XServer Version: 12101004 (1.21.1.4)\n",
      "| Processor: 13th Gen Intel(R) Core(TM) i9-13900H | Cores: 14 | Logical: 20\n",
      "|---------------------------------------------------------------------------------------------|\n",
      "| Total Memory (MB): 31817 | Free Memory: 20304\n",
      "| Total Page/Swap (MB): 2047 | Free Page/Swap: 2047\n",
      "|---------------------------------------------------------------------------------------------|\n",
      "2024-11-08 15:27:28 [790ms] [Warning] [gpu.foundation.plugin] IOMMU is enabled.\n",
      "[0.976s] [ext: omni.kit.pipapi-0.0.0] startup\n",
      "[0.977s] [ext: omni.kit.pip_archive-0.0.0] startup\n",
      "[0.977s] [ext: omni.pip.compute-1.4.0] startup\n",
      "[0.978s] [ext: omni.pip.cloud-1.1.3] startup\n",
      "[0.979s] [ext: omni.isaac.core_archive-2.3.0] startup\n",
      "[0.980s] [ext: omni.materialx.libs-1.0.4] startup\n",
      "[0.987s] [ext: omni.isaac.ml_archive-2.0.1] startup\n",
      "[0.987s] [ext: omni.kit.telemetry-0.5.0] startup\n",
      "[1.016s] [ext: omni.usd.config-1.0.4] startup\n",
      "[1.020s] [ext: omni.gpucompute.plugins-0.0.0] startup\n",
      "[1.021s] [ext: omni.usd.libs-1.0.1] startup\n",
      "[1.129s] [ext: omni.iray.libs-0.0.0] startup\n",
      "[1.132s] [ext: omni.mdl.neuraylib-0.2.8] startup\n",
      "[1.134s] [ext: omni.mdl-55.0.1] startup\n",
      "[1.155s] [ext: omni.kit.usd.mdl-1.0.1] startup\n",
      "[1.282s] [ext: omni.kit.loop-isaac-1.2.0] startup\n",
      "[1.283s] [ext: omni.kit.test-1.1.0] startup\n",
      "[1.307s] [ext: omni.appwindow-1.1.8] startup\n",
      "[1.309s] [ext: omni.kit.renderer.core-1.0.2] startup\n",
      "[1.319s] [ext: omni.kit.renderer.capture-0.0.0] startup\n",
      "[1.320s] [ext: omni.kit.renderer.imgui-1.0.1] startup\n",
      "[1.382s] [ext: omni.ui-2.25.22] startup\n",
      "[1.400s] [ext: omni.kit.mainwindow-1.0.3] startup\n",
      "[1.402s] [ext: carb.audio-0.1.0] startup\n",
      "[1.405s] [ext: omni.uiaudio-1.0.0] startup\n",
      "[1.406s] [ext: omni.kit.uiapp-0.0.0] startup\n",
      "[1.406s] [ext: omni.usd.schema.isaac-2.1.0] startup\n",
      "[1.419s] [ext: omni.usd.schema.audio-0.0.0] startup\n",
      "[1.427s] [ext: omni.usd.schema.anim-0.0.0] startup\n",
      "[1.452s] [ext: omni.usd.schema.geospatial-0.0.0] startup\n",
      "[1.455s] [ext: omni.usd.schema.semantics-0.0.0] startup\n",
      "[1.458s] [ext: omni.usd.schema.omnigraph-1.0.0] startup\n",
      "[1.466s] [ext: omni.anim.navigation.schema-106.1.0] startup\n",
      "[1.469s] [ext: omni.usd.schema.scene.visualization-2.0.2] startup\n",
      "[1.470s] [ext: omni.usd.schema.omniscripting-1.0.0] startup\n",
      "[1.476s] [ext: omni.anim.graph.schema-106.1.0] startup\n",
      "[1.483s] [ext: omni.usd.schema.physx-106.1.9] startup\n",
      "[1.518s] [ext: omni.usd.schema.forcefield-106.1.9] startup\n",
      "[1.525s] [ext: omni.graph.exec-0.9.4] startup\n",
      "[1.525s] [ext: omni.kit.usd_undo-0.1.8] startup\n",
      "[1.526s] [ext: omni.kit.actions.core-1.0.0] startup\n",
      "[1.527s] [ext: omni.kit.exec.core-0.13.4] startup\n",
      "[1.531s] [ext: omni.usd_resolver-1.0.0] startup\n",
      "[1.535s] [ext: omni.kit.commands-1.4.9] startup\n",
      "[1.538s] [ext: omni.activity.core-1.0.1] startup\n",
      "[1.539s] [ext: omni.usd.core-1.4.1] startup\n",
      "[1.543s] [ext: omni.resourcemonitor-105.0.1] startup\n",
      "[1.545s] [ext: omni.kit.window.popup_dialog-2.0.24] startup\n",
      "[1.550s] [ext: omni.timeline-1.0.10] startup\n",
      "[1.554s] [ext: omni.kit.widget.nucleus_connector-1.1.9] startup\n",
      "[1.557s] [ext: usdrt.scenegraph-7.5.0] startup\n",
      "[1.615s] [ext: omni.kit.audiodeviceenum-1.0.1] startup\n",
      "[1.616s] [ext: omni.hydra.usdrt_delegate-7.5.1] startup\n",
      "[1.632s] [ext: omni.hydra.scene_delegate-0.3.3] startup\n",
      "[1.637s] [ext: omni.usd-1.12.2] startup\n",
      "[1.689s] [ext: omni.kit.menu.core-1.0.4] startup\n",
      "[1.689s] [ext: omni.kit.collaboration.telemetry-1.0.0] startup\n",
      "[1.690s] [ext: omni.kit.property.adapter.core-1.0.1] startup\n",
      "[1.692s] [ext: omni.kit.menu.utils-1.5.27] startup\n",
      "[1.698s] [ext: omni.kit.clipboard-1.0.4] startup\n",
      "[1.699s] [ext: omni.kit.collaboration.channel_manager-1.0.12] startup\n",
      "[1.700s] [ext: omni.kit.property.adapter.usd-1.0.1] startup\n",
      "[1.700s] [ext: omni.kit.widget.options_menu-1.1.6] startup\n",
      "[1.703s] [ext: omni.kit.widget.graph-1.12.15] startup\n",
      "[1.707s] [ext: omni.kit.widget.searchfield-1.1.8] startup\n",
      "[1.708s] [ext: omni.kit.widget.filter-1.1.4] startup\n",
      "[1.708s] [ext: omni.kit.property.adapter.fabric-1.0.1] startup\n",
      "[1.709s] [ext: omni.ui_query-1.1.4] startup\n",
      "[1.710s] [ext: omni.kit.window.extensions-1.4.11] startup\n",
      "[1.714s] [ext: omni.kit.usd.layers-2.1.36] startup\n",
      "[1.722s] [ext: omni.kit.widget.context_menu-1.2.2] startup\n",
      "[1.723s] [ext: omni.hydra.rtx.shadercache.vulkan-1.0.0] startup\n",
      "[1.724s] [ext: omni.kit.notification_manager-1.0.9] startup\n",
      "[1.726s] [ext: omni.kit.hotkeys.core-1.3.5] startup\n",
      "[1.726s] [ext: omni.kit.context_menu-1.8.1] startup\n",
      "[1.728s] [ext: omni.kit.widget.prompt-1.0.7] startup\n",
      "[1.728s] [ext: omni.kit.helper.file_utils-0.1.8] startup\n",
      "[1.730s] [ext: omni.kit.widget.nucleus_info-1.0.2] startup\n",
      "[1.730s] [ext: omni.kit.widget.filebrowser-2.10.51] startup\n",
      "[1.733s] [ext: omni.kit.search_core-1.0.5] startup\n",
      "[1.734s] [ext: omni.kit.widget.path_field-2.0.10] startup\n",
      "[1.735s] [ext: omni.ui.scene-1.10.3] startup\n",
      "[1.739s] [ext: omni.kit.widget.search_delegate-1.0.5] startup\n",
      "[1.740s] [ext: omni.kit.widget.options_button-1.0.3] startup\n",
      "[1.741s] [ext: omni.kit.widget.browser_bar-2.0.10] startup\n",
      "[1.741s] [ext: omni.volume-0.5.0] startup\n",
      "[1.744s] [ext: omni.kit.window.filepicker-2.10.40] startup\n",
      "[1.751s] [ext: omni.ujitso.processor.texture-1.0.0] startup\n",
      "[1.752s] [ext: omni.kit.window.file_exporter-1.0.30] startup\n",
      "[1.754s] [ext: omni.ujitso.client-0.0.0] startup\n",
      "[1.754s] [ext: omni.kit.widget.stage-2.11.2] startup\n",
      "[1.763s] [ext: omni.kit.widget.live_session_management.ui-1.0.1] startup\n",
      "[1.765s] [ext: omni.kit.collaboration.presence_layer-1.0.9] startup\n",
      "[1.767s] [ext: omni.hydra.rtx-1.0.0] startup\n",
      "[1.788s] [ext: omni.inspect-1.0.1] startup\n",
      "[1.790s] [ext: omni.kit.widget.searchable_combobox-1.0.6] startup\n",
      "[1.791s] [ext: omni.kit.window.file_importer-1.1.12] startup\n",
      "[1.792s] [ext: omni.kit.stage_template.core-1.1.22] startup\n",
      "[1.792s] [ext: omni.kit.widget.settings-1.2.2] startup\n",
      "[1.794s] [ext: omni.kit.window.file-1.3.54] startup\n",
      "[1.796s] [ext: omni.kit.window.drop_support-1.0.3] startup\n",
      "[1.797s] [ext: omni.kit.window.content_browser_registry-0.0.6] startup\n",
      "[1.797s] [ext: omni.kit.window.preferences-1.6.0] startup\n",
      "[1.804s] [ext: omni.kit.window.content_browser-2.9.18] startup\n",
      "[1.817s] [ext: omni.kit.widget.live_session_management-1.2.20] startup\n",
      "[1.820s] [ext: omni.kit.widget.text_editor-1.0.2] startup\n",
      "[1.821s] [ext: omni.kit.hydra_texture-1.3.9] startup\n",
      "[1.825s] [ext: omni.kit.viewport.legacy_gizmos-1.1.0] startup\n",
      "[1.828s] [ext: omni.kit.raycast.query-1.0.5] startup\n",
      "[1.834s] [ext: omni.kit.material.library-1.5.6] startup\n",
      "[1.840s] [ext: omni.kit.widget.viewport-106.1.0] startup\n",
      "[1.843s] [ext: omni.kit.viewport.registry-104.0.6] startup\n",
      "[1.844s] [ext: omni.hydra.engine.stats-1.0.2] startup\n",
      "[1.847s] [ext: omni.kit.widget.highlight_label-1.0.2] startup\n",
      "[1.847s] [ext: omni.kit.viewport.window-107.0.6] startup\n",
      "[1.864s] [ext: omni.kit.window.property-1.11.3] startup\n",
      "[1.866s] [ext: omni.graph.core-2.179.2] startup\n",
      "[1.868s] [ext: omni.graph.tools-1.79.0] startup\n",
      "[1.887s] [ext: omni.kit.viewport.utility-1.0.17] startup\n",
      "[1.888s] [ext: omni.kit.property.usd-4.2.8] startup\n",
      "[1.896s] [ext: omni.debugdraw-0.1.3] startup\n",
      "[1.900s] [ext: omni.graph-1.140.0] startup\n",
      "[1.939s] [ext: omni.graph.ui-1.70.2] startup\n",
      "[1.954s] [ext: omni.kvdb-106.1.9] startup\n",
      "[1.958s] [ext: omni.graph.image.core-0.4.5] startup\n",
      "[1.961s] [ext: omni.localcache-106.1.9] startup\n",
      "[1.962s] [ext: omni.graph.image.nodes-1.1.0] startup\n",
      "[1.966s] [ext: omni.usdphysics-106.1.9] startup\n",
      "[1.971s] [ext: omni.physx.foundation-106.1.9] startup\n",
      "[1.973s] [ext: omni.convexdecomposition-106.1.9] startup\n",
      "[1.980s] [ext: omni.graph.nodes-1.146.1] startup\n",
      "[1.998s] [ext: omni.physx.cooking-106.1.9] startup\n",
      "[2.012s] [ext: omni.kit.primitive.mesh-1.0.17] startup\n",
      "[2.015s] [ext: omni.physx-106.1.9] startup\n",
      "[2.031s] [ext: omni.kit.stage_templates-1.2.5] startup\n",
      "[2.033s] [ext: omni.isaac.version-1.1.0] startup\n",
      "[2.035s] [ext: omni.kit.widget.material_preview-1.0.16] startup\n",
      "[2.037s] [ext: omni.isaac.nucleus-0.3.1] startup\n",
      "[2.039s] [ext: omni.physics.tensors-106.1.9] startup\n",
      "[2.048s] [ext: omni.physx.stageupdate-106.1.9] startup\n",
      "[2.050s] [ext: omni.graph.action_core-1.1.6] startup\n",
      "[2.055s] [ext: omni.warp.core-1.2.1] startup\n",
      "[2.145s] [ext: omni.physx.tensors-106.1.9] startup\n",
      "[2.151s] [ext: omni.graph.scriptnode-1.20.1] startup\n",
      "[2.152s] [ext: omni.kit.manipulator.viewport-107.0.0] startup\n",
      "[2.154s] [ext: omni.graph.action_nodes-1.24.0] startup\n",
      "[2.164s] [ext: omni.kit.ui_test-1.3.2] startup\n",
      "[2.169s] [ext: omni.isaac.core-3.19.5] startup\n",
      "[2.451s] [ext: omni.graph.visualization.nodes-2.1.1] startup\n",
      "[2.457s] [ext: omni.graph.action-1.102.1] startup\n",
      "[2.459s] [ext: omni.kit.window.cursor-1.1.2] startup\n",
      "[2.461s] [ext: omni.isaac.ui-0.16.0] startup\n",
      "[2.467s] [ext: omni.kit.viewport.menubar.core-106.1.0] startup\n",
      "[2.489s] [ext: omni.kit.graph.delegate.default-1.2.2] startup\n",
      "[2.490s] [ext: omni.syntheticdata-0.6.9] startup\n",
      "[2.520s] [ext: omni.kit.graph.usd.commands-1.3.1] startup\n",
      "[2.523s] [ext: omni.kit.graph.editor.core-1.5.3] startup\n",
      "[2.529s] [ext: omni.kit.numpy.common-0.1.2] startup\n",
      "[2.531s] [ext: omni.warp-1.2.1] startup\n",
      "[2.536s] [ext: omni.kit.window.material_graph-1.8.18] startup\n",
      "[2.686s] [ext: omni.isaac.dynamic_control-1.3.8] startup\n",
      "[2.705s] [ext: omni.replicator.core-1.11.20] startup\n",
      "2024-11-08 15:27:30 [2,661ms] [Warning] [omni.replicator.core.scripts.annotators] Annotator PostProcessDispatch is already registered, overwriting annotator template\n",
      "Warp 1.2.1 initialized:\n",
      "   CUDA Toolkit 11.8, Driver 12.2\n",
      "   Devices:\n",
      "     \"cpu\"      : \"x86_64\"\n",
      "     \"cuda:0\"   : \"NVIDIA GeForce RTX 4060 Laptop GPU\" (8 GiB, sm_89, mempool enabled)\n",
      "   Kernel cache:\n",
      "     /home/bai/.cache/warp/1.2.1\n",
      "[2.839s] [ext: omni.isaac.lula-3.0.1] startup\n",
      "[2.848s] [ext: omni.isaac.surface_gripper-1.0.1] startup\n",
      "[2.853s] [ext: omni.isaac.core_nodes-1.16.3] startup\n",
      "[2.880s] [ext: omni.isaac.motion_generation-7.1.0] startup\n",
      "[2.920s] [ext: omni.isaac.manipulators-2.1.0] startup\n",
      "[2.934s] [ext: omni.isaac.franka-0.4.1] startup\n",
      "[2.943s] [ext: omni.kit.graph.widget.variables-2.1.0] startup\n",
      "[2.963s] [ext: omni.kit.graph.delegate.modern-1.10.6] startup\n",
      "[3.011s] [ext: omni.isaac.cortex-0.3.9] startup\n",
      "[3.033s] [ext: omni.graph.window.core-1.113.1] startup\n",
      "[3.095s] [ext: omni.isaac.wheeled_robots-2.3.3] startup\n",
      "[3.121s] [ext: omni.isaac.cortex.sample_behaviors-1.0.6] startup\n",
      "[3.127s] [ext: omni.graph.window.generic-1.26.0] startup\n",
      "[3.150s] [ext: omni.isaac.menu-0.7.3] startup\n",
      "[3.174s] [ext: omni.kit.widget.live-2.1.8] startup\n",
      "[3.184s] [ext: omni.kit.actions.window-1.1.1] startup\n",
      "[3.209s] [ext: omni.kit.widget.cache_indicator-2.0.10] startup\n",
      "[3.373s] [ext: omni.kit.hotkeys.window-1.4.5] startup\n",
      "2024-11-08 15:27:31 [3,306ms] [Warning] [omni.kit.widget.cache_indicator.cache_state_menu] Unable to detect Omniverse Cache Server. Consider installing it for better IO performance.\n",
      "[3.431s] [ext: omni.kit.ui.actions-1.0.2] startup\n",
      "[3.432s] [ext: omni.kit.widget.stage_icons-1.0.5] startup\n",
      "[3.434s] [ext: omni.kit.menu.common-1.1.7] startup\n",
      "[3.435s] [ext: omni.kit.selection-0.1.4] startup\n",
      "[3.436s] [ext: omni.isaac.kit-1.13.2] startup\n",
      "[3.437s] [ext: omni.isaac.block_world-1.0.0] startup\n",
      "[3.441s] [ext: omni.kit.window.stage-2.5.10] startup\n",
      "[3.447s] [ext: omni.isaac.debug_draw-1.1.0] startup\n",
      "[3.452s] [ext: omni.kit.menu.edit-1.1.24] startup\n",
      "[3.458s] [ext: omni.kit.menu.file-1.1.14] startup\n",
      "[3.460s] [ext: omni.kit.profiler.window-2.2.3] startup\n",
      "[3.467s] [ext: omni.kit.menu.stage-1.2.5] startup\n",
      "[3.470s] [ext: omni.isaac.occupancy_map-1.0.3] startup\n",
      "[3.481s] [ext: omni.importer.mjcf-1.1.1] startup\n",
      "[3.513s] [ext: omni.graph.window.action-1.28.0] startup\n",
      "[3.527s] [ext: omni.kit.property.camera-1.0.8] startup\n",
      "[3.528s] [ext: omni.kit.property.light-1.0.10] startup\n",
      "[3.532s] [ext: omni.kit.property.geometry-1.3.1] startup\n",
      "[3.537s] [ext: omni.hydra.scene_api-0.1.2] startup\n",
      "[3.546s] [ext: omni.kit.property.audio-1.0.14] startup\n",
      "[3.550s] [ext: omni.kit.property.render-1.1.2] startup\n",
      "[3.551s] [ext: omni.kit.property.transform-1.5.9] startup\n",
      "[3.555s] [ext: omni.kit.property.material-1.10.8] startup\n",
      "[3.562s] [ext: omni.kit.widget.layers-1.8.0] startup\n",
      "[3.580s] [ext: omni.kit.property.isaac-0.2.3] startup\n",
      "[3.583s] [ext: omni.kit.property.bundle-1.3.1] startup\n",
      "[3.585s] [ext: omni.sensors.nv.common-1.2.2-isaac-1] startup\n",
      "[3.597s] [ext: omni.kit.property.layer-1.1.8] startup\n",
      "[3.599s] [ext: omni.kit.stage_column.payload-2.0.0] startup\n",
      "[3.602s] [ext: omni.isaac.scene_blox-0.1.2] startup\n",
      "[3.603s] [ext: omni.sensors.nv.materials-1.2.1-isaac-1] startup\n",
      "[3.606s] [ext: omni.sensors.nv.wpm-1.2.1-isaac-1] startup\n",
      "[3.608s] [ext: omni.kit.viewport.actions-106.0.2] startup\n",
      "[3.614s] [ext: omni.sensors.nv.lidar-1.2.2-isaac-1] startup\n",
      "[3.620s] [ext: omni.sensors.nv.radar-1.2.1-isaac-1] startup\n",
      "[3.627s] [ext: omni.kit.viewport.menubar.display-107.0.2] startup\n",
      "[3.628s] [ext: omni.kit.manipulator.transform-104.7.4] startup\n",
      "[3.632s] [ext: omni.kit.widget.toolbar-1.7.2] startup\n",
      "[3.638s] [ext: omni.sensors.tiled-0.0.6] startup\n",
      "[3.640s] [ext: omni.sensors.nv.ids-1.1.0-isaac-1] startup\n",
      "[3.646s] [ext: omni.isaac.range_sensor-3.1.2] startup\n",
      "[3.658s] [ext: omni.usdphysics.ui-106.1.9] startup\n",
      "[3.683s] [ext: omni.physx.commands-106.1.9] startup\n",
      "[3.687s] [ext: omni.kit.manipulator.tool.snap-1.5.11] startup\n",
      "[3.692s] [ext: omni.isaac.sensor-12.9.1] startup\n",
      "[3.757s] [ext: omni.kit.manipulator.selector-1.1.1] startup\n",
      "[3.760s] [ext: omni.physx.ui-106.1.9] startup\n",
      "[3.800s] [ext: omni.isaac.quadruped-2.0.1] startup\n",
      "[3.809s] [ext: omni.kit.viewport.manipulator.transform-107.0.2] startup\n",
      "[3.812s] [ext: omni.physx.demos-106.1.9] startup\n",
      "[3.833s] [ext: omni.kit.property.physx-106.1.9] startup\n",
      "[3.915s] [ext: omni.kit.widget.calendar-1.0.8] startup\n",
      "[3.918s] [ext: omni.kit.manipulator.prim.core-107.0.4] startup\n",
      "[3.927s] [ext: omni.fabric.commands-1.1.5] startup\n",
      "[3.933s] [ext: omni.physx.vehicle-106.1.9] startup\n",
      "[3.955s] [ext: omni.kit.widget.extended_searchfield-1.0.28] startup\n",
      "[3.963s] [ext: omni.kit.manipulator.prim.fabric-107.0.3] startup\n",
      "[3.966s] [ext: omni.kit.manipulator.prim.usd-107.0.2] startup\n",
      "[3.967s] [ext: omni.kit.widget.timeline-105.0.1] startup\n",
      "[3.971s] [ext: omni.kit.window.commands-0.2.6] startup\n",
      "[3.972s] [ext: omni.physx.camera-106.1.9] startup\n",
      "[3.985s] [ext: omni.kit.manipulator.camera-105.0.5] startup\n",
      "[3.989s] [ext: omni.kit.viewport.menubar.camera-107.0.2] startup\n",
      "[3.994s] [ext: omni.kit.manipulator.prim-107.0.0] startup\n",
      "[3.994s] [ext: omni.kit.manipulator.selection-106.0.1] startup\n",
      "[3.995s] [ext: omni.kit.window.toolbar-1.6.1] startup\n",
      "[3.998s] [ext: omni.kit.stage_column.variant-1.0.13] startup\n",
      "[4.000s] [ext: omni.kit.viewport.menubar.render-106.1.1] startup\n",
      "[4.003s] [ext: omni.kit.viewport.menubar.settings-107.0.3] startup\n",
      "[4.007s] [ext: omni.physx.cct-106.1.9] startup\n",
      "[4.021s] [ext: omni.physx.graph-106.1.9] startup\n",
      "[4.043s] [ext: omni.physx.supportui-106.1.9] startup\n",
      "[4.068s] [ext: omni.physx.telemetry-106.1.9] startup\n",
      "[4.071s] [ext: omni.graph.ui_nodes-1.26.0] startup\n",
      "[4.076s] [ext: omni.kit.viewport.bundle-104.0.1] startup\n",
      "[4.077s] [ext: omni.isaac.universal_robots-0.3.5] startup\n",
      "[4.078s] [ext: omni.kit.window.console-0.2.13] startup\n",
      "[4.089s] [ext: omni.kit.window.script_editor-1.7.6] startup\n",
      "[4.092s] [ext: omni.kit.menu.create-1.0.16] startup\n",
      "[4.095s] [ext: omni.graph.bundle.action-2.4.1] startup\n",
      "[4.096s] [ext: omni.physx.bundle-106.1.9] startup\n",
      "[4.097s] [ext: omni.rtx.window.settings-0.6.17] startup\n",
      "[4.104s] [ext: omni.kit.window.status_bar-0.1.7] startup\n",
      "[4.110s] [ext: omni.kit.window.title-1.1.5] startup\n",
      "[4.111s] [ext: omni.replicator.isaac-1.15.2] startup\n",
      "[4.131s] [ext: omni.replicator.replicator_yaml-2.0.6] startup\n",
      "[4.163s] [ext: omni.rtx.settings.core-0.6.3] startup\n",
      "[4.191s] [ext: omni.kit.viewport.menubar.lighting-106.0.2] startup\n",
      "[4.213s] [ext: semantics.schema.editor-0.3.8] startup\n",
      "[4.223s] [ext: semantics.schema.property-1.0.4] startup\n",
      "[4.225s] [ext: omni.kit.viewport.rtx-104.0.1] startup\n",
      "[4.227s] [ext: omni.isaac.utils-1.0.1] startup\n",
      "[4.232s] [ext: omni.isaac.cloner-0.8.1] startup\n",
      "[4.236s] [ext: omni.importer.urdf-1.14.1] startup\n",
      "[4.283s] [ext: omni.kit.window.stats-0.1.6] startup\n",
      "[4.290s] [ext: omni.isaac.sim.python-4.2.0] startup\n",
      "[4.292s] Simulation App Starting\n",
      "[6.091s] app ready\n",
      "[6.670s] Simulation App Startup Complete\n",
      "Robot articulation successfully loaded: <omni.isaac.core.robots.robot.Robot object at 0x731c777da5f0>\n"
     ]
    },
    {
     "name": "stderr",
     "output_type": "stream",
     "text": [
      "Training Episodes:   1%|▏                       | 1/100 [00:11<18:11, 11.03s/it]"
     ]
    },
    {
     "name": "stdout",
     "output_type": "stream",
     "text": [
      "Episode 0 completed with reward: -4.000000742996564\n"
     ]
    },
    {
     "name": "stderr",
     "output_type": "stream",
     "text": [
      "Training Episodes:  11%|██▌                    | 11/100 [01:47<14:17,  9.63s/it]"
     ]
    },
    {
     "name": "stdout",
     "output_type": "stream",
     "text": [
      "Episode 10 completed with reward: -4.0000006833919635\n"
     ]
    },
    {
     "name": "stderr",
     "output_type": "stream",
     "text": [
      "Training Episodes:  21%|████▊                  | 21/100 [03:23<12:34,  9.55s/it]"
     ]
    },
    {
     "name": "stdout",
     "output_type": "stream",
     "text": [
      "Episode 20 completed with reward: -4.000000713194264\n"
     ]
    },
    {
     "name": "stderr",
     "output_type": "stream",
     "text": [
      "Training Episodes:  31%|███████▏               | 31/100 [05:00<11:07,  9.68s/it]"
     ]
    },
    {
     "name": "stdout",
     "output_type": "stream",
     "text": [
      "Episode 30 completed with reward: -4.0000007131942645\n"
     ]
    },
    {
     "name": "stderr",
     "output_type": "stream",
     "text": [
      "Training Episodes:  41%|█████████▍             | 41/100 [06:38<09:46,  9.94s/it]"
     ]
    },
    {
     "name": "stdout",
     "output_type": "stream",
     "text": [
      "Episode 40 completed with reward: -4.0000007131942645\n"
     ]
    },
    {
     "name": "stderr",
     "output_type": "stream",
     "text": [
      "Training Episodes:  51%|███████████▋           | 51/100 [08:17<08:02,  9.85s/it]"
     ]
    },
    {
     "name": "stdout",
     "output_type": "stream",
     "text": [
      "Episode 50 completed with reward: -4.000000623787356\n"
     ]
    },
    {
     "name": "stderr",
     "output_type": "stream",
     "text": [
      "Training Episodes:  61%|██████████████         | 61/100 [09:55<06:21,  9.79s/it]"
     ]
    },
    {
     "name": "stdout",
     "output_type": "stream",
     "text": [
      "Episode 60 completed with reward: -4.0000007131942645\n"
     ]
    },
    {
     "name": "stderr",
     "output_type": "stream",
     "text": [
      "Training Episodes:  71%|████████████████▎      | 71/100 [11:38<05:06, 10.57s/it]"
     ]
    },
    {
     "name": "stdout",
     "output_type": "stream",
     "text": [
      "Episode 70 completed with reward: -4.00000065358966\n"
     ]
    },
    {
     "name": "stderr",
     "output_type": "stream",
     "text": [
      "Training Episodes:  81%|██████████████████▋    | 81/100 [13:28<03:31, 11.15s/it]"
     ]
    },
    {
     "name": "stdout",
     "output_type": "stream",
     "text": [
      "Episode 80 completed with reward: -4.000000683391962\n"
     ]
    },
    {
     "name": "stderr",
     "output_type": "stream",
     "text": [
      "Training Episodes:  91%|████████████████████▉  | 91/100 [15:19<01:38, 10.97s/it]"
     ]
    },
    {
     "name": "stdout",
     "output_type": "stream",
     "text": [
      "Episode 90 completed with reward: -4.000000772798864\n"
     ]
    },
    {
     "name": "stderr",
     "output_type": "stream",
     "text": [
      "Training Episodes: 100%|██████████████████████| 100/100 [17:00<00:00, 10.20s/it]"
     ]
    },
    {
     "name": "stdout",
     "output_type": "stream",
     "text": [
      "save checkpoint path : Model_Checkpoints/Ji_dog_1.0_Episode.pth\n",
      "Finished!\n"
     ]
    },
    {
     "name": "stderr",
     "output_type": "stream",
     "text": [
      "\n"
     ]
    }
   ],
   "source": [
    "# Environment and simulation setup\n",
    "from isaacsim import SimulationApp\n",
    "simulation_app = SimulationApp({\"headless\": True})\n",
    "\n",
    "from torch.utils.tensorboard import SummaryWriter\n",
    "\n",
    "from ji_dog_env_create import Ji_Dog_Env\n",
    "from tqdm import tqdm  \n",
    "import numpy as np\n",
    "\n",
    "if __name__ == \"__main__\":\n",
    "    env = Ji_Dog_Env('/home/bai/.local/share/ov/pkg/isaac-sim-4.2.0/Ji-dog 2.0/Model(including video)/ji_dog1.0.usd')\n",
    "    state_dim = 20\n",
    "    action_dim = 4\n",
    "    max_training_timesteps = 100\n",
    "    max_timesteps = 500\n",
    "    ppo = PPO_Clip(state_dim, action_dim, lr_actor=0.0003, lr_critic=0.001, gamma=0.99, K_epochs=4, eps_clip=0.2)\n",
    "\n",
    "    # Initialize \n",
    "    writer = SummaryWriter(log_dir=\"runs/Ji_Dog_Training\")\n",
    "\n",
    "    for episode in tqdm(range(max_training_timesteps), desc=\"Training Episodes\"):\n",
    "        state = env.reset()\n",
    "        state = process_state(state)\n",
    "        state = np.array(state)\n",
    "    \n",
    "        for t in range(max_timesteps + 1):\n",
    "            action = ppo.select_action(state)\n",
    "            state, reward, done, _ = env.step(action[0])\n",
    "            state = process_state(state)\n",
    "            state = np.array(state)\n",
    "            ppo.buffer.rewards.append(reward)\n",
    "            ppo.buffer.is_terminals.append(done)\n",
    "    \n",
    "            if done:\n",
    "                break\n",
    "                    \n",
    "        # Update PPO and record metrics\n",
    "        average_loss, policy_loss, value_loss, policy_entropy = ppo.update()\n",
    "\n",
    "        # Log metrics to TensorBoard\n",
    "        writer.add_scalar(\"Average Loss\", average_loss, episode)\n",
    "        writer.add_scalar(\"Policy Entropy\", policy_entropy, episode)\n",
    "        writer.add_scalar(\"Value Loss\", value_loss, episode)\n",
    "        writer.add_scalar(\"Policy Loss\", policy_loss, episode)\n",
    "        writer.add_scalar(\"Episode Reward\", reward, episode)\n",
    "        \n",
    "        if episode % 10 == 0:\n",
    "            print(f\"Episode {episode} completed with reward: {reward}\")\n",
    "\n",
    "    \n",
    "    \n",
    "    writer.close()\n",
    "\n",
    "save_path = \"Model_Checkpoints/Ji_dog_{}_Episode.pth\".format('1.0')\n",
    "print(\"save checkpoint path : \" + save_path)\n",
    "ppo.save(save_path)\n",
    "print('Finished!')"
   ]
  },
  {
   "cell_type": "code",
   "execution_count": null,
   "id": "a4ded4bd-c3d5-462d-82a0-fe7fc13e8622",
   "metadata": {},
   "outputs": [],
   "source": [
    "\n",
    "\n",
    "\n",
    "simulation_app.close()"
   ]
  },
  {
   "cell_type": "code",
   "execution_count": null,
   "id": "de8eb280-4e21-4f94-9841-2ad3ced03b42",
   "metadata": {},
   "outputs": [],
   "source": [
    "\n"
   ]
  },
  {
   "cell_type": "code",
   "execution_count": null,
   "id": "5d7f8cb9-5a88-4fc3-9165-c4424c652a7a",
   "metadata": {},
   "outputs": [],
   "source": []
  },
  {
   "cell_type": "code",
   "execution_count": null,
   "id": "6422a160-ba59-4ad6-b605-b8efcf1977e1",
   "metadata": {},
   "outputs": [],
   "source": []
  }
 ],
 "metadata": {
  "kernelspec": {
   "display_name": "Isaac Sim Python 3",
   "language": "python",
   "name": "isaac_sim_python3"
  },
  "language_info": {
   "codemirror_mode": {
    "name": "ipython",
    "version": 3
   },
   "file_extension": ".py",
   "mimetype": "text/x-python",
   "name": "python",
   "nbconvert_exporter": "python",
   "pygments_lexer": "ipython3",
   "version": "3.10.14"
  }
 },
 "nbformat": 4,
 "nbformat_minor": 5
}
